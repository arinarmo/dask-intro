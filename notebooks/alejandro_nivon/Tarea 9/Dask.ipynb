{
 "cells": [
  {
   "cell_type": "markdown",
   "metadata": {},
   "source": [
    "# Tarea 9 : SciKit en paralelo"
   ]
  },
  {
   "cell_type": "markdown",
   "metadata": {},
   "source": [
    "Se hará una comparación entre el tiempo de ejecución de un bosque aleatorio ejecutado de forma secuencial vs el mismo bosque aleatorio ejecutado en paralelo.\n",
    "\n",
    "Se buscará hacer un pronostico de la proporción de propina dejada por un usuario de taxi."
   ]
  },
  {
   "cell_type": "markdown",
   "metadata": {},
   "source": [
    "## Paquetería"
   ]
  },
  {
   "cell_type": "code",
   "execution_count": 1,
   "metadata": {},
   "outputs": [],
   "source": [
    "from dask.distributed import Client\n",
    "from dask import delayed\n",
    "from sklearn.model_selection import train_test_split\n",
    "from sklearn.ensemble import RandomForestRegressor\n",
    "from sklearn.model_selection import GridSearchCV\n",
    "from sklearn.metrics import mean_squared_error\n",
    "from datetime import datetime\n",
    "import numpy as np\n",
    "import pandas as pd\n",
    "import math\n",
    "import sys"
   ]
  },
  {
   "cell_type": "markdown",
   "metadata": {},
   "source": [
    "### Paquetería Dask - Grid Search"
   ]
  },
  {
   "cell_type": "code",
   "execution_count": 2,
   "metadata": {},
   "outputs": [
    {
     "name": "stdout",
     "output_type": "stream",
     "text": [
      "Requirement already satisfied: dask-searchcv in /usr/local/lib/python3.5/site-packages\n",
      "Requirement already satisfied: dask>=0.14.0 in /usr/local/lib/python3.5/site-packages (from dask-searchcv)\n",
      "Requirement already satisfied: scipy>=0.13.0 in /usr/local/lib/python3.5/site-packages (from dask-searchcv)\n",
      "Requirement already satisfied: numpy>=1.8.0 in /usr/local/lib/python3.5/site-packages (from dask-searchcv)\n",
      "Requirement already satisfied: scikit-learn>=0.18.0 in /usr/local/lib/python3.5/site-packages (from dask-searchcv)\n",
      "Requirement already satisfied: toolz>=0.8.2 in /usr/local/lib/python3.5/site-packages (from dask-searchcv)\n",
      "\u001b[33mYou are using pip version 9.0.1, however version 10.0.1 is available.\n",
      "You should consider upgrading via the 'pip install --upgrade pip' command.\u001b[0m\n"
     ]
    }
   ],
   "source": [
    "!{sys.executable} -m pip install dask-searchcv"
   ]
  },
  {
   "cell_type": "code",
   "execution_count": 3,
   "metadata": {},
   "outputs": [],
   "source": [
    "from dask_searchcv import GridSearchCV as DaskGridSearchCV"
   ]
  },
  {
   "cell_type": "markdown",
   "metadata": {},
   "source": [
    "## Cliente dask"
   ]
  },
  {
   "cell_type": "code",
   "execution_count": 4,
   "metadata": {},
   "outputs": [],
   "source": [
    "client = Client(\"scheduler:8786\")"
   ]
  },
  {
   "cell_type": "markdown",
   "metadata": {},
   "source": [
    "## Procesamiento de la base"
   ]
  },
  {
   "cell_type": "markdown",
   "metadata": {},
   "source": [
    "Se crean nuevas variables de pronóstico y se procesa la base"
   ]
  },
  {
   "cell_type": "code",
   "execution_count": 5,
   "metadata": {},
   "outputs": [],
   "source": [
    "datos = pd.read_csv('/data/trips.csv')\n",
    "datos['tip_prop'] = datos.tip_amount/datos.fare_amount\n",
    "datos['tpep_dropoff_datetime'] = datos.tpep_dropoff_datetime\\\n",
    ".apply(lambda x: datetime.strptime(x, '%Y-%m-%d %H:%M:%S'))\n",
    "datos['tpep_pickup_datetime'] = datos.tpep_pickup_datetime\\\n",
    ".apply(lambda x: datetime.strptime(x, '%Y-%m-%d %H:%M:%S'))\n",
    "datos['car'] = 0\n",
    "datos.loc[datos.car_type == 'A', 'car'] = 1\n",
    "datos.loc[datos.car_type == 'B', 'car'] = 2\n",
    "diff = []"
   ]
  },
  {
   "cell_type": "markdown",
   "metadata": {},
   "source": [
    "Se buscan valores nulos en la base."
   ]
  },
  {
   "cell_type": "code",
   "execution_count": 6,
   "metadata": {},
   "outputs": [
    {
     "data": {
      "text/plain": [
       "car_type                 False\n",
       "fare_amount              False\n",
       "passenger_count          False\n",
       "taxi_id                  False\n",
       "tip_amount               False\n",
       "tpep_dropoff_datetime    False\n",
       "tpep_pickup_datetime     False\n",
       "trip_distance            False\n",
       "tip_prop                  True\n",
       "car                      False\n",
       "dtype: bool"
      ]
     },
     "execution_count": 6,
     "metadata": {},
     "output_type": "execute_result"
    }
   ],
   "source": [
    "datos.isnull().any()"
   ]
  },
  {
   "cell_type": "markdown",
   "metadata": {},
   "source": [
    "Hay valores nulos en la proporción de propina.\n",
    "\n",
    "Se limpian los datos dado que solo son 3."
   ]
  },
  {
   "cell_type": "code",
   "execution_count": 7,
   "metadata": {},
   "outputs": [
    {
     "data": {
      "text/plain": [
       "3"
      ]
     },
     "execution_count": 7,
     "metadata": {},
     "output_type": "execute_result"
    }
   ],
   "source": [
    "nulos = datos.loc[pd.isnull(datos.tip_prop)].index.tolist()\n",
    "len(nulos)"
   ]
  },
  {
   "cell_type": "code",
   "execution_count": 8,
   "metadata": {},
   "outputs": [],
   "source": [
    "datos = datos.drop(nulos).reset_index(drop=True)"
   ]
  },
  {
   "cell_type": "markdown",
   "metadata": {},
   "source": [
    "### Tiempo de duración del viaje."
   ]
  },
  {
   "cell_type": "code",
   "execution_count": 9,
   "metadata": {},
   "outputs": [],
   "source": [
    "for i in range(len(datos)):\n",
    "    aux = (datos.tpep_dropoff_datetime[i] - datos.tpep_pickup_datetime[i])\n",
    "    diff.append(aux.seconds/60)\n",
    "\n",
    "datos['time_diff'] = diff\n",
    "datos['hour'] = datos.tpep_pickup_datetime.apply(lambda x: x.hour)"
   ]
  },
  {
   "cell_type": "code",
   "execution_count": 10,
   "metadata": {},
   "outputs": [],
   "source": [
    "base = datos.drop(['tpep_pickup_datetime', 'tpep_dropoff_datetime', 'tip_prop', 'car_type'], axis = 1)"
   ]
  },
  {
   "cell_type": "markdown",
   "metadata": {},
   "source": [
    "## Grupo de entrenamiento y prueba"
   ]
  },
  {
   "cell_type": "code",
   "execution_count": 11,
   "metadata": {},
   "outputs": [],
   "source": [
    "X_train, X_test, y_train, y_test = train_test_split(base, datos.tip_prop, test_size=0.3, random_state=109649)"
   ]
  },
  {
   "cell_type": "markdown",
   "metadata": {},
   "source": [
    "Random Forest"
   ]
  },
  {
   "cell_type": "code",
   "execution_count": 15,
   "metadata": {},
   "outputs": [],
   "source": [
    "Regr = RandomForestRegressor(bootstrap=True, n_jobs=-1)\n",
    "parameters = {'n_estimators': [3, 5, 10, 15], 'max_depth':[4, 5, 6, 10], 'min_samples_split':[2, 3, 4, 7]}"
   ]
  },
  {
   "cell_type": "markdown",
   "metadata": {},
   "source": [
    "Búsqueda secuencial"
   ]
  },
  {
   "cell_type": "code",
   "execution_count": 13,
   "metadata": {},
   "outputs": [
    {
     "name": "stdout",
     "output_type": "stream",
     "text": [
      "CPU times: user 18.7 s, sys: 1.97 s, total: 20.7 s\n",
      "Wall time: 1min 23s\n",
      "{'max_depth': 10, 'n_estimators': 10, 'min_samples_split': 7}\n"
     ]
    }
   ],
   "source": [
    "predict_model_seq = GridSearchCV(Regr, parameters, cv=4)\n",
    "%time predict_model_seq.fit(X_train, y_train)\n",
    "print(predict_model_seq.best_params_)\n",
    "predict_model_seq = predict_model_seq.best_estimator_"
   ]
  },
  {
   "cell_type": "markdown",
   "metadata": {},
   "source": [
    "Tiempo de proceso: 1 minuto y 23 Segundos"
   ]
  },
  {
   "cell_type": "markdown",
   "metadata": {},
   "source": [
    "Búsqueda en paralelo"
   ]
  },
  {
   "cell_type": "code",
   "execution_count": 16,
   "metadata": {
    "scrolled": true
   },
   "outputs": [
    {
     "name": "stdout",
     "output_type": "stream",
     "text": [
      "CPU times: user 30 ms, sys: 80 ms, total: 110 ms\n",
      "Wall time: 23.3 s\n",
      "{'max_depth': 10, 'n_estimators': 10, 'min_samples_split': 2}\n"
     ]
    }
   ],
   "source": [
    "predict_model_paral = DaskGridSearchCV(Regr, parameters, cv=4)\n",
    "%time predict_model_paral.fit(X_train, y_train)\n",
    "\n",
    "print(predict_model_paral.best_params_)\n",
    "predict_model_paral=predict_model_paral.best_estimator_\n"
   ]
  },
  {
   "cell_type": "markdown",
   "metadata": {},
   "source": [
    "Tiempo de proceso: 23.3 segundos"
   ]
  },
  {
   "cell_type": "markdown",
   "metadata": {},
   "source": [
    "## Resultados del pronóstico"
   ]
  },
  {
   "cell_type": "code",
   "execution_count": 17,
   "metadata": {},
   "outputs": [],
   "source": [
    "Test1 = predict_model_seq.predict(X_test).tolist()\n",
    "Test2 = predict_model_paral.predict(X_test).tolist()"
   ]
  },
  {
   "cell_type": "code",
   "execution_count": 18,
   "metadata": {},
   "outputs": [
    {
     "data": {
      "text/html": [
       "<div>\n",
       "<style scoped>\n",
       "    .dataframe tbody tr th:only-of-type {\n",
       "        vertical-align: middle;\n",
       "    }\n",
       "\n",
       "    .dataframe tbody tr th {\n",
       "        vertical-align: top;\n",
       "    }\n",
       "\n",
       "    .dataframe thead th {\n",
       "        text-align: right;\n",
       "    }\n",
       "</style>\n",
       "<table border=\"1\" class=\"dataframe\">\n",
       "  <thead>\n",
       "    <tr style=\"text-align: right;\">\n",
       "      <th></th>\n",
       "      <th>Mod_Par</th>\n",
       "      <th>Mod_Seq</th>\n",
       "      <th>Real</th>\n",
       "    </tr>\n",
       "  </thead>\n",
       "  <tbody>\n",
       "    <tr>\n",
       "      <th>0</th>\n",
       "      <td>0.229280</td>\n",
       "      <td>0.229213</td>\n",
       "      <td>0.235714</td>\n",
       "    </tr>\n",
       "    <tr>\n",
       "      <th>1</th>\n",
       "      <td>0.241334</td>\n",
       "      <td>0.243250</td>\n",
       "      <td>0.232000</td>\n",
       "    </tr>\n",
       "    <tr>\n",
       "      <th>2</th>\n",
       "      <td>0.140394</td>\n",
       "      <td>0.138464</td>\n",
       "      <td>0.109091</td>\n",
       "    </tr>\n",
       "    <tr>\n",
       "      <th>3</th>\n",
       "      <td>0.000004</td>\n",
       "      <td>0.000006</td>\n",
       "      <td>0.000000</td>\n",
       "    </tr>\n",
       "    <tr>\n",
       "      <th>4</th>\n",
       "      <td>0.062066</td>\n",
       "      <td>0.058180</td>\n",
       "      <td>0.038462</td>\n",
       "    </tr>\n",
       "  </tbody>\n",
       "</table>\n",
       "</div>"
      ],
      "text/plain": [
       "    Mod_Par   Mod_Seq      Real\n",
       "0  0.229280  0.229213  0.235714\n",
       "1  0.241334  0.243250  0.232000\n",
       "2  0.140394  0.138464  0.109091\n",
       "3  0.000004  0.000006  0.000000\n",
       "4  0.062066  0.058180  0.038462"
      ]
     },
     "execution_count": 18,
     "metadata": {},
     "output_type": "execute_result"
    }
   ],
   "source": [
    "base_pronostico = pd.DataFrame({'Mod_Seq':Test1, 'Mod_Par':Test2, 'Real':y_test.tolist()})\n",
    "base_pronostico.head()"
   ]
  },
  {
   "cell_type": "code",
   "execution_count": 19,
   "metadata": {},
   "outputs": [
    {
     "data": {
      "text/plain": [
       "0.0038645379358035544"
      ]
     },
     "execution_count": 19,
     "metadata": {},
     "output_type": "execute_result"
    }
   ],
   "source": [
    "mean_squared_error(base_pronostico.Mod_Seq, base_pronostico.Real)"
   ]
  },
  {
   "cell_type": "code",
   "execution_count": 20,
   "metadata": {},
   "outputs": [
    {
     "data": {
      "text/plain": [
       "0.003405549879579453"
      ]
     },
     "execution_count": 20,
     "metadata": {},
     "output_type": "execute_result"
    }
   ],
   "source": [
    "mean_squared_error(base_pronostico.Mod_Par, base_pronostico.Real)"
   ]
  },
  {
   "cell_type": "markdown",
   "metadata": {},
   "source": [
    "En este caso aunque es más lento, el porceso secuencial resulta ser más certero."
   ]
  }
 ],
 "metadata": {
  "kernelspec": {
   "display_name": "Python 3",
   "language": "python",
   "name": "python3"
  },
  "language_info": {
   "codemirror_mode": {
    "name": "ipython",
    "version": 3
   },
   "file_extension": ".py",
   "mimetype": "text/x-python",
   "name": "python",
   "nbconvert_exporter": "python",
   "pygments_lexer": "ipython3",
   "version": "3.5.4"
  }
 },
 "nbformat": 4,
 "nbformat_minor": 2
}
