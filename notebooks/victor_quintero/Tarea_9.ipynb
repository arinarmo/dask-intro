{
 "cells": [
  {
   "cell_type": "markdown",
   "metadata": {},
   "source": [
    "## Ejercicio/Tarea"
   ]
  },
  {
   "cell_type": "markdown",
   "metadata": {},
   "source": [
    "### Victor Quintero Mármol González    175897"
   ]
  },
  {
   "cell_type": "markdown",
   "metadata": {},
   "source": [
    "Aprovecha la capacidad de Dask para realizar cómputo en paralelo para ajustar un modelo para predecir la proporción de propina de un viaje. Realiza búsqueda de hiperparámetros en grid con cross validation. Puedes usar funciones de scikit learn. Recuerda usar el decorador `delayed` para ejecutar en paralelo.\n",
    "\n",
    "* ¿Qué tan rápido es buscar en paralelo comparado con una búsqueda secuencial en python?\n",
    "\n",
    "Haz lo mismo que arriba, pero utilizando la biblioteca Dask-ML http://dask-ml.readthedocs.io/en/latest/ \n",
    "\n",
    "* ¿Cómo se comparan los tiempos de ejecución de tu búsqueda con la de Dask ML?"
   ]
  },
  {
   "cell_type": "markdown",
   "metadata": {},
   "source": [
    "**Carga de librerías:**"
   ]
  },
  {
   "cell_type": "code",
   "execution_count": 27,
   "metadata": {},
   "outputs": [],
   "source": [
    "from sklearn.model_selection import train_test_split\n",
    "from sklearn.model_selection import GridSearchCV\n",
    "from sklearn.preprocessing import StandardScaler\n",
    "from sklearn.preprocessing import LabelEncoder\n",
    "from sklearn.pipeline import Pipeline\n",
    "from sklearn.linear_model import Ridge\n",
    "\n",
    "import pandas as pd\n",
    "\n",
    "from dask import dataframe\n",
    "from dask import delayed\n",
    "from dask_ml.linear_model import LinearRegression\n",
    "from dask_ml.model_selection import GridSearchCV as GridSearchCV_Dask\n",
    "from dask.distributed import Client\n",
    "client = Client(\"scheduler:8786\")\n"
   ]
  },
  {
   "cell_type": "markdown",
   "metadata": {},
   "source": [
    "**Lectura y limpieza de datos:**"
   ]
  },
  {
   "cell_type": "code",
   "execution_count": 28,
   "metadata": {},
   "outputs": [
    {
     "data": {
      "text/html": [
       "<div>\n",
       "<style scoped>\n",
       "    .dataframe tbody tr th:only-of-type {\n",
       "        vertical-align: middle;\n",
       "    }\n",
       "\n",
       "    .dataframe tbody tr th {\n",
       "        vertical-align: top;\n",
       "    }\n",
       "\n",
       "    .dataframe thead th {\n",
       "        text-align: right;\n",
       "    }\n",
       "</style>\n",
       "<table border=\"1\" class=\"dataframe\">\n",
       "  <thead>\n",
       "    <tr style=\"text-align: right;\">\n",
       "      <th></th>\n",
       "      <th>car_type</th>\n",
       "      <th>fare_amount</th>\n",
       "      <th>passenger_count</th>\n",
       "      <th>taxi_id</th>\n",
       "      <th>tip_amount</th>\n",
       "      <th>tpep_dropoff_datetime</th>\n",
       "      <th>tpep_pickup_datetime</th>\n",
       "      <th>trip_distance</th>\n",
       "      <th>prop_prop</th>\n",
       "      <th>duracion_trip</th>\n",
       "    </tr>\n",
       "  </thead>\n",
       "  <tbody>\n",
       "    <tr>\n",
       "      <th>0</th>\n",
       "      <td>A</td>\n",
       "      <td>22.0</td>\n",
       "      <td>1</td>\n",
       "      <td>1</td>\n",
       "      <td>4.60</td>\n",
       "      <td>2015-01-03 01:37:02</td>\n",
       "      <td>2015-01-03 01:17:32</td>\n",
       "      <td>6.90</td>\n",
       "      <td>0.209</td>\n",
       "      <td>1170.0</td>\n",
       "    </tr>\n",
       "    <tr>\n",
       "      <th>1</th>\n",
       "      <td>A</td>\n",
       "      <td>9.0</td>\n",
       "      <td>1</td>\n",
       "      <td>1</td>\n",
       "      <td>0.00</td>\n",
       "      <td>2015-01-05 23:35:02</td>\n",
       "      <td>2015-01-05 23:25:15</td>\n",
       "      <td>1.81</td>\n",
       "      <td>0.000</td>\n",
       "      <td>587.0</td>\n",
       "    </tr>\n",
       "    <tr>\n",
       "      <th>2</th>\n",
       "      <td>A</td>\n",
       "      <td>7.5</td>\n",
       "      <td>1</td>\n",
       "      <td>1</td>\n",
       "      <td>1.00</td>\n",
       "      <td>2015-01-06 15:22:12</td>\n",
       "      <td>2015-01-06 15:11:45</td>\n",
       "      <td>0.96</td>\n",
       "      <td>0.133</td>\n",
       "      <td>627.0</td>\n",
       "    </tr>\n",
       "    <tr>\n",
       "      <th>3</th>\n",
       "      <td>A</td>\n",
       "      <td>8.5</td>\n",
       "      <td>1</td>\n",
       "      <td>1</td>\n",
       "      <td>1.00</td>\n",
       "      <td>2015-01-08 08:31:23</td>\n",
       "      <td>2015-01-08 08:22:12</td>\n",
       "      <td>1.90</td>\n",
       "      <td>0.118</td>\n",
       "      <td>551.0</td>\n",
       "    </tr>\n",
       "    <tr>\n",
       "      <th>4</th>\n",
       "      <td>A</td>\n",
       "      <td>7.5</td>\n",
       "      <td>1</td>\n",
       "      <td>1</td>\n",
       "      <td>1.66</td>\n",
       "      <td>2015-01-08 12:35:54</td>\n",
       "      <td>2015-01-08 12:26:26</td>\n",
       "      <td>1.00</td>\n",
       "      <td>0.221</td>\n",
       "      <td>568.0</td>\n",
       "    </tr>\n",
       "  </tbody>\n",
       "</table>\n",
       "</div>"
      ],
      "text/plain": [
       "  car_type  fare_amount  passenger_count  taxi_id  tip_amount  \\\n",
       "0        A         22.0                1        1        4.60   \n",
       "1        A          9.0                1        1        0.00   \n",
       "2        A          7.5                1        1        1.00   \n",
       "3        A          8.5                1        1        1.00   \n",
       "4        A          7.5                1        1        1.66   \n",
       "\n",
       "  tpep_dropoff_datetime tpep_pickup_datetime  trip_distance  prop_prop  \\\n",
       "0   2015-01-03 01:37:02  2015-01-03 01:17:32           6.90      0.209   \n",
       "1   2015-01-05 23:35:02  2015-01-05 23:25:15           1.81      0.000   \n",
       "2   2015-01-06 15:22:12  2015-01-06 15:11:45           0.96      0.133   \n",
       "3   2015-01-08 08:31:23  2015-01-08 08:22:12           1.90      0.118   \n",
       "4   2015-01-08 12:35:54  2015-01-08 12:26:26           1.00      0.221   \n",
       "\n",
       "   duracion_trip  \n",
       "0         1170.0  \n",
       "1          587.0  \n",
       "2          627.0  \n",
       "3          551.0  \n",
       "4          568.0  "
      ]
     },
     "execution_count": 28,
     "metadata": {},
     "output_type": "execute_result"
    }
   ],
   "source": [
    "#Cargamos los datos \n",
    "trips_df = pd.read_csv(\"/data/trips.csv\")\n",
    "# Truco para convertir a datetime...\n",
    "trips_df.tpep_pickup_datetime = trips_df.tpep_pickup_datetime.astype('M8[us]')\n",
    "trips_df.tpep_dropoff_datetime = trips_df.tpep_dropoff_datetime.astype('M8[us]')\n",
    "#Nos quedamos únicamente con observaciones que tengan \"fare_amount\"\n",
    "trips_df = trips_df[trips_df.fare_amount > 0]\n",
    "#Creamos variable de proporción de propina\n",
    "trips_df[\"prop_prop\"] = round(trips_df[\"tip_amount\"]/trips_df[\"fare_amount\"],3)\n",
    "#Creamos variable de duración del viaje en segundos\n",
    "trips_df[\"duracion_trip\"] = trips_df[\"tpep_dropoff_datetime\"] - trips_df[\"tpep_pickup_datetime\"]\n",
    "trips_df[\"duracion_trip\"] = trips_df[\"duracion_trip\"].map(lambda x:x.total_seconds())\n",
    "#Revisamos los datos\n",
    "trips_df.head()"
   ]
  },
  {
   "cell_type": "code",
   "execution_count": 29,
   "metadata": {},
   "outputs": [
    {
     "data": {
      "text/html": [
       "<div>\n",
       "<style scoped>\n",
       "    .dataframe tbody tr th:only-of-type {\n",
       "        vertical-align: middle;\n",
       "    }\n",
       "\n",
       "    .dataframe tbody tr th {\n",
       "        vertical-align: top;\n",
       "    }\n",
       "\n",
       "    .dataframe thead th {\n",
       "        text-align: right;\n",
       "    }\n",
       "</style>\n",
       "<table border=\"1\" class=\"dataframe\">\n",
       "  <thead>\n",
       "    <tr style=\"text-align: right;\">\n",
       "      <th></th>\n",
       "      <th>car_type</th>\n",
       "      <th>fare_amount</th>\n",
       "      <th>passenger_count</th>\n",
       "      <th>trip_distance</th>\n",
       "      <th>prop_prop</th>\n",
       "      <th>duracion_trip</th>\n",
       "    </tr>\n",
       "  </thead>\n",
       "  <tbody>\n",
       "    <tr>\n",
       "      <th>0</th>\n",
       "      <td>0</td>\n",
       "      <td>22.0</td>\n",
       "      <td>1</td>\n",
       "      <td>6.90</td>\n",
       "      <td>0.209</td>\n",
       "      <td>1170.0</td>\n",
       "    </tr>\n",
       "    <tr>\n",
       "      <th>1</th>\n",
       "      <td>0</td>\n",
       "      <td>9.0</td>\n",
       "      <td>1</td>\n",
       "      <td>1.81</td>\n",
       "      <td>0.000</td>\n",
       "      <td>587.0</td>\n",
       "    </tr>\n",
       "    <tr>\n",
       "      <th>2</th>\n",
       "      <td>0</td>\n",
       "      <td>7.5</td>\n",
       "      <td>1</td>\n",
       "      <td>0.96</td>\n",
       "      <td>0.133</td>\n",
       "      <td>627.0</td>\n",
       "    </tr>\n",
       "    <tr>\n",
       "      <th>3</th>\n",
       "      <td>0</td>\n",
       "      <td>8.5</td>\n",
       "      <td>1</td>\n",
       "      <td>1.90</td>\n",
       "      <td>0.118</td>\n",
       "      <td>551.0</td>\n",
       "    </tr>\n",
       "    <tr>\n",
       "      <th>4</th>\n",
       "      <td>0</td>\n",
       "      <td>7.5</td>\n",
       "      <td>1</td>\n",
       "      <td>1.00</td>\n",
       "      <td>0.221</td>\n",
       "      <td>568.0</td>\n",
       "    </tr>\n",
       "  </tbody>\n",
       "</table>\n",
       "</div>"
      ],
      "text/plain": [
       "   car_type  fare_amount  passenger_count  trip_distance  prop_prop  \\\n",
       "0         0         22.0                1           6.90      0.209   \n",
       "1         0          9.0                1           1.81      0.000   \n",
       "2         0          7.5                1           0.96      0.133   \n",
       "3         0          8.5                1           1.90      0.118   \n",
       "4         0          7.5                1           1.00      0.221   \n",
       "\n",
       "   duracion_trip  \n",
       "0         1170.0  \n",
       "1          587.0  \n",
       "2          627.0  \n",
       "3          551.0  \n",
       "4          568.0  "
      ]
     },
     "execution_count": 29,
     "metadata": {},
     "output_type": "execute_result"
    }
   ],
   "source": [
    "#Vemos que hace falta cambiar la variable \"car_type\" a binario\n",
    "label_encoder = LabelEncoder()\n",
    "trips_df[\"car_type\"] = label_encoder.fit_transform(trips_df['car_type'])\n",
    "#Nos quedamos únicamente con las variables que nos interesan\n",
    "trips_df = trips_df.drop([\"taxi_id\", \"tip_amount\", \"tpep_dropoff_datetime\", \"tpep_pickup_datetime\"], axis= 1)\n",
    "trips_df.head()"
   ]
  },
  {
   "cell_type": "markdown",
   "metadata": {},
   "source": [
    "**Modelos:**"
   ]
  },
  {
   "cell_type": "code",
   "execution_count": 30,
   "metadata": {},
   "outputs": [],
   "source": [
    "#Separamos en entrenamiento y prueba\n",
    "X = trips_df.drop(\"prop_prop\", axis = 1)\n",
    "y = trips_df[\"prop_prop\"]\n",
    "X_train, X_test, y_train, y_test = train_test_split(X, y, test_size = 0.30)"
   ]
  },
  {
   "cell_type": "code",
   "execution_count": 31,
   "metadata": {},
   "outputs": [],
   "source": [
    "#Creamos pipeline. Primero estandarizamos y luego aplicamos regresión Ridge\n",
    "pipe = Pipeline([('ss', StandardScaler()),('rd', Ridge())])\n",
    "pipe.fit(X_train, y_train)\n",
    "#Parámetros del grid\n",
    "parametros = {'rd__alpha': [2, 1,0.5,0.1],'rd__tol': [0.001,0.0001]}\n",
    "#Creamos GridSearch\n",
    "grid = GridSearchCV(estimator=pipe, param_grid=parametros,scoring='neg_mean_squared_error', cv=10)"
   ]
  },
  {
   "cell_type": "markdown",
   "metadata": {},
   "source": [
    "**Secuencial:**"
   ]
  },
  {
   "cell_type": "code",
   "execution_count": 32,
   "metadata": {
    "scrolled": true
   },
   "outputs": [
    {
     "name": "stdout",
     "output_type": "stream",
     "text": [
      "CPU times: user 873 ms, sys: 755 ms, total: 1.63 s\n",
      "Wall time: 923 ms\n"
     ]
    },
    {
     "data": {
      "text/plain": [
       "GridSearchCV(cv=10, error_score='raise',\n",
       "       estimator=Pipeline(memory=None,\n",
       "     steps=[('ss', StandardScaler(copy=True, with_mean=True, with_std=True)), ('rd', Ridge(alpha=1.0, copy_X=True, fit_intercept=True, max_iter=None,\n",
       "   normalize=False, random_state=None, solver='auto', tol=0.001))]),\n",
       "       fit_params=None, iid=True, n_jobs=1,\n",
       "       param_grid={'rd__tol': [0.001, 0.0001], 'rd__alpha': [2, 1, 0.5, 0.1]},\n",
       "       pre_dispatch='2*n_jobs', refit=True, return_train_score='warn',\n",
       "       scoring='neg_mean_squared_error', verbose=0)"
      ]
     },
     "execution_count": 32,
     "metadata": {},
     "output_type": "execute_result"
    }
   ],
   "source": [
    "%%time\n",
    "#Corremos de manera secuencial\n",
    "grid.fit(X_train, y_train)"
   ]
  },
  {
   "cell_type": "code",
   "execution_count": 33,
   "metadata": {},
   "outputs": [
    {
     "name": "stdout",
     "output_type": "stream",
     "text": [
      "Pipeline(memory=None,\n",
      "     steps=[('ss', StandardScaler(copy=True, with_mean=True, with_std=True)), ('rd', Ridge(alpha=2, copy_X=True, fit_intercept=True, max_iter=None,\n",
      "   normalize=False, random_state=None, solver='auto', tol=0.001))])\n"
     ]
    }
   ],
   "source": [
    "#Vemos los parámetros del mejor estimador\n",
    "print(grid.best_estimator_)"
   ]
  },
  {
   "cell_type": "markdown",
   "metadata": {},
   "source": [
    "**Paralelo:**"
   ]
  },
  {
   "cell_type": "code",
   "execution_count": 34,
   "metadata": {},
   "outputs": [
    {
     "name": "stdout",
     "output_type": "stream",
     "text": [
      "CPU times: user 901 ms, sys: 656 ms, total: 1.56 s\n",
      "Wall time: 881 ms\n"
     ]
    },
    {
     "data": {
      "text/plain": [
       "Delayed('GridSearchCV-de3a39a2-f034-49ea-a064-b03c57bb619a')"
      ]
     },
     "execution_count": 34,
     "metadata": {},
     "output_type": "execute_result"
    }
   ],
   "source": [
    "%%time\n",
    "#Corremos de manera paralela\n",
    "delayed(grid.fit(X_train, y_train))"
   ]
  },
  {
   "cell_type": "markdown",
   "metadata": {},
   "source": [
    "**Dask-ML:**"
   ]
  },
  {
   "cell_type": "code",
   "execution_count": 38,
   "metadata": {},
   "outputs": [],
   "source": [
    "#Separamos en entrenamiento y prueba\n",
    "X = trips_df.drop(\"prop_prop\", axis = 1).values\n",
    "y = trips_df[\"prop_prop\"].values\n",
    "X_train, X_test, y_train, y_test = train_test_split(X, y, test_size = 0.30)"
   ]
  },
  {
   "cell_type": "code",
   "execution_count": 39,
   "metadata": {},
   "outputs": [],
   "source": [
    "#Creamos pipeline\n",
    "pipe_dask = Pipeline([('ss', StandardScaler()),('rd', LinearRegression())])\n",
    "#Parámetros del grid\n",
    "parametros_dask = {'rd__C': [2, 1,0.5,0.1],'rd__tol': [0.001,0.0001]}\n",
    "#Creamos GridSearch\n",
    "grid_dask = GridSearchCV_Dask(pipe_dask, parametros_dask,scoring='neg_mean_squared_error',cv=10)"
   ]
  },
  {
   "cell_type": "code",
   "execution_count": 40,
   "metadata": {},
   "outputs": [
    {
     "name": "stdout",
     "output_type": "stream",
     "text": [
      "CPU times: user 417 ms, sys: 55.5 ms, total: 472 ms\n",
      "Wall time: 1min 9s\n"
     ]
    },
    {
     "data": {
      "text/plain": [
       "GridSearchCV(cache_cv=True, cv=10, error_score='raise',\n",
       "       estimator=Pipeline(memory=None,\n",
       "     steps=[('ss', StandardScaler(copy=True, with_mean=True, with_std=True)), ('rd', LinearRegression(C=1.0, class_weight=None, dual=False, fit_intercept=True,\n",
       "         intercept_scaling=1.0, max_iter=100, multiclass='ovr', n_jobs=1,\n",
       "         penalty='l2', random_state=None, solver='admm',\n",
       "         solver_kwargs=None, tol=0.0001, verbose=0, warm_start=False))]),\n",
       "       iid=True, n_jobs=-1,\n",
       "       param_grid={'rd__tol': [0.001, 0.0001], 'rd__C': [2, 1, 0.5, 0.1]},\n",
       "       refit=True, return_train_score='warn', scheduler=None,\n",
       "       scoring='neg_mean_squared_error')"
      ]
     },
     "execution_count": 40,
     "metadata": {},
     "output_type": "execute_result"
    }
   ],
   "source": [
    "%%time\n",
    "#Corremos dask ml\n",
    "grid_dask.fit(X_train,y_train)"
   ]
  },
  {
   "cell_type": "code",
   "execution_count": 41,
   "metadata": {},
   "outputs": [
    {
     "name": "stdout",
     "output_type": "stream",
     "text": [
      "Pipeline(memory=None,\n",
      "     steps=[('ss', StandardScaler(copy=True, with_mean=True, with_std=True)), ('rd', LinearRegression(C=2, class_weight=None, dual=False, fit_intercept=True,\n",
      "         intercept_scaling=1.0, max_iter=100, multiclass='ovr', n_jobs=1,\n",
      "         penalty='l2', random_state=None, solver='admm',\n",
      "         solver_kwargs=None, tol=0.001, verbose=0, warm_start=False))])\n"
     ]
    }
   ],
   "source": [
    "#Vemos los parámetros del mejor estimador\n",
    "print(grid_dask.best_estimator_)"
   ]
  },
  {
   "cell_type": "markdown",
   "metadata": {},
   "source": [
    "**Comentarios finales:**\n",
    "* Se pudo observar que entre el secuencial y paralelo, el paralelo es ligeramente más rápido en la ejecución.\n",
    "* Al usar la librería Dask-ML se puede observar que aunque la ejecución del código en CPU time es la menor, el tiempo de espera en que el que se distribuye la tarea es muy grande, como se puede observar en el Wall time. Esto puede deberse a que la base no es lo suficientemente grande como para sacar provecho de este computo distribuido."
   ]
  },
  {
   "cell_type": "code",
   "execution_count": null,
   "metadata": {},
   "outputs": [],
   "source": []
  }
 ],
 "metadata": {
  "kernelspec": {
   "display_name": "Python 3",
   "language": "python",
   "name": "python3"
  },
  "language_info": {
   "codemirror_mode": {
    "name": "ipython",
    "version": 3
   },
   "file_extension": ".py",
   "mimetype": "text/x-python",
   "name": "python",
   "nbconvert_exporter": "python",
   "pygments_lexer": "ipython3",
   "version": "3.5.4"
  }
 },
 "nbformat": 4,
 "nbformat_minor": 2
}
