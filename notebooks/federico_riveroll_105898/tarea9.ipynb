{
 "cells": [
  {
   "cell_type": "markdown",
   "metadata": {},
   "source": [
    "# Tarea 9\n",
    "## Dask\n",
    "### Federico Riveroll"
   ]
  },
  {
   "cell_type": "code",
   "execution_count": 58,
   "metadata": {
    "collapsed": true
   },
   "outputs": [],
   "source": [
    "from dask.distributed import Client\n",
    "from dask import bag\n",
    "import json\n",
    "from dask import delayed\n",
    "from dask import dataframe\n",
    "import numpy as np \n",
    "import pandas as pd\n",
    "import time\n",
    "from dask import delayed\n",
    "from datetime import datetime, timedelta\n",
    "from sklearn.cross_validation import train_test_split \n",
    "from sklearn.preprocessing import StandardScaler,LabelEncoder,FunctionTransformer,OneHotEncoder\n",
    "from sklearn.pipeline import make_pipeline \n",
    "from sklearn.pipeline import FeatureUnion\n",
    "from sklearn.pipeline import Pipeline\n",
    "from sklearn.preprocessing import MultiLabelBinarizer\n",
    "from sklearn.pipeline import make_pipeline \n",
    "from sklearn.pipeline import Pipeline\n",
    "client = Client(\"scheduler:8786\")"
   ]
  },
  {
   "cell_type": "code",
   "execution_count": 66,
   "metadata": {},
   "outputs": [
    {
     "data": {
      "text/html": [
       "<div>\n",
       "<style scoped>\n",
       "    .dataframe tbody tr th:only-of-type {\n",
       "        vertical-align: middle;\n",
       "    }\n",
       "\n",
       "    .dataframe tbody tr th {\n",
       "        vertical-align: top;\n",
       "    }\n",
       "\n",
       "    .dataframe thead th {\n",
       "        text-align: right;\n",
       "    }\n",
       "</style>\n",
       "<table border=\"1\" class=\"dataframe\">\n",
       "  <thead>\n",
       "    <tr style=\"text-align: right;\">\n",
       "      <th></th>\n",
       "      <th>car_type</th>\n",
       "      <th>passenger_count</th>\n",
       "      <th>trip_distance</th>\n",
       "      <th>duration</th>\n",
       "      <th>r_duration_distance</th>\n",
       "      <th>proportion</th>\n",
       "    </tr>\n",
       "  </thead>\n",
       "  <tbody>\n",
       "    <tr>\n",
       "      <th>0</th>\n",
       "      <td>A</td>\n",
       "      <td>1</td>\n",
       "      <td>6.90</td>\n",
       "      <td>0.013542</td>\n",
       "      <td>0.001963</td>\n",
       "      <td>0.209091</td>\n",
       "    </tr>\n",
       "    <tr>\n",
       "      <th>1</th>\n",
       "      <td>A</td>\n",
       "      <td>1</td>\n",
       "      <td>1.81</td>\n",
       "      <td>0.006794</td>\n",
       "      <td>0.003753</td>\n",
       "      <td>0.000000</td>\n",
       "    </tr>\n",
       "    <tr>\n",
       "      <th>2</th>\n",
       "      <td>A</td>\n",
       "      <td>1</td>\n",
       "      <td>0.96</td>\n",
       "      <td>0.007257</td>\n",
       "      <td>0.007559</td>\n",
       "      <td>0.133333</td>\n",
       "    </tr>\n",
       "    <tr>\n",
       "      <th>3</th>\n",
       "      <td>A</td>\n",
       "      <td>1</td>\n",
       "      <td>1.90</td>\n",
       "      <td>0.006377</td>\n",
       "      <td>0.003356</td>\n",
       "      <td>0.117647</td>\n",
       "    </tr>\n",
       "    <tr>\n",
       "      <th>4</th>\n",
       "      <td>A</td>\n",
       "      <td>1</td>\n",
       "      <td>1.00</td>\n",
       "      <td>0.006574</td>\n",
       "      <td>0.006573</td>\n",
       "      <td>0.221333</td>\n",
       "    </tr>\n",
       "  </tbody>\n",
       "</table>\n",
       "</div>"
      ],
      "text/plain": [
       "  car_type  passenger_count  trip_distance  duration  r_duration_distance  \\\n",
       "0        A                1           6.90  0.013542             0.001963   \n",
       "1        A                1           1.81  0.006794             0.003753   \n",
       "2        A                1           0.96  0.007257             0.007559   \n",
       "3        A                1           1.90  0.006377             0.003356   \n",
       "4        A                1           1.00  0.006574             0.006573   \n",
       "\n",
       "   proportion  \n",
       "0    0.209091  \n",
       "1    0.000000  \n",
       "2    0.133333  \n",
       "3    0.117647  \n",
       "4    0.221333  "
      ]
     },
     "execution_count": 66,
     "metadata": {},
     "output_type": "execute_result"
    }
   ],
   "source": [
    "# Lectura y preparación de variables\n",
    "trips_df = dataframe.read_csv(\"/data/trips.csv\")\n",
    "\n",
    "trips_df.tpep_pickup_datetime = trips_df.tpep_pickup_datetime.astype('M8[us]')\n",
    "trips_df.tpep_dropoff_datetime = trips_df.tpep_dropoff_datetime.astype('M8[us]')\n",
    "trips_df[\"duration\"]=trips_df[\"tpep_dropoff_datetime\"]-trips_df[\"tpep_pickup_datetime\"]\n",
    "trips_df[\"proportion\"]=trips_df[\"tip_amount\"]/trips_df[\"fare_amount\"] \n",
    "trips_df[\"r_duration_distance\"] = (trips_df[\"duration\"]/ timedelta (days=1)) / (trips_df[\"trip_distance\"] + 0.0001)\n",
    "trips_var=trips_df[[\"car_type\",\"passenger_count\",\"trip_distance\",\"duration\", \"r_duration_distance\", \"proportion\"]]\n",
    "trips_var.duration=trips_var.duration/ timedelta (days=1) \n",
    "trips_var=trips_var.fillna(trips_var.mean()).compute()\n",
    "\n",
    "\n",
    "df1 = trips_var\n",
    "df1.head()"
   ]
  },
  {
   "cell_type": "code",
   "execution_count": 67,
   "metadata": {},
   "outputs": [
    {
     "data": {
      "text/html": [
       "<div>\n",
       "<style scoped>\n",
       "    .dataframe tbody tr th:only-of-type {\n",
       "        vertical-align: middle;\n",
       "    }\n",
       "\n",
       "    .dataframe tbody tr th {\n",
       "        vertical-align: top;\n",
       "    }\n",
       "\n",
       "    .dataframe thead th {\n",
       "        text-align: right;\n",
       "    }\n",
       "</style>\n",
       "<table border=\"1\" class=\"dataframe\">\n",
       "  <thead>\n",
       "    <tr style=\"text-align: right;\">\n",
       "      <th></th>\n",
       "      <th>passenger_count</th>\n",
       "      <th>trip_distance</th>\n",
       "      <th>duration</th>\n",
       "      <th>r_duration_distance</th>\n",
       "      <th>proportion</th>\n",
       "      <th>A_car_type</th>\n",
       "      <th>B_car_type</th>\n",
       "    </tr>\n",
       "  </thead>\n",
       "  <tbody>\n",
       "    <tr>\n",
       "      <th>0</th>\n",
       "      <td>1</td>\n",
       "      <td>6.90</td>\n",
       "      <td>0.013542</td>\n",
       "      <td>0.001963</td>\n",
       "      <td>0.209091</td>\n",
       "      <td>1</td>\n",
       "      <td>0</td>\n",
       "    </tr>\n",
       "    <tr>\n",
       "      <th>1</th>\n",
       "      <td>1</td>\n",
       "      <td>1.81</td>\n",
       "      <td>0.006794</td>\n",
       "      <td>0.003753</td>\n",
       "      <td>0.000000</td>\n",
       "      <td>1</td>\n",
       "      <td>0</td>\n",
       "    </tr>\n",
       "    <tr>\n",
       "      <th>2</th>\n",
       "      <td>1</td>\n",
       "      <td>0.96</td>\n",
       "      <td>0.007257</td>\n",
       "      <td>0.007559</td>\n",
       "      <td>0.133333</td>\n",
       "      <td>1</td>\n",
       "      <td>0</td>\n",
       "    </tr>\n",
       "    <tr>\n",
       "      <th>3</th>\n",
       "      <td>1</td>\n",
       "      <td>1.90</td>\n",
       "      <td>0.006377</td>\n",
       "      <td>0.003356</td>\n",
       "      <td>0.117647</td>\n",
       "      <td>1</td>\n",
       "      <td>0</td>\n",
       "    </tr>\n",
       "    <tr>\n",
       "      <th>4</th>\n",
       "      <td>1</td>\n",
       "      <td>1.00</td>\n",
       "      <td>0.006574</td>\n",
       "      <td>0.006573</td>\n",
       "      <td>0.221333</td>\n",
       "      <td>1</td>\n",
       "      <td>0</td>\n",
       "    </tr>\n",
       "  </tbody>\n",
       "</table>\n",
       "</div>"
      ],
      "text/plain": [
       "   passenger_count  trip_distance  duration  r_duration_distance  proportion  \\\n",
       "0                1           6.90  0.013542             0.001963    0.209091   \n",
       "1                1           1.81  0.006794             0.003753    0.000000   \n",
       "2                1           0.96  0.007257             0.007559    0.133333   \n",
       "3                1           1.90  0.006377             0.003356    0.117647   \n",
       "4                1           1.00  0.006574             0.006573    0.221333   \n",
       "\n",
       "   A_car_type  B_car_type  \n",
       "0           1           0  \n",
       "1           1           0  \n",
       "2           1           0  \n",
       "3           1           0  \n",
       "4           1           0  "
      ]
     },
     "execution_count": 67,
     "metadata": {},
     "output_type": "execute_result"
    }
   ],
   "source": [
    "# Pre procesamiento (sólo pasé a one-hot la variable car_type)\n",
    "mlb = MultiLabelBinarizer()\n",
    "campos_a_onehot = ['car_type']\n",
    "\n",
    "for columna in campos_a_onehot:\n",
    "    df1 = df1.join(pd.DataFrame(mlb.fit_transform(df1.pop(columna).apply(str)),\n",
    "                              index=df1.index,\n",
    "                              columns=[(mlb.classes_[i] + \"_\" + columna) for i in range(len(mlb.classes_))]))\n",
    "\n",
    "df1.head()"
   ]
  },
  {
   "cell_type": "code",
   "execution_count": 68,
   "metadata": {
    "collapsed": true
   },
   "outputs": [],
   "source": [
    "# Separación\n",
    "X=np.array(df1[[\"A_car_type\",\"B_car_type\",\"passenger_count\",\"trip_distance\",\"duration\", \"r_duration_distance\"]])\n",
    "y=np.array(df1['proportion']) \n",
    "X_train,X_test,y_train,y_test=train_test_split(X,y,test_size=0.25,random_state=1)"
   ]
  },
  {
   "cell_type": "code",
   "execution_count": 69,
   "metadata": {},
   "outputs": [
    {
     "data": {
      "text/plain": [
       "RandomForestRegressor(bootstrap=True, criterion='mse', max_depth=25,\n",
       "           max_features='auto', max_leaf_nodes=None,\n",
       "           min_impurity_decrease=0.0, min_impurity_split=None,\n",
       "           min_samples_leaf=1, min_samples_split=2,\n",
       "           min_weight_fraction_leaf=0.0, n_estimators=10, n_jobs=1,\n",
       "           oob_score=False, random_state=None, verbose=0, warm_start=False)"
      ]
     },
     "execution_count": 69,
     "metadata": {},
     "output_type": "execute_result"
    }
   ],
   "source": [
    "from sklearn.grid_search import GridSearchCV\n",
    "from sklearn.ensemble import RandomForestRegressor\n",
    "\n",
    "regressor = RandomForestRegressor(max_depth=25) \n",
    "regressor.fit(X_train, y_train) "
   ]
  },
  {
   "cell_type": "markdown",
   "metadata": {},
   "source": [
    "### Secuencial"
   ]
  },
  {
   "cell_type": "code",
   "execution_count": 70,
   "metadata": {},
   "outputs": [
    {
     "name": "stdout",
     "output_type": "stream",
     "text": [
      "r2 / variance :  -0.03440429756955328\n",
      "CPU times: user 11.8 s, sys: 58.3 ms, total: 11.8 s\n",
      "Wall time: 11.7 s\n"
     ]
    }
   ],
   "source": [
    "%%time\n",
    "parameters = {'max_depth':[10, 20, 30, 40, 50]}\n",
    "grid = GridSearchCV(regressor,parameters, cv=10)\n",
    "grid.fit(X_train, y_train)\n",
    "print(\"Best Score : \", grid.best_score_)"
   ]
  },
  {
   "cell_type": "markdown",
   "metadata": {},
   "source": [
    "### Paralelo"
   ]
  },
  {
   "cell_type": "code",
   "execution_count": 71,
   "metadata": {},
   "outputs": [
    {
     "name": "stdout",
     "output_type": "stream",
     "text": [
      "Best Score :  Delayed('getattr-f6ea5679bd070aa47f96c4e7ec41276c')\n",
      "CPU times: user 3.4 ms, sys: 0 ns, total: 3.4 ms\n",
      "Wall time: 2.68 ms\n"
     ]
    }
   ],
   "source": [
    "%%time\n",
    "parameters = {'max_depth':[10, 20, 30, 40, 50]}\n",
    "grid = delayed(GridSearchCV(regressor, parameters, cv=10))\n",
    "grid.fit(X_train, y_train)\n",
    "print(\"Best Score : \", grid.best_score_)"
   ]
  },
  {
   "cell_type": "markdown",
   "metadata": {},
   "source": [
    "En paralelo es mucho más rápido, es bastante impresionante este truco."
   ]
  }
 ],
 "metadata": {
  "kernelspec": {
   "display_name": "Python 3",
   "language": "python",
   "name": "python3"
  },
  "language_info": {
   "codemirror_mode": {
    "name": "ipython",
    "version": 3
   },
   "file_extension": ".py",
   "mimetype": "text/x-python",
   "name": "python",
   "nbconvert_exporter": "python",
   "pygments_lexer": "ipython3",
   "version": "3.6.1"
  }
 },
 "nbformat": 4,
 "nbformat_minor": 2
}
