{
 "cells": [
  {
   "cell_type": "code",
   "execution_count": 42,
   "metadata": {},
   "outputs": [],
   "source": [
    "# Proceso secuencial en python\n",
    "# Procedemos a importar las librerias de scikit learn\n",
    "import pandas as pd\n",
    "from sklearn import datasets\n",
    "from sklearn.model_selection import train_test_split\n",
    "from matplotlib import pyplot as plt\n",
    "from sklearn.preprocessing import LabelEncoder\n",
    "\n",
    "# Se cargan los datos\n",
    "trips_df_sk = pd.read_csv(\"/data/trips.csv\")\n",
    "trips_df_sk = pd.DataFrame(trips_df_sk)\n",
    "\n",
    "# Se calcula el porcentaje de la propina\n",
    "trips_df_sk['tip_pct'] = trips_df_sk.tip_amount / trips_df_sk.fare_amount\n",
    "trips_df_sk['tip_pct'] = trips_df_sk['tip_pct'] * 10\n",
    "\n",
    "# Preparamos los datos\n",
    "trips_df_sk = trips_df_sk[['tip_pct','trip_distance',\"car_type\"]]\n",
    "trips_df_sk = trips_df_sk.dropna(axis = 0, how = 'any')\n",
    "label_encoder = LabelEncoder()\n",
    "trips_df_sk[\"car_type\"] = label_encoder.fit_transform(trips_df_sk[\"car_type\"])\n",
    "y = trips_df_sk.tip_pct\n",
    "\n",
    "# Separamos los datos en entrenamiento y prueba, se utilizará un 70%/30%\n",
    "X_train, X_test, y_train, y_test = train_test_split(trips_df_sk, y, test_size = 0.3)\n",
    "\n",
    "# Ajustamos un modelo de regresión lineal\n",
    "lm = linear_model.LinearRegression(fit_intercept = False)\n",
    "model = lm.fit(X_train, y_train)\n",
    "predictions = lm.predict(X_test)"
   ]
  },
  {
   "cell_type": "code",
   "execution_count": 47,
   "metadata": {},
   "outputs": [
    {
     "name": "stdout",
     "output_type": "stream",
     "text": [
      "CPU times: user 11 s, sys: 27.7 s, total: 38.6 s\n",
      "Wall time: 15.9 s\n"
     ]
    }
   ],
   "source": [
    "%%time\n",
    "\n",
    "# Cargamos las librerias para el grid search\n",
    "import numpy as np\n",
    "from sklearn.grid_search import GridSearchCV\n",
    "from sklearn.datasets import make_regression\n",
    "from sklearn.ensemble import RandomForestRegressor\n",
    "\n",
    "# Configuramos el grid search\n",
    "X_train, y_train = make_regression(n_features = 3)\n",
    "model = RandomForestRegressor()\n",
    "parameters = {'n_estimators':[2, 5, 10, 15, 20], 'max_depth':[10, 50, 100, 500, None]}\n",
    "grid = GridSearchCV(estimator = model, param_grid = parameters, cv = 15)\n",
    "\n",
    "# Comenzamos a ejecutar el grid search\n",
    "grid.fit(X_train, y_train)\n",
    "\"r2 / variance : \", grid.best_score_\n",
    "grid.best_score_\n",
    "\"Residual sum of squares: %.2f\"% np.mean((grid.predict(X_test) - y_test) ** 2)"
   ]
  },
  {
   "cell_type": "code",
   "execution_count": 21,
   "metadata": {},
   "outputs": [
    {
     "data": {
      "text/plain": [
       "('Mejores parámetros  : ',\n",
       " {'copy_X': True, 'fit_intercept': True, 'n_jobs': 100, 'normalize': True})"
      ]
     },
     "execution_count": 21,
     "metadata": {},
     "output_type": "execute_result"
    }
   ],
   "source": [
    "\"Mejores parámetros  : \", grid.best_params_"
   ]
  },
  {
   "cell_type": "code",
   "execution_count": 48,
   "metadata": {},
   "outputs": [
    {
     "name": "stdout",
     "output_type": "stream",
     "text": [
      "CPU times: user 29.8 s, sys: 2min 12s, total: 2min 42s\n",
      "Wall time: 57.2 s\n"
     ]
    }
   ],
   "source": [
    "%%time\n",
    "\n",
    "# Cargamos las librerias para usar dask\n",
    "from dask.distributed import Client\n",
    "import dask_ml.joblib\n",
    "from sklearn.externals.joblib import parallel_backend\n",
    "\n",
    "# start a local Dask client\n",
    "client = Client()  \n",
    "\n",
    "# Configuramos los parametros\n",
    "with parallel_backend('dask'):\n",
    "    from sklearn.grid_search import GridSearchCV\n",
    "    X_train, y_train = make_regression(n_features = 3)\n",
    "    model = RandomForestRegressor()\n",
    "    parameters = {'n_estimators':[2, 5, 10, 15, 20], 'max_depth':[10, 50, 100, 500, None]}\n",
    "    grid = GridSearchCV(estimator = model, param_grid = parameters, cv = 15)\n",
    "    grid_dask.fit(X_train, y_train)\n",
    "    \"Residual sum of squares: %.2f\"% np.mean((grid_dask.predict(X_test) - y_test) ** 2)\n",
    "    grid_dask.best_params_"
   ]
  },
  {
   "cell_type": "code",
   "execution_count": 23,
   "metadata": {},
   "outputs": [
    {
     "data": {
      "text/plain": [
       "('Mejores parámetros con Dask : ',\n",
       " {'copy_X': True, 'fit_intercept': True, 'n_jobs': 100, 'normalize': True})"
      ]
     },
     "execution_count": 23,
     "metadata": {},
     "output_type": "execute_result"
    }
   ],
   "source": [
    "\"Mejores parámetros con Dask : \",grid_dask.best_params_"
   ]
  },
  {
   "cell_type": "code",
   "execution_count": 49,
   "metadata": {},
   "outputs": [
    {
     "name": "stdout",
     "output_type": "stream",
     "text": [
      "Paralelo:\n",
      "CPU times: user 12.2 s, sys: 33.7 s, total: 45.9 s\n",
      "Wall time: 18.1 s\n"
     ]
    },
    {
     "data": {
      "text/plain": [
       "{'max_depth': 100, 'n_estimators': 20}"
      ]
     },
     "execution_count": 49,
     "metadata": {},
     "output_type": "execute_result"
    }
   ],
   "source": [
    "# Repetimos para delayed\n",
    "def paralelo(A):\n",
    "    from sklearn.grid_search import GridSearchCV\n",
    "    X_train, y_train = make_regression(n_features = 3)\n",
    "    model = RandomForestRegressor()\n",
    "    parameters = {'n_estimators':[2, 5, 10, 15, 20], 'max_depth':[10, 50, 100, 500, None]}\n",
    "    grid = GridSearchCV(estimator = model, param_grid = parameters, cv = 15)\n",
    "    grid.fit(X_train, y_train)\n",
    "    return grid.best_params_\n",
    "\n",
    "delayed_grid = delayed(grid)\n",
    "print(\"Paralelo:\")\n",
    "%time paralelo(trips_df_sk)"
   ]
  },
  {
   "cell_type": "code",
   "execution_count": 26,
   "metadata": {},
   "outputs": [],
   "source": [
    "#  Con esta configuracion, se observa que skitlear gana con 38.6 s, luego delayed con 45.9 s y por ultimo dask_ml con 2min 42s"
   ]
  },
  {
   "cell_type": "code",
   "execution_count": null,
   "metadata": {},
   "outputs": [],
   "source": []
  }
 ],
 "metadata": {
  "kernelspec": {
   "display_name": "Python 3",
   "language": "python",
   "name": "python3"
  },
  "language_info": {
   "codemirror_mode": {
    "name": "ipython",
    "version": 3
   },
   "file_extension": ".py",
   "mimetype": "text/x-python",
   "name": "python",
   "nbconvert_exporter": "python",
   "pygments_lexer": "ipython3",
   "version": "3.5.4"
  }
 },
 "nbformat": 4,
 "nbformat_minor": 2
}
