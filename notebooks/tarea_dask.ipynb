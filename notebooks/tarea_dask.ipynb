{
 "cells": [
  {
   "cell_type": "markdown",
   "metadata": {},
   "source": [
    "## Ejercicio/Tarea\n",
    "### Daniel Sharp 138176\n",
    "\n",
    "Aprovecha la capacidad de Dask para realizar cómputo en paralelo para ajustar un modelo para predecir la proporción de propina de un viaje. Realiza búsqueda de hiperparámetros en grid con cross validation. Puedes usar funciones de scikit learn. Recuerda usar el decorador `delayed` para ejecutar en paralelo.\n",
    "\n",
    "* ¿Qué tan rápido es buscar en paralelo comparado con una búsqueda secuencial en python?"
   ]
  },
  {
   "cell_type": "markdown",
   "metadata": {},
   "source": [
    "**Python**  \n",
    "Necesitamos hacer one-hot-encoding para las variables categóricas (tipo de auto) y quizás convendría hacer 'feature engineering' para obtener otras variables, como mes del año, día de la semana o incluso periodo del día (madrugada, mañana, tarde, noche)."
   ]
  },
  {
   "cell_type": "code",
   "execution_count": 1,
   "metadata": {},
   "outputs": [],
   "source": [
    "from dask.distributed import Client\n",
    "from dask import delayed\n",
    "import dask.dataframe as dd\n",
    "import pandas as pd\n",
    "client = Client(\"scheduler:8786\")\n",
    "import time"
   ]
  },
  {
   "cell_type": "code",
   "execution_count": 2,
   "metadata": {},
   "outputs": [
    {
     "data": {
      "text/html": [
       "<div>\n",
       "<style scoped>\n",
       "    .dataframe tbody tr th:only-of-type {\n",
       "        vertical-align: middle;\n",
       "    }\n",
       "\n",
       "    .dataframe tbody tr th {\n",
       "        vertical-align: top;\n",
       "    }\n",
       "\n",
       "    .dataframe thead th {\n",
       "        text-align: right;\n",
       "    }\n",
       "</style>\n",
       "<table border=\"1\" class=\"dataframe\">\n",
       "  <thead>\n",
       "    <tr style=\"text-align: right;\">\n",
       "      <th></th>\n",
       "      <th>car_type</th>\n",
       "      <th>fare_amount</th>\n",
       "      <th>passenger_count</th>\n",
       "      <th>taxi_id</th>\n",
       "      <th>tip_amount</th>\n",
       "      <th>tpep_dropoff_datetime</th>\n",
       "      <th>tpep_pickup_datetime</th>\n",
       "      <th>trip_distance</th>\n",
       "    </tr>\n",
       "  </thead>\n",
       "  <tbody>\n",
       "    <tr>\n",
       "      <th>0</th>\n",
       "      <td>A</td>\n",
       "      <td>22.0</td>\n",
       "      <td>1</td>\n",
       "      <td>1</td>\n",
       "      <td>4.60</td>\n",
       "      <td>2015-01-03 01:37:02</td>\n",
       "      <td>2015-01-03 01:17:32</td>\n",
       "      <td>6.90</td>\n",
       "    </tr>\n",
       "    <tr>\n",
       "      <th>1</th>\n",
       "      <td>A</td>\n",
       "      <td>9.0</td>\n",
       "      <td>1</td>\n",
       "      <td>1</td>\n",
       "      <td>0.00</td>\n",
       "      <td>2015-01-05 23:35:02</td>\n",
       "      <td>2015-01-05 23:25:15</td>\n",
       "      <td>1.81</td>\n",
       "    </tr>\n",
       "    <tr>\n",
       "      <th>2</th>\n",
       "      <td>A</td>\n",
       "      <td>7.5</td>\n",
       "      <td>1</td>\n",
       "      <td>1</td>\n",
       "      <td>1.00</td>\n",
       "      <td>2015-01-06 15:22:12</td>\n",
       "      <td>2015-01-06 15:11:45</td>\n",
       "      <td>0.96</td>\n",
       "    </tr>\n",
       "    <tr>\n",
       "      <th>3</th>\n",
       "      <td>A</td>\n",
       "      <td>8.5</td>\n",
       "      <td>1</td>\n",
       "      <td>1</td>\n",
       "      <td>1.00</td>\n",
       "      <td>2015-01-08 08:31:23</td>\n",
       "      <td>2015-01-08 08:22:12</td>\n",
       "      <td>1.90</td>\n",
       "    </tr>\n",
       "    <tr>\n",
       "      <th>4</th>\n",
       "      <td>A</td>\n",
       "      <td>7.5</td>\n",
       "      <td>1</td>\n",
       "      <td>1</td>\n",
       "      <td>1.66</td>\n",
       "      <td>2015-01-08 12:35:54</td>\n",
       "      <td>2015-01-08 12:26:26</td>\n",
       "      <td>1.00</td>\n",
       "    </tr>\n",
       "  </tbody>\n",
       "</table>\n",
       "</div>"
      ],
      "text/plain": [
       "  car_type  fare_amount  passenger_count  taxi_id  tip_amount  \\\n",
       "0        A         22.0                1        1        4.60   \n",
       "1        A          9.0                1        1        0.00   \n",
       "2        A          7.5                1        1        1.00   \n",
       "3        A          8.5                1        1        1.00   \n",
       "4        A          7.5                1        1        1.66   \n",
       "\n",
       "  tpep_dropoff_datetime tpep_pickup_datetime  trip_distance  \n",
       "0   2015-01-03 01:37:02  2015-01-03 01:17:32           6.90  \n",
       "1   2015-01-05 23:35:02  2015-01-05 23:25:15           1.81  \n",
       "2   2015-01-06 15:22:12  2015-01-06 15:11:45           0.96  \n",
       "3   2015-01-08 08:31:23  2015-01-08 08:22:12           1.90  \n",
       "4   2015-01-08 12:35:54  2015-01-08 12:26:26           1.00  "
      ]
     },
     "execution_count": 2,
     "metadata": {},
     "output_type": "execute_result"
    }
   ],
   "source": [
    "trips_df = dd.read_csv(\"/data/trips.csv\")\n",
    "trips_df.tpep_pickup_datetime = trips_df.tpep_pickup_datetime.astype('M8[us]')\n",
    "trips_df.tpep_dropoff_datetime = trips_df.tpep_dropoff_datetime.astype('M8[us]')\n",
    "trips_df.head()"
   ]
  },
  {
   "cell_type": "code",
   "execution_count": 3,
   "metadata": {},
   "outputs": [],
   "source": [
    "from sklearn.base import TransformerMixin"
   ]
  },
  {
   "cell_type": "markdown",
   "metadata": {},
   "source": [
    "Funciones para hacer feature engineering a los datos:"
   ]
  },
  {
   "cell_type": "code",
   "execution_count": 4,
   "metadata": {},
   "outputs": [],
   "source": [
    "# Extraer valor de timestamp\n",
    "class getFromTimestamp(TransformerMixin):  \n",
    "\n",
    "    def __init__(self, columns=[None], what = 'hour'):\n",
    "        self.columns = columns\n",
    "        self.what = what\n",
    "\n",
    "    def transform(self, df):\n",
    "        if (self.what is 'hour'):\n",
    "            for col in self.columns:\n",
    "                df[\"hour\"] = df[col].map(lambda d: d.hour)\n",
    "        elif (self.what is 'day'):\n",
    "            for col in self.columns:\n",
    "                df[\"day\"]= df[col].map(lambda d: d.day)\n",
    "        elif (self.what is 'dow'):\n",
    "            for col in self.columns:\n",
    "                df[\"dow\"]= df[col].map(lambda d: d.dayofweek)\n",
    "        elif (self.what is 'month'):\n",
    "            for col in self.columns:\n",
    "                df[\"month\"]= df[col].map(lambda d: d.month)\n",
    "        else:\n",
    "            print(\"option not available\")\n",
    "        self = df\n",
    "    def fit(self,*_):\n",
    "        return self"
   ]
  },
  {
   "cell_type": "code",
   "execution_count": 5,
   "metadata": {},
   "outputs": [],
   "source": [
    "# Para particionar una variable de horas\n",
    "class hourBuckets(TransformerMixin):  \n",
    "\n",
    "    def __init__(self, column=None):\n",
    "        self.column = column\n",
    "\n",
    "    def transform(self, df):\n",
    "        colname = self.column+\"_buck\"\n",
    "        def func(x):\n",
    "            if (x < 7):\n",
    "                return 1\n",
    "            elif(x < 13):\n",
    "                return 2\n",
    "            elif (x < 19):\n",
    "                return 3\n",
    "            else:\n",
    "                return 4\n",
    "        df[colname] = df[self.column].astype(int).map(lambda d: func(d))\n",
    "        self = df\n",
    "    def fit(self,*_):\n",
    "        return self"
   ]
  },
  {
   "cell_type": "code",
   "execution_count": 6,
   "metadata": {},
   "outputs": [],
   "source": [
    "# Para particionar una variable de horas\n",
    "class make_dummies(TransformerMixin):  \n",
    "\n",
    "    def __init__(self, columns=[None]):\n",
    "        self.columns = columns\n",
    "\n",
    "    def transform(self, df):\n",
    "        for c in self.columns:\n",
    "            dummies = dd.get_dummies(df.categorize(columns=c)[c], prefix = c, drop_first=True)\n",
    "            for col in dummies.columns:\n",
    "                df[col] = dummies[col]\n",
    "#        self = dd.get_dummies(df.categorize(self.columns), drop_first=True)\n",
    "    def fit(self,*_):\n",
    "        return self"
   ]
  },
  {
   "cell_type": "markdown",
   "metadata": {},
   "source": [
    "Declaración de las funciones y ejecución para crear la base sobre la cual correré los modelos:"
   ]
  },
  {
   "cell_type": "code",
   "execution_count": 7,
   "metadata": {},
   "outputs": [],
   "source": [
    "h = getFromTimestamp([\"tpep_dropoff_datetime\"], \"hour\")\n",
    "dow = getFromTimestamp([\"tpep_dropoff_datetime\"], \"dow\")\n",
    "mon = getFromTimestamp([\"tpep_dropoff_datetime\"],\"month\")\n",
    "hb = hourBuckets(\"hour\")\n",
    "md = make_dummies(['dow','hour_buck','month', 'car_type'])"
   ]
  },
  {
   "cell_type": "code",
   "execution_count": 8,
   "metadata": {
    "scrolled": false
   },
   "outputs": [],
   "source": [
    "h.fit(trips_df).transform(trips_df)\n",
    "dow.fit(trips_df).transform(trips_df)\n",
    "mon.fit(trips_df).transform(trips_df)\n",
    "hb.fit(trips_df).transform(trips_df)\n",
    "md.fit(trips_df).transform(trips_df)\n",
    "trips_df = trips_df.assign(target = trips_df.tip_amount/trips_df.fare_amount)\n",
    "trips_df = trips_df.drop(['car_type','taxi_id','tpep_dropoff_datetime','tpep_pickup_datetime','hour','hour_buck','month','dow','tip_amount'],axis=1)"
   ]
  },
  {
   "cell_type": "code",
   "execution_count": 9,
   "metadata": {},
   "outputs": [
    {
     "data": {
      "text/plain": [
       "fare_amount        float64\n",
       "passenger_count      int64\n",
       "trip_distance      float64\n",
       "dow_0                uint8\n",
       "dow_1                uint8\n",
       "dow_3                uint8\n",
       "dow_4                uint8\n",
       "dow_6                uint8\n",
       "dow_2                uint8\n",
       "hour_buck_4          uint8\n",
       "hour_buck_3          uint8\n",
       "hour_buck_2          uint8\n",
       "car_type_B           uint8\n",
       "target             float64\n",
       "dtype: object"
      ]
     },
     "execution_count": 9,
     "metadata": {},
     "output_type": "execute_result"
    }
   ],
   "source": [
    "trips_df.dtypes"
   ]
  },
  {
   "cell_type": "code",
   "execution_count": 10,
   "metadata": {},
   "outputs": [
    {
     "data": {
      "text/html": [
       "<div>\n",
       "<style scoped>\n",
       "    .dataframe tbody tr th:only-of-type {\n",
       "        vertical-align: middle;\n",
       "    }\n",
       "\n",
       "    .dataframe tbody tr th {\n",
       "        vertical-align: top;\n",
       "    }\n",
       "\n",
       "    .dataframe thead th {\n",
       "        text-align: right;\n",
       "    }\n",
       "</style>\n",
       "<table border=\"1\" class=\"dataframe\">\n",
       "  <thead>\n",
       "    <tr style=\"text-align: right;\">\n",
       "      <th></th>\n",
       "      <th>fare_amount</th>\n",
       "      <th>passenger_count</th>\n",
       "      <th>trip_distance</th>\n",
       "      <th>dow_0</th>\n",
       "      <th>dow_1</th>\n",
       "      <th>dow_3</th>\n",
       "      <th>dow_4</th>\n",
       "      <th>dow_6</th>\n",
       "      <th>dow_2</th>\n",
       "      <th>hour_buck_4</th>\n",
       "      <th>hour_buck_3</th>\n",
       "      <th>hour_buck_2</th>\n",
       "      <th>car_type_B</th>\n",
       "      <th>target</th>\n",
       "    </tr>\n",
       "  </thead>\n",
       "  <tbody>\n",
       "    <tr>\n",
       "      <th>3276</th>\n",
       "      <td>0.0</td>\n",
       "      <td>5</td>\n",
       "      <td>0.23</td>\n",
       "      <td>0</td>\n",
       "      <td>1</td>\n",
       "      <td>0</td>\n",
       "      <td>0</td>\n",
       "      <td>0</td>\n",
       "      <td>0</td>\n",
       "      <td>0</td>\n",
       "      <td>0</td>\n",
       "      <td>1</td>\n",
       "      <td>0</td>\n",
       "      <td>NaN</td>\n",
       "    </tr>\n",
       "    <tr>\n",
       "      <th>4050</th>\n",
       "      <td>0.0</td>\n",
       "      <td>2</td>\n",
       "      <td>13.40</td>\n",
       "      <td>0</td>\n",
       "      <td>0</td>\n",
       "      <td>0</td>\n",
       "      <td>0</td>\n",
       "      <td>0</td>\n",
       "      <td>0</td>\n",
       "      <td>0</td>\n",
       "      <td>0</td>\n",
       "      <td>0</td>\n",
       "      <td>1</td>\n",
       "      <td>NaN</td>\n",
       "    </tr>\n",
       "    <tr>\n",
       "      <th>5739</th>\n",
       "      <td>0.0</td>\n",
       "      <td>2</td>\n",
       "      <td>4.80</td>\n",
       "      <td>0</td>\n",
       "      <td>0</td>\n",
       "      <td>0</td>\n",
       "      <td>0</td>\n",
       "      <td>0</td>\n",
       "      <td>1</td>\n",
       "      <td>1</td>\n",
       "      <td>0</td>\n",
       "      <td>0</td>\n",
       "      <td>1</td>\n",
       "      <td>NaN</td>\n",
       "    </tr>\n",
       "  </tbody>\n",
       "</table>\n",
       "</div>"
      ],
      "text/plain": [
       "      fare_amount  passenger_count  trip_distance  dow_0  dow_1  dow_3  dow_4  \\\n",
       "3276          0.0                5           0.23      0      1      0      0   \n",
       "4050          0.0                2          13.40      0      0      0      0   \n",
       "5739          0.0                2           4.80      0      0      0      0   \n",
       "\n",
       "      dow_6  dow_2  hour_buck_4  hour_buck_3  hour_buck_2  car_type_B  target  \n",
       "3276      0      0            0            0            1           0     NaN  \n",
       "4050      0      0            0            0            0           1     NaN  \n",
       "5739      0      1            1            0            0           1     NaN  "
      ]
     },
     "execution_count": 10,
     "metadata": {},
     "output_type": "execute_result"
    }
   ],
   "source": [
    "trips_df[trips_df.isnull().any(axis=1)].compute()"
   ]
  },
  {
   "cell_type": "code",
   "execution_count": 11,
   "metadata": {},
   "outputs": [],
   "source": [
    "# tiramos las tres observaciones con NA\n",
    "trips_df = trips_df.dropna()"
   ]
  },
  {
   "cell_type": "markdown",
   "metadata": {},
   "source": [
    "#### Hyper-parameters"
   ]
  },
  {
   "cell_type": "code",
   "execution_count": 12,
   "metadata": {},
   "outputs": [],
   "source": [
    "from sklearn.model_selection import GridSearchCV\n",
    "from sklearn.linear_model import Lasso\n",
    "from sklearn.model_selection import train_test_split"
   ]
  },
  {
   "cell_type": "code",
   "execution_count": 13,
   "metadata": {},
   "outputs": [],
   "source": [
    "params = {'max_iter' :[50, 100,200],\n",
    "          'alpha':[0.001,0.01,0.1,1]}"
   ]
  },
  {
   "cell_type": "code",
   "execution_count": 14,
   "metadata": {},
   "outputs": [],
   "source": [
    "clf = GridSearchCV(Lasso(), params, cv=10, scoring='neg_mean_squared_error',verbose=1, n_jobs=-1)\n",
    "delayed_clf = delayed(clf)\n",
    "X = trips_df.drop('target',axis=1)\n",
    "y = trips_df['target']"
   ]
  },
  {
   "cell_type": "code",
   "execution_count": 15,
   "metadata": {},
   "outputs": [
    {
     "name": "stdout",
     "output_type": "stream",
     "text": [
      "CPU times: user 20.9 ms, sys: 0 ns, total: 20.9 ms\n",
      "Wall time: 1.6 s\n"
     ]
    }
   ],
   "source": [
    "%%time\n",
    "res = delayed_clf.fit(X, y).compute()"
   ]
  },
  {
   "cell_type": "code",
   "execution_count": 16,
   "metadata": {},
   "outputs": [
    {
     "name": "stderr",
     "output_type": "stream",
     "text": [
      "/usr/local/lib/python3.5/site-packages/sklearn/model_selection/_search.py:761: DeprecationWarning: The grid_scores_ attribute was deprecated in version 0.18 in favor of the more elaborate cv_results_ attribute. The grid_scores_ attribute will not be available from 0.20\n",
      "  DeprecationWarning)\n"
     ]
    },
    {
     "data": {
      "text/plain": [
       "[mean: -0.01638, std: 0.00502, params: {'max_iter': 50, 'alpha': 0.001},\n",
       " mean: -0.01638, std: 0.00502, params: {'max_iter': 100, 'alpha': 0.001},\n",
       " mean: -0.01638, std: 0.00502, params: {'max_iter': 200, 'alpha': 0.001},\n",
       " mean: -0.01640, std: 0.00500, params: {'max_iter': 50, 'alpha': 0.01},\n",
       " mean: -0.01640, std: 0.00500, params: {'max_iter': 100, 'alpha': 0.01},\n",
       " mean: -0.01640, std: 0.00500, params: {'max_iter': 200, 'alpha': 0.01},\n",
       " mean: -0.01640, std: 0.00500, params: {'max_iter': 50, 'alpha': 0.1},\n",
       " mean: -0.01640, std: 0.00500, params: {'max_iter': 100, 'alpha': 0.1},\n",
       " mean: -0.01640, std: 0.00500, params: {'max_iter': 200, 'alpha': 0.1},\n",
       " mean: -0.01640, std: 0.00500, params: {'max_iter': 50, 'alpha': 1},\n",
       " mean: -0.01640, std: 0.00500, params: {'max_iter': 100, 'alpha': 1},\n",
       " mean: -0.01640, std: 0.00500, params: {'max_iter': 200, 'alpha': 1}]"
      ]
     },
     "execution_count": 16,
     "metadata": {},
     "output_type": "execute_result"
    }
   ],
   "source": [
    "res.grid_scores_"
   ]
  },
  {
   "cell_type": "code",
   "execution_count": 17,
   "metadata": {},
   "outputs": [],
   "source": [
    "X = trips_df.drop('target',axis=1).compute()\n",
    "y = trips_df['target'].compute()"
   ]
  },
  {
   "cell_type": "code",
   "execution_count": 18,
   "metadata": {},
   "outputs": [
    {
     "name": "stdout",
     "output_type": "stream",
     "text": [
      "Fitting 10 folds for each of 12 candidates, totalling 120 fits\n",
      "CPU times: user 222 ms, sys: 92.6 ms, total: 314 ms\n",
      "Wall time: 1.92 s\n"
     ]
    },
    {
     "name": "stderr",
     "output_type": "stream",
     "text": [
      "[Parallel(n_jobs=-1)]: Done 120 out of 120 | elapsed:    1.8s finished\n"
     ]
    }
   ],
   "source": [
    "%%time\n",
    "res = clf.fit(X,y)"
   ]
  },
  {
   "cell_type": "code",
   "execution_count": 19,
   "metadata": {},
   "outputs": [
    {
     "name": "stderr",
     "output_type": "stream",
     "text": [
      "/usr/local/lib/python3.5/site-packages/sklearn/model_selection/_search.py:761: DeprecationWarning: The grid_scores_ attribute was deprecated in version 0.18 in favor of the more elaborate cv_results_ attribute. The grid_scores_ attribute will not be available from 0.20\n",
      "  DeprecationWarning)\n"
     ]
    },
    {
     "data": {
      "text/plain": [
       "[mean: -0.01638, std: 0.00502, params: {'max_iter': 50, 'alpha': 0.001},\n",
       " mean: -0.01638, std: 0.00502, params: {'max_iter': 100, 'alpha': 0.001},\n",
       " mean: -0.01638, std: 0.00502, params: {'max_iter': 200, 'alpha': 0.001},\n",
       " mean: -0.01640, std: 0.00500, params: {'max_iter': 50, 'alpha': 0.01},\n",
       " mean: -0.01640, std: 0.00500, params: {'max_iter': 100, 'alpha': 0.01},\n",
       " mean: -0.01640, std: 0.00500, params: {'max_iter': 200, 'alpha': 0.01},\n",
       " mean: -0.01640, std: 0.00500, params: {'max_iter': 50, 'alpha': 0.1},\n",
       " mean: -0.01640, std: 0.00500, params: {'max_iter': 100, 'alpha': 0.1},\n",
       " mean: -0.01640, std: 0.00500, params: {'max_iter': 200, 'alpha': 0.1},\n",
       " mean: -0.01640, std: 0.00500, params: {'max_iter': 50, 'alpha': 1},\n",
       " mean: -0.01640, std: 0.00500, params: {'max_iter': 100, 'alpha': 1},\n",
       " mean: -0.01640, std: 0.00500, params: {'max_iter': 200, 'alpha': 1}]"
      ]
     },
     "execution_count": 19,
     "metadata": {},
     "output_type": "execute_result"
    }
   ],
   "source": [
    "res.grid_scores_"
   ]
  },
  {
   "cell_type": "markdown",
   "metadata": {},
   "source": [
    "Haz lo mismo que arriba, pero utilizando la biblioteca Dask-ML http://dask-ml.readthedocs.io/en/latest/ \n",
    "\n",
    "* ¿Cómo se comparan los tiempos de ejecución de tu búsqueda con la de Dask ML?"
   ]
  },
  {
   "cell_type": "code",
   "execution_count": 20,
   "metadata": {},
   "outputs": [],
   "source": [
    "from dask_searchcv import GridSearchCV as GSCVDask\n",
    "from dask_ml.linear_model import LinearRegression"
   ]
  },
  {
   "cell_type": "code",
   "execution_count": 21,
   "metadata": {},
   "outputs": [],
   "source": [
    "params = {'max_iter' :[50, 100,200],\n",
    "          'C':[0.001,0.01,0.1,1]}"
   ]
  },
  {
   "cell_type": "markdown",
   "metadata": {},
   "source": [
    "**Utilizando el estimador 'Linear Regression' y Grid Search de Dask**  \n",
    "Por alguna razón es muy lento y tarda 3 minutos en ejecutarse:"
   ]
  },
  {
   "cell_type": "code",
   "execution_count": 22,
   "metadata": {},
   "outputs": [
    {
     "name": "stdout",
     "output_type": "stream",
     "text": [
      "CPU times: user 348 ms, sys: 29.5 ms, total: 378 ms\n",
      "Wall time: 4min 13s\n"
     ]
    }
   ],
   "source": [
    "%%time\n",
    "clf_dask = GSCVDask(LinearRegression(penalty='l1'), params, cv=10, scoring='neg_mean_squared_error', n_jobs=-1)\n",
    "X = trips_df.drop('target',axis=1).values\n",
    "y = trips_df['target'].values\n",
    "res_dask=clf_dask.fit(X,y)"
   ]
  },
  {
   "cell_type": "code",
   "execution_count": 23,
   "metadata": {},
   "outputs": [
    {
     "data": {
      "text/plain": [
       "-0.03341257110650153"
      ]
     },
     "execution_count": 23,
     "metadata": {},
     "output_type": "execute_result"
    }
   ],
   "source": [
    "res_dask.best_score_"
   ]
  },
  {
   "cell_type": "markdown",
   "metadata": {},
   "source": [
    "**Utilizando el estimador 'Lasso' de Sklearn y Grid Search de Dask**  \n",
    "Es mucho más rápido que el anterior y comparable con el de sklearn"
   ]
  },
  {
   "cell_type": "code",
   "execution_count": 24,
   "metadata": {},
   "outputs": [],
   "source": [
    "params = {'max_iter' :[50, 100,200],\n",
    "          'alpha':[0.001,0.01,0.1,1]}"
   ]
  },
  {
   "cell_type": "code",
   "execution_count": 25,
   "metadata": {},
   "outputs": [
    {
     "name": "stdout",
     "output_type": "stream",
     "text": [
      "CPU times: user 49.7 ms, sys: 6.22 ms, total: 55.9 ms\n",
      "Wall time: 1.09 s\n"
     ]
    }
   ],
   "source": [
    "%%time\n",
    "#clf_dask = GSCVDask(LinearRegression(penalty='l1'), params, cv=10, scoring='neg_mean_squared_error', n_jobs=-1)\n",
    "clf_dask = GSCVDask(Lasso(), params, cv=10, scoring='neg_mean_squared_error', n_jobs=-1)\n",
    "X = trips_df.drop('target',axis=1).values\n",
    "y = trips_df['target'].values\n",
    "res_dask=clf_dask.fit(X,y)"
   ]
  },
  {
   "cell_type": "code",
   "execution_count": 26,
   "metadata": {},
   "outputs": [
    {
     "data": {
      "text/plain": [
       "-0.016381782765348213"
      ]
     },
     "execution_count": 26,
     "metadata": {},
     "output_type": "execute_result"
    }
   ],
   "source": [
    "res_dask.best_score_"
   ]
  },
  {
   "cell_type": "markdown",
   "metadata": {},
   "source": [
    "**Bonus**\n",
    "\n",
    "Haz lo mismo utilizando Spark ML\n",
    "\n",
    "* ¿Cómo se comparan los tiempos de ejecución de Spark vs Dask?"
   ]
  },
  {
   "cell_type": "markdown",
   "metadata": {},
   "source": [
    "Guardo el dataframe procesado a CSV para poder ejecutarlo en Spark:"
   ]
  },
  {
   "cell_type": "code",
   "execution_count": 27,
   "metadata": {},
   "outputs": [
    {
     "data": {
      "text/plain": [
       "['/data/0.part']"
      ]
     },
     "execution_count": 27,
     "metadata": {},
     "output_type": "execute_result"
    }
   ],
   "source": [
    "dd.to_csv(trips_df,'/data/')"
   ]
  },
  {
   "cell_type": "markdown",
   "metadata": {},
   "source": [
    "La ejecución en Spark se encuentra en el archivo 'trips_spark.ipynb', a continuación está un screenshot de la ejecución del GridSearch en este programa:  "
   ]
  },
  {
   "cell_type": "markdown",
   "metadata": {},
   "source": [
    "![](spark.png)"
   ]
  },
  {
   "cell_type": "markdown",
   "metadata": {},
   "source": [
    "Del ejercicio podemos ver que el grid search más rápido fue utilizando la función de GridSearch de Dask con el estimador de Sklearn, tardó cerca de un segundo. El segundo más rápido fue el que utiliza las funciones de sklearn con el decorador de delayed, pues ejecutó el search completo tan solo 1.6 segundos, seguido por el grid utilizando funciones secuenciales de sklearn, con 1.9 segundos. Finalmente está Spark, que tardó cerca de 20 segundos, por mucho el más lento."
   ]
  }
 ],
 "metadata": {
  "kernelspec": {
   "display_name": "Python 3",
   "language": "python",
   "name": "python3"
  },
  "language_info": {
   "codemirror_mode": {
    "name": "ipython",
    "version": 3
   },
   "file_extension": ".py",
   "mimetype": "text/x-python",
   "name": "python",
   "nbconvert_exporter": "python",
   "pygments_lexer": "ipython3",
   "version": "3.5.4"
  }
 },
 "nbformat": 4,
 "nbformat_minor": 2
}
