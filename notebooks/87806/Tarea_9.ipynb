{
 "cells": [
  {
   "cell_type": "markdown",
   "metadata": {},
   "source": [
    "# TAREA 9 - DASK"
   ]
  },
  {
   "cell_type": "markdown",
   "metadata": {},
   "source": [
    "## Alejandro Hernández Farías, Clave Única 87806"
   ]
  },
  {
   "cell_type": "markdown",
   "metadata": {},
   "source": [
    "Aprovecha la capacidad de Dask para realizar cómputo en paralelo para ajustar un modelo para predecir la proporción de propina de un viaje. Realiza búsqueda de hiperparámetros en grid con cross validation. Puedes usar funciones de scikit learn. Recuerda usar el decorador `delayed` para ejecutar en paralelo. Hacer lo mismo, pero utilizando la biblioteca Dask-ML"
   ]
  },
  {
   "cell_type": "code",
   "execution_count": 229,
   "metadata": {
    "collapsed": true
   },
   "outputs": [],
   "source": [
    "# Importamos las librerías que vamos a utilizar:\n",
    "from dask import delayed\n",
    "from dask import dataframe\n",
    "import numpy as np\n",
    "from sklearn import cross_validation\n",
    "from sklearn.model_selection import train_test_split\n",
    "from sklearn.linear_model import LinearRegression\n",
    "from sklearn.model_selection import GridSearchCV\n",
    "from sklearn.preprocessing import LabelEncoder"
   ]
  },
  {
   "cell_type": "code",
   "execution_count": 139,
   "metadata": {},
   "outputs": [
    {
     "data": {
      "text/html": [
       "<div>\n",
       "<style scoped>\n",
       "    .dataframe tbody tr th:only-of-type {\n",
       "        vertical-align: middle;\n",
       "    }\n",
       "\n",
       "    .dataframe tbody tr th {\n",
       "        vertical-align: top;\n",
       "    }\n",
       "\n",
       "    .dataframe thead th {\n",
       "        text-align: right;\n",
       "    }\n",
       "</style>\n",
       "<table border=\"1\" class=\"dataframe\">\n",
       "  <thead>\n",
       "    <tr style=\"text-align: right;\">\n",
       "      <th></th>\n",
       "      <th>car_type</th>\n",
       "      <th>fare_amount</th>\n",
       "      <th>passenger_count</th>\n",
       "      <th>taxi_id</th>\n",
       "      <th>tip_amount</th>\n",
       "      <th>tpep_dropoff_datetime</th>\n",
       "      <th>tpep_pickup_datetime</th>\n",
       "      <th>trip_distance</th>\n",
       "      <th>prop_viaje</th>\n",
       "    </tr>\n",
       "  </thead>\n",
       "  <tbody>\n",
       "    <tr>\n",
       "      <th>0</th>\n",
       "      <td>A</td>\n",
       "      <td>22.0</td>\n",
       "      <td>1</td>\n",
       "      <td>1</td>\n",
       "      <td>4.6</td>\n",
       "      <td>2015-01-03 01:37:02</td>\n",
       "      <td>2015-01-03 01:17:32</td>\n",
       "      <td>6.90</td>\n",
       "      <td>0.209091</td>\n",
       "    </tr>\n",
       "    <tr>\n",
       "      <th>1</th>\n",
       "      <td>A</td>\n",
       "      <td>9.0</td>\n",
       "      <td>1</td>\n",
       "      <td>1</td>\n",
       "      <td>0.0</td>\n",
       "      <td>2015-01-05 23:35:02</td>\n",
       "      <td>2015-01-05 23:25:15</td>\n",
       "      <td>1.81</td>\n",
       "      <td>0.000000</td>\n",
       "    </tr>\n",
       "    <tr>\n",
       "      <th>2</th>\n",
       "      <td>A</td>\n",
       "      <td>7.5</td>\n",
       "      <td>1</td>\n",
       "      <td>1</td>\n",
       "      <td>1.0</td>\n",
       "      <td>2015-01-06 15:22:12</td>\n",
       "      <td>2015-01-06 15:11:45</td>\n",
       "      <td>0.96</td>\n",
       "      <td>0.133333</td>\n",
       "    </tr>\n",
       "  </tbody>\n",
       "</table>\n",
       "</div>"
      ],
      "text/plain": [
       "  car_type  fare_amount  passenger_count  taxi_id  tip_amount  \\\n",
       "0        A         22.0                1        1         4.6   \n",
       "1        A          9.0                1        1         0.0   \n",
       "2        A          7.5                1        1         1.0   \n",
       "\n",
       "  tpep_dropoff_datetime tpep_pickup_datetime  trip_distance  prop_viaje  \n",
       "0   2015-01-03 01:37:02  2015-01-03 01:17:32           6.90    0.209091  \n",
       "1   2015-01-05 23:35:02  2015-01-05 23:25:15           1.81    0.000000  \n",
       "2   2015-01-06 15:22:12  2015-01-06 15:11:45           0.96    0.133333  "
      ]
     },
     "execution_count": 139,
     "metadata": {},
     "output_type": "execute_result"
    }
   ],
   "source": [
    "# Leemos la base de datos y creamos la columna de proporción de propinas en un viaje, pues el la que queremos predecir:\n",
    "trips_df = dataframe.read_csv(\"/data/trips.csv\")\n",
    "trips_df['prop_viaje']=trips_df['tip_amount']/trips_df['fare_amount']\n",
    "trips_df=trips_df.fillna(trips_df.mean()).compute()\n",
    "trips_df.head(3)"
   ]
  },
  {
   "cell_type": "code",
   "execution_count": 192,
   "metadata": {
    "collapsed": true
   },
   "outputs": [],
   "source": [
    "# Definimos las variable dependiente \"y\" y las independientes \"X\"\n",
    "# Vamos a predecir la proporcion de propinas en funcion de la tarifa, el número de pasajeros, el id del taxi y la distancia del viaje.\n",
    "X=np.array(trips_df[['fare_amount','passenger_count','taxi_id','trip_distance']])\n",
    "y=np.array(trips_df[['prop_viaje']])\n",
    "\n",
    "# Dividimos en train(70%) y test(30%). \n",
    "X_train, X_test, y_train, y_test = cross_validation.train_test_split(X, y, test_size=0.3,random_state=1)"
   ]
  },
  {
   "cell_type": "markdown",
   "metadata": {},
   "source": [
    "#### SECUENCIAL"
   ]
  },
  {
   "cell_type": "code",
   "execution_count": 216,
   "metadata": {},
   "outputs": [
    {
     "name": "stdout",
     "output_type": "stream",
     "text": [
      "0.015384485022342511\n",
      "CPU times: user 170 ms, sys: 100 ms, total: 270 ms\n",
      "Wall time: 160 ms\n"
     ]
    }
   ],
   "source": [
    "%%time\n",
    "# Definimos los parametros para hacer el grid search usando GridSearchCV.\n",
    "modelo=LinearRegression()\n",
    "param={'fit_intercept':[True,False],'normalize':[True,False],'copy_X':[True,False]}\n",
    "grid_s=GridSearchCV(modelo,param,cv=5)\n",
    "\n",
    "# Entrenamos el modelo utilizando los datos de entrenamiento.\n",
    "grid_s.fit(X_train,y_train)\n",
    "\n",
    "# Hacemos la predicción utilizando los datos de prueba para calcular la suma de diferencias al cuadarado.\n",
    "suma_dif_cuadrado_s=np.mean((grid_s.predict(X_test)-y_test)**2)\n",
    "\n",
    "# Imprimimos la suma de diferencias al cuadrado\n",
    "print(suma_dif_cuadrado_s)"
   ]
  },
  {
   "cell_type": "markdown",
   "metadata": {},
   "source": [
    "#### PARALELO"
   ]
  },
  {
   "cell_type": "code",
   "execution_count": 218,
   "metadata": {},
   "outputs": [
    {
     "name": "stdout",
     "output_type": "stream",
     "text": [
      "Delayed('mean-85555ca1-c1e8-426d-8715-c9935ce11c41')\n",
      "CPU times: user 10 ms, sys: 0 ns, total: 10 ms\n",
      "Wall time: 4.29 ms\n"
     ]
    }
   ],
   "source": [
    "%%time\n",
    "# Definimos los parametros para hacer el grid search usando GridSearchCV.\n",
    "modelo=LinearRegression()\n",
    "param={'fit_intercept':[True,False],'normalize':[True,False],'copy_X':[True,False]}\n",
    "grid_p=delayed(GridSearchCV(modelo,param,cv=5))\n",
    "\n",
    "# Entrenamos el modelo utilizando los datos de entrenamiento.\n",
    "grid_p.fit(X_train,y_train)\n",
    "\n",
    "# Hacemos la predicción utilizando los datos de prueba para calcular la suma de diferencias al cuadarado.\n",
    "suma_dif_cuadrado_p=np.mean((grid_p.predict(X_test)-y_test)**2)\n",
    "\n",
    "# Imprimimos la suma de diferencias al cuadrado\n",
    "print(suma_dif_cuadrado_p)"
   ]
  },
  {
   "cell_type": "markdown",
   "metadata": {},
   "source": [
    "__- ¿Qué tan rápido es buscar en paralelo comparado con una búsqueda secuencial en python?__"
   ]
  },
  {
   "cell_type": "markdown",
   "metadata": {},
   "source": [
    "__Es 37 veces más rápido. Lo anterior, debido a que el paralelo tardó 4.29 ms, mientras que el secuencial tardó 160 ms__"
   ]
  },
  {
   "cell_type": "markdown",
   "metadata": {},
   "source": [
    "#### UTILIZANDO DASK-ML"
   ]
  },
  {
   "cell_type": "code",
   "execution_count": 227,
   "metadata": {},
   "outputs": [
    {
     "name": "stdout",
     "output_type": "stream",
     "text": [
      "0.015384485022342511\n",
      "CPU times: user 150 ms, sys: 150 ms, total: 300 ms\n",
      "Wall time: 229 ms\n"
     ]
    }
   ],
   "source": [
    "%%time\n",
    "from dask_searchcv import GridSearchCV\n",
    "# Definimos los parametros para hacer el grid search usando GridSearchCV.\n",
    "modelo=LinearRegression()\n",
    "param={'fit_intercept':[True,False],'normalize':[True,False],'copy_X':[True,False]}\n",
    "grid_d=GridSearchCV(modelo,param,cv=5)\n",
    "\n",
    "# Entrenamos el modelo utilizando los datos de entrenamiento.\n",
    "grid_d.fit(X_train,y_train)\n",
    "\n",
    "# Hacemos la predicción utilizando los datos de prueba para calcular la suma de diferencias al cuadarado.\n",
    "suma_dif_cuadrado_d=np.mean((grid_d.predict(X_test)-y_test)**2)\n",
    "\n",
    "# Imprimimos la suma de diferencias al cuadrado\n",
    "print(suma_dif_cuadrado_d)\n"
   ]
  },
  {
   "cell_type": "markdown",
   "metadata": {},
   "source": [
    "__- ¿Cómo se comparan los tiempos de ejecución de tu búsqueda con la de Dask ML?__"
   ]
  },
  {
   "cell_type": "markdown",
   "metadata": {},
   "source": [
    "__La ejecución utilizando Dask ML es la más lenta de la las tres pues tarda 229 ms, mientras que la secuencial tarda 160 ms y la paralelo 4.29 ms__"
   ]
  }
 ],
 "metadata": {
  "kernelspec": {
   "display_name": "Python 3",
   "language": "python",
   "name": "python3"
  },
  "language_info": {
   "codemirror_mode": {
    "name": "ipython",
    "version": 3
   },
   "file_extension": ".py",
   "mimetype": "text/x-python",
   "name": "python",
   "nbconvert_exporter": "python",
   "pygments_lexer": "ipython3",
   "version": "3.6.1"
  }
 },
 "nbformat": 4,
 "nbformat_minor": 2
}
