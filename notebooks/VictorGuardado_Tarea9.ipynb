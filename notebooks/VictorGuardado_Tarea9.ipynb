{
 "cells": [
  {
   "cell_type": "markdown",
   "metadata": {},
   "source": [
    "# Tarea 9\n",
    "\n",
    "A continuación se crearán modelos para poder predecir la proporción de propina de un viaje. Además, dichos modelos se implementaran a través de búsquedas paralelas y secuenciales, con el objetivo de evaluar sus tiempos de ejecución. Utilizaremos funciones de scikit learn, Dask-ML  y el decorador **delayed** para ejecutar en paralelo.\n",
    "\n",
    "\n",
    "Con la información resultante se responderán las siguientes preguntas: \n",
    "\n",
    "**1.- ¿Qué tan rápido es buscar en paralelo comparado con una búsqueda secuencial en python?**\n",
    "\n",
    "**2.- ¿Cómo se comparan los tiempos de ejecución de tu búsqueda con la de Dask ML?**\n",
    "\n",
    "______________________________________________________________________________________________________"
   ]
  },
  {
   "cell_type": "markdown",
   "metadata": {},
   "source": [
    "Primeramente se importan las librerías"
   ]
  },
  {
   "cell_type": "code",
   "execution_count": 175,
   "metadata": {},
   "outputs": [],
   "source": [
    "import time\n",
    "import numpy as np\n",
    "import dask.dataframe as dd\n",
    "from dask import delayed\n",
    "from dask_ml.linear_model import LinearRegression\n",
    "from sklearn import linear_model\n",
    "from sklearn.model_selection import GridSearchCV\n",
    "from sklearn.model_selection import train_test_split\n",
    "#from sklearn.linear_model import Ridge"
   ]
  },
  {
   "cell_type": "markdown",
   "metadata": {},
   "source": [
    "Se cargan los datos y se exploran"
   ]
  },
  {
   "cell_type": "code",
   "execution_count": 176,
   "metadata": {
    "scrolled": false
   },
   "outputs": [
    {
     "data": {
      "text/html": [
       "<div>\n",
       "<style scoped>\n",
       "    .dataframe tbody tr th:only-of-type {\n",
       "        vertical-align: middle;\n",
       "    }\n",
       "\n",
       "    .dataframe tbody tr th {\n",
       "        vertical-align: top;\n",
       "    }\n",
       "\n",
       "    .dataframe thead th {\n",
       "        text-align: right;\n",
       "    }\n",
       "</style>\n",
       "<table border=\"1\" class=\"dataframe\">\n",
       "  <thead>\n",
       "    <tr style=\"text-align: right;\">\n",
       "      <th></th>\n",
       "      <th>car_type</th>\n",
       "      <th>fare_amount</th>\n",
       "      <th>passenger_count</th>\n",
       "      <th>taxi_id</th>\n",
       "      <th>tip_amount</th>\n",
       "      <th>tpep_dropoff_datetime</th>\n",
       "      <th>tpep_pickup_datetime</th>\n",
       "      <th>trip_distance</th>\n",
       "    </tr>\n",
       "  </thead>\n",
       "  <tbody>\n",
       "    <tr>\n",
       "      <th>0</th>\n",
       "      <td>A</td>\n",
       "      <td>22.0</td>\n",
       "      <td>1.0</td>\n",
       "      <td>1.0</td>\n",
       "      <td>4.60</td>\n",
       "      <td>2015-01-03 01:37:02</td>\n",
       "      <td>2015-01-03 01:17:32</td>\n",
       "      <td>6.90</td>\n",
       "    </tr>\n",
       "    <tr>\n",
       "      <th>1</th>\n",
       "      <td>A</td>\n",
       "      <td>9.0</td>\n",
       "      <td>1.0</td>\n",
       "      <td>1.0</td>\n",
       "      <td>0.00</td>\n",
       "      <td>2015-01-05 23:35:02</td>\n",
       "      <td>2015-01-05 23:25:15</td>\n",
       "      <td>1.81</td>\n",
       "    </tr>\n",
       "    <tr>\n",
       "      <th>2</th>\n",
       "      <td>A</td>\n",
       "      <td>7.5</td>\n",
       "      <td>1.0</td>\n",
       "      <td>1.0</td>\n",
       "      <td>1.00</td>\n",
       "      <td>2015-01-06 15:22:12</td>\n",
       "      <td>2015-01-06 15:11:45</td>\n",
       "      <td>0.96</td>\n",
       "    </tr>\n",
       "    <tr>\n",
       "      <th>3</th>\n",
       "      <td>A</td>\n",
       "      <td>8.5</td>\n",
       "      <td>1.0</td>\n",
       "      <td>1.0</td>\n",
       "      <td>1.00</td>\n",
       "      <td>2015-01-08 08:31:23</td>\n",
       "      <td>2015-01-08 08:22:12</td>\n",
       "      <td>1.90</td>\n",
       "    </tr>\n",
       "    <tr>\n",
       "      <th>4</th>\n",
       "      <td>A</td>\n",
       "      <td>7.5</td>\n",
       "      <td>1.0</td>\n",
       "      <td>1.0</td>\n",
       "      <td>1.66</td>\n",
       "      <td>2015-01-08 12:35:54</td>\n",
       "      <td>2015-01-08 12:26:26</td>\n",
       "      <td>1.00</td>\n",
       "    </tr>\n",
       "  </tbody>\n",
       "</table>\n",
       "</div>"
      ],
      "text/plain": [
       "  car_type  fare_amount  passenger_count  taxi_id  tip_amount  \\\n",
       "0        A         22.0              1.0      1.0        4.60   \n",
       "1        A          9.0              1.0      1.0        0.00   \n",
       "2        A          7.5              1.0      1.0        1.00   \n",
       "3        A          8.5              1.0      1.0        1.00   \n",
       "4        A          7.5              1.0      1.0        1.66   \n",
       "\n",
       "  tpep_dropoff_datetime tpep_pickup_datetime  trip_distance  \n",
       "0   2015-01-03 01:37:02  2015-01-03 01:17:32           6.90  \n",
       "1   2015-01-05 23:35:02  2015-01-05 23:25:15           1.81  \n",
       "2   2015-01-06 15:22:12  2015-01-06 15:11:45           0.96  \n",
       "3   2015-01-08 08:31:23  2015-01-08 08:22:12           1.90  \n",
       "4   2015-01-08 12:35:54  2015-01-08 12:26:26           1.00  "
      ]
     },
     "execution_count": 176,
     "metadata": {},
     "output_type": "execute_result"
    }
   ],
   "source": [
    "df = dd.read_csv(\"trips.csv\", assume_missing=True)\n",
    "df.head()"
   ]
  },
  {
   "cell_type": "markdown",
   "metadata": {},
   "source": [
    "Se adiciona la proporción de propina por viaje como variable con el título de columna: \"tip_percentage\""
   ]
  },
  {
   "cell_type": "code",
   "execution_count": 177,
   "metadata": {},
   "outputs": [],
   "source": [
    "df[\"tip_percentage\"] = (df[\"tip_amount\"]/df[\"fare_amount\"])"
   ]
  },
  {
   "cell_type": "markdown",
   "metadata": {},
   "source": [
    "Se da el formato faltante a las variables de interés"
   ]
  },
  {
   "cell_type": "code",
   "execution_count": 178,
   "metadata": {},
   "outputs": [],
   "source": [
    "df['tpep_pickup_datetime'] = dd.to_datetime(df['tpep_pickup_datetime'])\n",
    "df['hour'] = df['tpep_pickup_datetime'].dt.hour"
   ]
  },
  {
   "cell_type": "markdown",
   "metadata": {},
   "source": [
    "Se limpian los datos, eliminando las filas con datos faltantes"
   ]
  },
  {
   "cell_type": "code",
   "execution_count": 179,
   "metadata": {},
   "outputs": [],
   "source": [
    "df=df.dropna()"
   ]
  },
  {
   "cell_type": "markdown",
   "metadata": {},
   "source": [
    "Dado que la variable que se quiere pronosticar es continua, se utilizarán regresiones lineales. Se selecciona la variable dependiente(\"y\") y las variables independientes(\"x\").  "
   ]
  },
  {
   "cell_type": "code",
   "execution_count": 180,
   "metadata": {},
   "outputs": [
    {
     "data": {
      "text/html": [
       "<div>\n",
       "<style scoped>\n",
       "    .dataframe tbody tr th:only-of-type {\n",
       "        vertical-align: middle;\n",
       "    }\n",
       "\n",
       "    .dataframe tbody tr th {\n",
       "        vertical-align: top;\n",
       "    }\n",
       "\n",
       "    .dataframe thead th {\n",
       "        text-align: right;\n",
       "    }\n",
       "</style>\n",
       "<table border=\"1\" class=\"dataframe\">\n",
       "  <thead>\n",
       "    <tr style=\"text-align: right;\">\n",
       "      <th></th>\n",
       "      <th>fare_amount</th>\n",
       "      <th>passenger_count</th>\n",
       "      <th>trip_distance</th>\n",
       "      <th>tip_percentage</th>\n",
       "      <th>hour</th>\n",
       "    </tr>\n",
       "  </thead>\n",
       "  <tbody>\n",
       "    <tr>\n",
       "      <th>0</th>\n",
       "      <td>22.0</td>\n",
       "      <td>1.0</td>\n",
       "      <td>6.90</td>\n",
       "      <td>0.209091</td>\n",
       "      <td>1</td>\n",
       "    </tr>\n",
       "    <tr>\n",
       "      <th>1</th>\n",
       "      <td>9.0</td>\n",
       "      <td>1.0</td>\n",
       "      <td>1.81</td>\n",
       "      <td>0.000000</td>\n",
       "      <td>23</td>\n",
       "    </tr>\n",
       "    <tr>\n",
       "      <th>2</th>\n",
       "      <td>7.5</td>\n",
       "      <td>1.0</td>\n",
       "      <td>0.96</td>\n",
       "      <td>0.133333</td>\n",
       "      <td>15</td>\n",
       "    </tr>\n",
       "    <tr>\n",
       "      <th>3</th>\n",
       "      <td>8.5</td>\n",
       "      <td>1.0</td>\n",
       "      <td>1.90</td>\n",
       "      <td>0.117647</td>\n",
       "      <td>8</td>\n",
       "    </tr>\n",
       "    <tr>\n",
       "      <th>4</th>\n",
       "      <td>7.5</td>\n",
       "      <td>1.0</td>\n",
       "      <td>1.00</td>\n",
       "      <td>0.221333</td>\n",
       "      <td>12</td>\n",
       "    </tr>\n",
       "  </tbody>\n",
       "</table>\n",
       "</div>"
      ],
      "text/plain": [
       "   fare_amount  passenger_count  trip_distance  tip_percentage  hour\n",
       "0         22.0              1.0           6.90        0.209091     1\n",
       "1          9.0              1.0           1.81        0.000000    23\n",
       "2          7.5              1.0           0.96        0.133333    15\n",
       "3          8.5              1.0           1.90        0.117647     8\n",
       "4          7.5              1.0           1.00        0.221333    12"
      ]
     },
     "execution_count": 180,
     "metadata": {},
     "output_type": "execute_result"
    }
   ],
   "source": [
    "y = df[\"tip_amount\"]\n",
    "x = df.drop(df.columns[[0,3, 4, 5, 6]], axis=1)\n",
    "x.head()"
   ]
  },
  {
   "cell_type": "markdown",
   "metadata": {},
   "source": [
    "Se crean los sets de entrenamiento y prueba"
   ]
  },
  {
   "cell_type": "code",
   "execution_count": 181,
   "metadata": {},
   "outputs": [],
   "source": [
    "x_train, x_test, y_train, y_test = train_test_split(x.compute(), y.compute(), test_size=0.2, random_state=42)"
   ]
  },
  {
   "cell_type": "markdown",
   "metadata": {},
   "source": [
    "Se instancian la regresión lineal y el buscador grid"
   ]
  },
  {
   "cell_type": "code",
   "execution_count": 182,
   "metadata": {},
   "outputs": [],
   "source": [
    "# Setup the hyperparameter grid\n",
    "param_grid = {'C':np.linspace(0,1,30),'fit_intercept' :[True,False]}\n",
    "\n",
    "# Instantiate a linear regression: linear_reg\n",
    "linear_reg = LinearRegression()\n",
    "\n",
    "# Instantiate the GridSearchCV object: linear_reg_cv\n",
    "linear_reg_cv = GridSearchCV(linear_reg, param_grid, cv=5)"
   ]
  },
  {
   "cell_type": "markdown",
   "metadata": {},
   "source": [
    "## Pregunta 1: ¿Qué tan rápido es buscar en paralelo comparado con una búsqueda secuencial en python?"
   ]
  },
  {
   "cell_type": "markdown",
   "metadata": {},
   "source": [
    "Se entrena el modelo y evalúa su tiempo de ejecución bajo una búsqueda secuencial"
   ]
  },
  {
   "cell_type": "code",
   "execution_count": 183,
   "metadata": {},
   "outputs": [
    {
     "name": "stderr",
     "output_type": "stream",
     "text": [
      "/usr/local/lib/python3.5/site-packages/dask_ml/linear_model/glm.py:119: RuntimeWarning: divide by zero encountered in double_scalars\n",
      "  'lamduh': 1 / self.C}\n",
      "/usr/local/lib/python3.5/site-packages/dask_ml/linear_model/glm.py:119: RuntimeWarning: divide by zero encountered in double_scalars\n",
      "  'lamduh': 1 / self.C}\n",
      "/usr/local/lib/python3.5/site-packages/dask_ml/linear_model/glm.py:119: RuntimeWarning: divide by zero encountered in double_scalars\n",
      "  'lamduh': 1 / self.C}\n",
      "/usr/local/lib/python3.5/site-packages/dask_ml/linear_model/glm.py:119: RuntimeWarning: divide by zero encountered in double_scalars\n",
      "  'lamduh': 1 / self.C}\n",
      "/usr/local/lib/python3.5/site-packages/dask_ml/linear_model/glm.py:119: RuntimeWarning: divide by zero encountered in double_scalars\n",
      "  'lamduh': 1 / self.C}\n",
      "/usr/local/lib/python3.5/site-packages/dask_ml/linear_model/glm.py:119: RuntimeWarning: divide by zero encountered in double_scalars\n",
      "  'lamduh': 1 / self.C}\n",
      "/usr/local/lib/python3.5/site-packages/dask_ml/linear_model/glm.py:119: RuntimeWarning: divide by zero encountered in double_scalars\n",
      "  'lamduh': 1 / self.C}\n",
      "/usr/local/lib/python3.5/site-packages/dask_ml/linear_model/glm.py:119: RuntimeWarning: divide by zero encountered in double_scalars\n",
      "  'lamduh': 1 / self.C}\n",
      "/usr/local/lib/python3.5/site-packages/dask_ml/linear_model/glm.py:119: RuntimeWarning: divide by zero encountered in double_scalars\n",
      "  'lamduh': 1 / self.C}\n",
      "/usr/local/lib/python3.5/site-packages/dask_ml/linear_model/glm.py:119: RuntimeWarning: divide by zero encountered in double_scalars\n",
      "  'lamduh': 1 / self.C}\n",
      "/usr/local/lib/python3.5/site-packages/dask_ml/linear_model/glm.py:119: RuntimeWarning: divide by zero encountered in double_scalars\n",
      "  'lamduh': 1 / self.C}\n"
     ]
    },
    {
     "name": "stdout",
     "output_type": "stream",
     "text": [
      "0.612762987613678\n"
     ]
    }
   ],
   "source": [
    "# Call time.time()\n",
    "t0_a = time.time()\n",
    "\n",
    "# Fit it to the data\n",
    "fit_train = linear_reg_cv.fit(x_train.values, y_train.values)\n",
    "\n",
    "# Call time.time()\n",
    "t1_a = time.time()\n",
    "\n",
    "# Print the execution time\n",
    "print((t1_a-t0_a)/60)"
   ]
  },
  {
   "cell_type": "markdown",
   "metadata": {},
   "source": [
    "Se agrega el decorador **delayed** para ejecutar en paralelo"
   ]
  },
  {
   "cell_type": "code",
   "execution_count": 186,
   "metadata": {},
   "outputs": [],
   "source": [
    "def paralel_train(x_train_, y_train_):\n",
    "    return fit_train(x_train_, y_train_)\n",
    "\n",
    "delayed_fit_train = delayed(paralel_train)"
   ]
  },
  {
   "cell_type": "markdown",
   "metadata": {},
   "source": [
    "Se entrena el modelo y evalúa su tiempo de ejecución bajo una búsqueda en paralelo"
   ]
  },
  {
   "cell_type": "code",
   "execution_count": 191,
   "metadata": {},
   "outputs": [
    {
     "name": "stdout",
     "output_type": "stream",
     "text": [
      "2.1870930989583334e-05\n"
     ]
    }
   ],
   "source": [
    "# Call time.time()\n",
    "t0_b = time.time()\n",
    "\n",
    "# Fit it to the data\n",
    "delayed_fit_train(x_train.values, y_train.values)\n",
    "\n",
    "# Call time.time()\n",
    "t1_b = time.time()\n",
    "\n",
    "# Print the execution time\n",
    "print((t1_b-t0_b)/60)"
   ]
  },
  {
   "cell_type": "markdown",
   "metadata": {},
   "source": [
    "Se evalúa el modelo"
   ]
  },
  {
   "cell_type": "code",
   "execution_count": 192,
   "metadata": {},
   "outputs": [
    {
     "data": {
      "text/plain": [
       "LinearRegression(C=0.0, class_weight=None, dual=False, fit_intercept=True,\n",
       "         intercept_scaling=1.0, max_iter=100, multiclass='ovr', n_jobs=1,\n",
       "         penalty='l2', random_state=None, solver='admm',\n",
       "         solver_kwargs=None, tol=0.0001, verbose=0, warm_start=False)"
      ]
     },
     "execution_count": 192,
     "metadata": {},
     "output_type": "execute_result"
    }
   ],
   "source": [
    "linear_reg_cv.best_estimator_"
   ]
  },
  {
   "cell_type": "code",
   "execution_count": 206,
   "metadata": {},
   "outputs": [
    {
     "data": {
      "text/plain": [
       "7.253391843393149"
      ]
     },
     "execution_count": 206,
     "metadata": {},
     "output_type": "execute_result"
    }
   ],
   "source": [
    "linear_reg_cv.score(x_test.values, y_test.values)"
   ]
  },
  {
   "cell_type": "code",
   "execution_count": 207,
   "metadata": {},
   "outputs": [
    {
     "name": "stdout",
     "output_type": "stream",
     "text": [
      "Tuned Linear Regression Accuracy: 7.095717577487766\n"
     ]
    }
   ],
   "source": [
    "print(\"Tuned Linear Regression Accuracy: {}\".format(linear_reg_cv.best_score_))"
   ]
  },
  {
   "cell_type": "markdown",
   "metadata": {},
   "source": [
    "#### Resultado: \n",
    "\n",
    "La búsqueda secuencial tardó 0.6127 minutos, mientras que la búsqueda en paralelo duró .000021 minutos. Por lo que se concluye que la busqueda en paralelo es más eficiente en cuanto a tiempo. "
   ]
  },
  {
   "cell_type": "markdown",
   "metadata": {},
   "source": [
    "## Pregunta 2: ¿Cómo se comparan los tiempos de ejecución de tu búsqueda con la de Dask ML?"
   ]
  },
  {
   "cell_type": "markdown",
   "metadata": {},
   "source": [
    "Se instancian la regresión lineal y el buscador grid"
   ]
  },
  {
   "cell_type": "code",
   "execution_count": 203,
   "metadata": {},
   "outputs": [],
   "source": [
    "lr = LinearRegression()\n",
    "\n",
    "param_grid_ = {'C' :np.linspace(0,1,30),'fit_intercept' :[True,False]}\n",
    "\n",
    "from dask_ml.model_selection import GridSearchCV as GridSearchCV_ml\n",
    "\n",
    "# Instantiate the GridSearchCV object: ridge_reg_cv\n",
    "linear_reg_cv_ml = GridSearchCV_ml(lr, param_grid_, n_jobs=4, cv=5)"
   ]
  },
  {
   "cell_type": "markdown",
   "metadata": {},
   "source": [
    "Se entrena el modelo y evalúa su tiempo de ejecución bajo una búsqueda con Dask ML"
   ]
  },
  {
   "cell_type": "code",
   "execution_count": 205,
   "metadata": {},
   "outputs": [
    {
     "name": "stderr",
     "output_type": "stream",
     "text": [
      "/usr/local/lib/python3.5/site-packages/dask_ml/linear_model/glm.py:119: RuntimeWarning: divide by zero encountered in double_scalars\n",
      "  'lamduh': 1 / self.C}\n",
      "/usr/local/lib/python3.5/site-packages/dask_ml/linear_model/glm.py:119: RuntimeWarning: divide by zero encountered in double_scalars\n",
      "  'lamduh': 1 / self.C}\n",
      "/usr/local/lib/python3.5/site-packages/dask_ml/linear_model/glm.py:119: RuntimeWarning: divide by zero encountered in double_scalars\n",
      "  'lamduh': 1 / self.C}\n",
      "/usr/local/lib/python3.5/site-packages/dask_ml/linear_model/glm.py:119: RuntimeWarning: divide by zero encountered in double_scalars\n",
      "  'lamduh': 1 / self.C}\n",
      "/usr/local/lib/python3.5/site-packages/dask_ml/linear_model/glm.py:119: RuntimeWarning: divide by zero encountered in double_scalars\n",
      "  'lamduh': 1 / self.C}\n",
      "/usr/local/lib/python3.5/site-packages/dask_ml/linear_model/glm.py:119: RuntimeWarning: divide by zero encountered in double_scalars\n",
      "  'lamduh': 1 / self.C}\n",
      "/usr/local/lib/python3.5/site-packages/dask_ml/linear_model/glm.py:119: RuntimeWarning: divide by zero encountered in double_scalars\n",
      "  'lamduh': 1 / self.C}\n",
      "/usr/local/lib/python3.5/site-packages/dask_ml/linear_model/glm.py:119: RuntimeWarning: divide by zero encountered in double_scalars\n",
      "  'lamduh': 1 / self.C}\n",
      "/usr/local/lib/python3.5/site-packages/dask_ml/linear_model/glm.py:119: RuntimeWarning: divide by zero encountered in double_scalars\n",
      "  'lamduh': 1 / self.C}\n",
      "/usr/local/lib/python3.5/site-packages/dask_ml/linear_model/glm.py:119: RuntimeWarning: divide by zero encountered in double_scalars\n",
      "  'lamduh': 1 / self.C}\n",
      "/usr/local/lib/python3.5/site-packages/dask_ml/linear_model/glm.py:119: RuntimeWarning: divide by zero encountered in double_scalars\n",
      "  'lamduh': 1 / self.C}\n"
     ]
    },
    {
     "name": "stdout",
     "output_type": "stream",
     "text": [
      "13.71938523054123\n"
     ]
    }
   ],
   "source": [
    "# Call time.time()\n",
    "t0_c = time.time()\n",
    "\n",
    "# Fit it to the data\n",
    "fit_train_ml = linear_reg_cv_ml.fit(x_train.values, y_train.values)\n",
    "\n",
    "# Call time.time()\n",
    "t1_c = time.time()\n",
    "\n",
    "# Print the execution time\n",
    "print((t1_c-t0_c)/60)"
   ]
  },
  {
   "cell_type": "markdown",
   "metadata": {},
   "source": [
    "Se evalúa el modelo"
   ]
  },
  {
   "cell_type": "code",
   "execution_count": 208,
   "metadata": {
    "scrolled": true
   },
   "outputs": [
    {
     "data": {
      "text/plain": [
       "LinearRegression(C=0.0, class_weight=None, dual=False, fit_intercept=True,\n",
       "         intercept_scaling=1.0, max_iter=100, multiclass='ovr', n_jobs=1,\n",
       "         penalty='l2', random_state=None, solver='admm',\n",
       "         solver_kwargs=None, tol=0.0001, verbose=0, warm_start=False)"
      ]
     },
     "execution_count": 208,
     "metadata": {},
     "output_type": "execute_result"
    }
   ],
   "source": [
    "linear_reg_cv_ml.best_estimator_"
   ]
  },
  {
   "cell_type": "code",
   "execution_count": 209,
   "metadata": {},
   "outputs": [
    {
     "data": {
      "text/plain": [
       "7.253391843393149"
      ]
     },
     "execution_count": 209,
     "metadata": {},
     "output_type": "execute_result"
    }
   ],
   "source": [
    "linear_reg_cv_ml.score(x_test.values, y_test.values)"
   ]
  },
  {
   "cell_type": "code",
   "execution_count": 214,
   "metadata": {},
   "outputs": [
    {
     "name": "stdout",
     "output_type": "stream",
     "text": [
      "Tuned Linear Regression ML Accuracy: 7.095717577487766\n"
     ]
    }
   ],
   "source": [
    "print(\"Tuned Linear Regression ML Accuracy: {}\".format(linear_reg_cv_ml.best_score_))"
   ]
  },
  {
   "cell_type": "markdown",
   "metadata": {},
   "source": [
    "### Resultado\n",
    "\n",
    "El tiempo de ejecución de búsqueda con Dask ML fué de 13.71 minutos. A comparación de los modelos anteriores, este fué el peor tiempo de ejecución."
   ]
  },
  {
   "cell_type": "code",
   "execution_count": null,
   "metadata": {},
   "outputs": [],
   "source": []
  },
  {
   "cell_type": "code",
   "execution_count": null,
   "metadata": {},
   "outputs": [],
   "source": []
  }
 ],
 "metadata": {
  "kernelspec": {
   "display_name": "Python 3",
   "language": "python",
   "name": "python3"
  },
  "language_info": {
   "codemirror_mode": {
    "name": "ipython",
    "version": 3
   },
   "file_extension": ".py",
   "mimetype": "text/x-python",
   "name": "python",
   "nbconvert_exporter": "python",
   "pygments_lexer": "ipython3",
   "version": "3.5.4"
  }
 },
 "nbformat": 4,
 "nbformat_minor": 2
}
