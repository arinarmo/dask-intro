{
 "cells": [
  {
   "cell_type": "markdown",
   "metadata": {},
   "source": [
    "## Ejercicio / Tarea 9\n",
    "#### Ariel Vallarino - 175875\n",
    "---  \n",
    "Aprovecha la capacidad de Dask para realizar cómputo en paralelo para ajustar un modelo para predecir la proporción de propina de un viaje. Realiza búsqueda de hiperparámetros en grid con cross validation. Puedes usar funciones de scikit learn. Recuerda usar el decorador `delayed` para ejecutar en paralelo.\n",
    "\n",
    "* ¿Qué tan rápido es buscar en paralelo comparado con una búsqueda secuencial en python?\n",
    "\n",
    "Haz lo mismo que arriba, pero utilizando la biblioteca Dask-ML http://dask-ml.readthedocs.io/en/latest/ \n",
    "\n",
    "* ¿Cómo se comparan los tiempos de ejecución de tu búsqueda con la de Dask ML?\n",
    "---  "
   ]
  },
  {
   "cell_type": "markdown",
   "metadata": {},
   "source": [
    "En este caso para comparar ambas ejecuciones (SKLEARN vs DASK) seleccioné la Regresión Lineal:\n",
    "+ Sklearn: **Ridge**\n",
    "+ Dask: **LinearRegression**  \n",
    "ya que tienen parámetros similares para probar la búsqueda de hiperparámetros.\n",
    "\n",
    "\n",
    "Anteriormente intenté utilizar el _XGBRegressor_ pero el importarlo en Dask me arrojaba error de \"No module named dask_xgboost\""
   ]
  },
  {
   "cell_type": "markdown",
   "metadata": {},
   "source": [
    "### Importo librerías de SKLEARN"
   ]
  },
  {
   "cell_type": "code",
   "execution_count": 1,
   "metadata": {},
   "outputs": [],
   "source": [
    "from timeit import default_timer as tic\n",
    "from sklearn import linear_model\n",
    "from sklearn.model_selection import train_test_split\n",
    "from sklearn.model_selection import GridSearchCV\n",
    "from sklearn.linear_model import Ridge\n",
    "import pandas as pd\n",
    "\n",
    "from sklearn.preprocessing import StandardScaler\n",
    "from sklearn.pipeline import Pipeline"
   ]
  },
  {
   "cell_type": "markdown",
   "metadata": {},
   "source": [
    "---  \n",
    "### Carga y limpieza de datos\n",
    "#### Cargo datos - Muestro head() y descrbibe()"
   ]
  },
  {
   "cell_type": "code",
   "execution_count": 2,
   "metadata": {},
   "outputs": [
    {
     "data": {
      "text/html": [
       "<div>\n",
       "<style scoped>\n",
       "    .dataframe tbody tr th:only-of-type {\n",
       "        vertical-align: middle;\n",
       "    }\n",
       "\n",
       "    .dataframe tbody tr th {\n",
       "        vertical-align: top;\n",
       "    }\n",
       "\n",
       "    .dataframe thead th {\n",
       "        text-align: right;\n",
       "    }\n",
       "</style>\n",
       "<table border=\"1\" class=\"dataframe\">\n",
       "  <thead>\n",
       "    <tr style=\"text-align: right;\">\n",
       "      <th></th>\n",
       "      <th>car_type</th>\n",
       "      <th>fare_amount</th>\n",
       "      <th>passenger_count</th>\n",
       "      <th>taxi_id</th>\n",
       "      <th>tip_amount</th>\n",
       "      <th>tpep_dropoff_datetime</th>\n",
       "      <th>tpep_pickup_datetime</th>\n",
       "      <th>trip_distance</th>\n",
       "    </tr>\n",
       "  </thead>\n",
       "  <tbody>\n",
       "    <tr>\n",
       "      <th>0</th>\n",
       "      <td>A</td>\n",
       "      <td>22.0</td>\n",
       "      <td>1</td>\n",
       "      <td>1</td>\n",
       "      <td>4.60</td>\n",
       "      <td>2015-01-03 01:37:02</td>\n",
       "      <td>2015-01-03 01:17:32</td>\n",
       "      <td>6.90</td>\n",
       "    </tr>\n",
       "    <tr>\n",
       "      <th>1</th>\n",
       "      <td>A</td>\n",
       "      <td>9.0</td>\n",
       "      <td>1</td>\n",
       "      <td>1</td>\n",
       "      <td>0.00</td>\n",
       "      <td>2015-01-05 23:35:02</td>\n",
       "      <td>2015-01-05 23:25:15</td>\n",
       "      <td>1.81</td>\n",
       "    </tr>\n",
       "    <tr>\n",
       "      <th>2</th>\n",
       "      <td>A</td>\n",
       "      <td>7.5</td>\n",
       "      <td>1</td>\n",
       "      <td>1</td>\n",
       "      <td>1.00</td>\n",
       "      <td>2015-01-06 15:22:12</td>\n",
       "      <td>2015-01-06 15:11:45</td>\n",
       "      <td>0.96</td>\n",
       "    </tr>\n",
       "    <tr>\n",
       "      <th>3</th>\n",
       "      <td>A</td>\n",
       "      <td>8.5</td>\n",
       "      <td>1</td>\n",
       "      <td>1</td>\n",
       "      <td>1.00</td>\n",
       "      <td>2015-01-08 08:31:23</td>\n",
       "      <td>2015-01-08 08:22:12</td>\n",
       "      <td>1.90</td>\n",
       "    </tr>\n",
       "    <tr>\n",
       "      <th>4</th>\n",
       "      <td>A</td>\n",
       "      <td>7.5</td>\n",
       "      <td>1</td>\n",
       "      <td>1</td>\n",
       "      <td>1.66</td>\n",
       "      <td>2015-01-08 12:35:54</td>\n",
       "      <td>2015-01-08 12:26:26</td>\n",
       "      <td>1.00</td>\n",
       "    </tr>\n",
       "  </tbody>\n",
       "</table>\n",
       "</div>"
      ],
      "text/plain": [
       "  car_type  fare_amount  passenger_count  taxi_id  tip_amount  \\\n",
       "0        A         22.0                1        1        4.60   \n",
       "1        A          9.0                1        1        0.00   \n",
       "2        A          7.5                1        1        1.00   \n",
       "3        A          8.5                1        1        1.00   \n",
       "4        A          7.5                1        1        1.66   \n",
       "\n",
       "  tpep_dropoff_datetime tpep_pickup_datetime  trip_distance  \n",
       "0   2015-01-03 01:37:02  2015-01-03 01:17:32           6.90  \n",
       "1   2015-01-05 23:35:02  2015-01-05 23:25:15           1.81  \n",
       "2   2015-01-06 15:22:12  2015-01-06 15:11:45           0.96  \n",
       "3   2015-01-08 08:31:23  2015-01-08 08:22:12           1.90  \n",
       "4   2015-01-08 12:35:54  2015-01-08 12:26:26           1.00  "
      ]
     },
     "execution_count": 2,
     "metadata": {},
     "output_type": "execute_result"
    }
   ],
   "source": [
    "trips_df = pd.read_csv(\"/data/trips.csv\")\n",
    "trips_df.head()"
   ]
  },
  {
   "cell_type": "code",
   "execution_count": 3,
   "metadata": {},
   "outputs": [
    {
     "data": {
      "text/html": [
       "<div>\n",
       "<style scoped>\n",
       "    .dataframe tbody tr th:only-of-type {\n",
       "        vertical-align: middle;\n",
       "    }\n",
       "\n",
       "    .dataframe tbody tr th {\n",
       "        vertical-align: top;\n",
       "    }\n",
       "\n",
       "    .dataframe thead th {\n",
       "        text-align: right;\n",
       "    }\n",
       "</style>\n",
       "<table border=\"1\" class=\"dataframe\">\n",
       "  <thead>\n",
       "    <tr style=\"text-align: right;\">\n",
       "      <th></th>\n",
       "      <th>fare_amount</th>\n",
       "      <th>passenger_count</th>\n",
       "      <th>taxi_id</th>\n",
       "      <th>tip_amount</th>\n",
       "      <th>trip_distance</th>\n",
       "    </tr>\n",
       "  </thead>\n",
       "  <tbody>\n",
       "    <tr>\n",
       "      <th>count</th>\n",
       "      <td>9198.000000</td>\n",
       "      <td>9198.000000</td>\n",
       "      <td>9198.000000</td>\n",
       "      <td>9198.000000</td>\n",
       "      <td>9198.000000</td>\n",
       "    </tr>\n",
       "    <tr>\n",
       "      <th>mean</th>\n",
       "      <td>11.864122</td>\n",
       "      <td>1.688845</td>\n",
       "      <td>250.233746</td>\n",
       "      <td>1.540099</td>\n",
       "      <td>2.737848</td>\n",
       "    </tr>\n",
       "    <tr>\n",
       "      <th>std</th>\n",
       "      <td>10.339877</td>\n",
       "      <td>1.341433</td>\n",
       "      <td>144.640465</td>\n",
       "      <td>2.180261</td>\n",
       "      <td>3.296340</td>\n",
       "    </tr>\n",
       "    <tr>\n",
       "      <th>min</th>\n",
       "      <td>-3.500000</td>\n",
       "      <td>0.000000</td>\n",
       "      <td>1.000000</td>\n",
       "      <td>-0.700000</td>\n",
       "      <td>0.000000</td>\n",
       "    </tr>\n",
       "    <tr>\n",
       "      <th>25%</th>\n",
       "      <td>6.500000</td>\n",
       "      <td>1.000000</td>\n",
       "      <td>125.000000</td>\n",
       "      <td>0.000000</td>\n",
       "      <td>1.000000</td>\n",
       "    </tr>\n",
       "    <tr>\n",
       "      <th>50%</th>\n",
       "      <td>9.000000</td>\n",
       "      <td>1.000000</td>\n",
       "      <td>249.000000</td>\n",
       "      <td>1.050000</td>\n",
       "      <td>1.660000</td>\n",
       "    </tr>\n",
       "    <tr>\n",
       "      <th>75%</th>\n",
       "      <td>13.000000</td>\n",
       "      <td>2.000000</td>\n",
       "      <td>376.000000</td>\n",
       "      <td>2.100000</td>\n",
       "      <td>3.000000</td>\n",
       "    </tr>\n",
       "    <tr>\n",
       "      <th>max</th>\n",
       "      <td>230.000000</td>\n",
       "      <td>9.000000</td>\n",
       "      <td>499.000000</td>\n",
       "      <td>40.000000</td>\n",
       "      <td>41.940000</td>\n",
       "    </tr>\n",
       "  </tbody>\n",
       "</table>\n",
       "</div>"
      ],
      "text/plain": [
       "       fare_amount  passenger_count      taxi_id   tip_amount  trip_distance\n",
       "count  9198.000000      9198.000000  9198.000000  9198.000000    9198.000000\n",
       "mean     11.864122         1.688845   250.233746     1.540099       2.737848\n",
       "std      10.339877         1.341433   144.640465     2.180261       3.296340\n",
       "min      -3.500000         0.000000     1.000000    -0.700000       0.000000\n",
       "25%       6.500000         1.000000   125.000000     0.000000       1.000000\n",
       "50%       9.000000         1.000000   249.000000     1.050000       1.660000\n",
       "75%      13.000000         2.000000   376.000000     2.100000       3.000000\n",
       "max     230.000000         9.000000   499.000000    40.000000      41.940000"
      ]
     },
     "execution_count": 3,
     "metadata": {},
     "output_type": "execute_result"
    }
   ],
   "source": [
    "trips_df.describe()"
   ]
  },
  {
   "cell_type": "markdown",
   "metadata": {},
   "source": [
    "#### Calculo proporcion de propina como: \"tip_amount\"/\"fare_amount\"\n",
    "#### Cambio car_type a numerico: \n",
    "+ car_type A = 0   \n",
    "+ car_type B = 1  "
   ]
  },
  {
   "cell_type": "code",
   "execution_count": 4,
   "metadata": {},
   "outputs": [
    {
     "data": {
      "text/html": [
       "<div>\n",
       "<style scoped>\n",
       "    .dataframe tbody tr th:only-of-type {\n",
       "        vertical-align: middle;\n",
       "    }\n",
       "\n",
       "    .dataframe tbody tr th {\n",
       "        vertical-align: top;\n",
       "    }\n",
       "\n",
       "    .dataframe thead th {\n",
       "        text-align: right;\n",
       "    }\n",
       "</style>\n",
       "<table border=\"1\" class=\"dataframe\">\n",
       "  <thead>\n",
       "    <tr style=\"text-align: right;\">\n",
       "      <th></th>\n",
       "      <th>car_type</th>\n",
       "      <th>fare_amount</th>\n",
       "      <th>passenger_count</th>\n",
       "      <th>taxi_id</th>\n",
       "      <th>tip_amount</th>\n",
       "      <th>tpep_dropoff_datetime</th>\n",
       "      <th>tpep_pickup_datetime</th>\n",
       "      <th>trip_distance</th>\n",
       "      <th>tip_prop</th>\n",
       "    </tr>\n",
       "  </thead>\n",
       "  <tbody>\n",
       "    <tr>\n",
       "      <th>0</th>\n",
       "      <td>0</td>\n",
       "      <td>22.0</td>\n",
       "      <td>1</td>\n",
       "      <td>1</td>\n",
       "      <td>4.60</td>\n",
       "      <td>2015-01-03 01:37:02</td>\n",
       "      <td>2015-01-03 01:17:32</td>\n",
       "      <td>6.90</td>\n",
       "      <td>0.2</td>\n",
       "    </tr>\n",
       "    <tr>\n",
       "      <th>1</th>\n",
       "      <td>0</td>\n",
       "      <td>9.0</td>\n",
       "      <td>1</td>\n",
       "      <td>1</td>\n",
       "      <td>0.00</td>\n",
       "      <td>2015-01-05 23:35:02</td>\n",
       "      <td>2015-01-05 23:25:15</td>\n",
       "      <td>1.81</td>\n",
       "      <td>0.0</td>\n",
       "    </tr>\n",
       "    <tr>\n",
       "      <th>2</th>\n",
       "      <td>0</td>\n",
       "      <td>7.5</td>\n",
       "      <td>1</td>\n",
       "      <td>1</td>\n",
       "      <td>1.00</td>\n",
       "      <td>2015-01-06 15:22:12</td>\n",
       "      <td>2015-01-06 15:11:45</td>\n",
       "      <td>0.96</td>\n",
       "      <td>0.1</td>\n",
       "    </tr>\n",
       "    <tr>\n",
       "      <th>3</th>\n",
       "      <td>0</td>\n",
       "      <td>8.5</td>\n",
       "      <td>1</td>\n",
       "      <td>1</td>\n",
       "      <td>1.00</td>\n",
       "      <td>2015-01-08 08:31:23</td>\n",
       "      <td>2015-01-08 08:22:12</td>\n",
       "      <td>1.90</td>\n",
       "      <td>0.1</td>\n",
       "    </tr>\n",
       "    <tr>\n",
       "      <th>4</th>\n",
       "      <td>0</td>\n",
       "      <td>7.5</td>\n",
       "      <td>1</td>\n",
       "      <td>1</td>\n",
       "      <td>1.66</td>\n",
       "      <td>2015-01-08 12:35:54</td>\n",
       "      <td>2015-01-08 12:26:26</td>\n",
       "      <td>1.00</td>\n",
       "      <td>0.2</td>\n",
       "    </tr>\n",
       "    <tr>\n",
       "      <th>5</th>\n",
       "      <td>0</td>\n",
       "      <td>9.5</td>\n",
       "      <td>5</td>\n",
       "      <td>1</td>\n",
       "      <td>1.50</td>\n",
       "      <td>2015-01-10 22:02:13</td>\n",
       "      <td>2015-01-10 21:51:09</td>\n",
       "      <td>1.71</td>\n",
       "      <td>0.2</td>\n",
       "    </tr>\n",
       "    <tr>\n",
       "      <th>6</th>\n",
       "      <td>0</td>\n",
       "      <td>8.0</td>\n",
       "      <td>1</td>\n",
       "      <td>1</td>\n",
       "      <td>1.50</td>\n",
       "      <td>2015-01-15 09:14:21</td>\n",
       "      <td>2015-01-15 09:04:01</td>\n",
       "      <td>1.27</td>\n",
       "      <td>0.2</td>\n",
       "    </tr>\n",
       "    <tr>\n",
       "      <th>7</th>\n",
       "      <td>0</td>\n",
       "      <td>7.5</td>\n",
       "      <td>4</td>\n",
       "      <td>1</td>\n",
       "      <td>1.60</td>\n",
       "      <td>2015-01-16 00:39:12</td>\n",
       "      <td>2015-01-16 00:31:11</td>\n",
       "      <td>1.55</td>\n",
       "      <td>0.2</td>\n",
       "    </tr>\n",
       "    <tr>\n",
       "      <th>8</th>\n",
       "      <td>0</td>\n",
       "      <td>6.0</td>\n",
       "      <td>5</td>\n",
       "      <td>1</td>\n",
       "      <td>1.56</td>\n",
       "      <td>2015-01-20 19:05:28</td>\n",
       "      <td>2015-01-20 18:58:23</td>\n",
       "      <td>0.54</td>\n",
       "      <td>0.3</td>\n",
       "    </tr>\n",
       "    <tr>\n",
       "      <th>9</th>\n",
       "      <td>0</td>\n",
       "      <td>52.0</td>\n",
       "      <td>1</td>\n",
       "      <td>1</td>\n",
       "      <td>30.00</td>\n",
       "      <td>2015-01-20 20:31:05</td>\n",
       "      <td>2015-01-20 19:59:55</td>\n",
       "      <td>15.38</td>\n",
       "      <td>0.6</td>\n",
       "    </tr>\n",
       "  </tbody>\n",
       "</table>\n",
       "</div>"
      ],
      "text/plain": [
       "   car_type  fare_amount  passenger_count  taxi_id  tip_amount  \\\n",
       "0         0         22.0                1        1        4.60   \n",
       "1         0          9.0                1        1        0.00   \n",
       "2         0          7.5                1        1        1.00   \n",
       "3         0          8.5                1        1        1.00   \n",
       "4         0          7.5                1        1        1.66   \n",
       "5         0          9.5                5        1        1.50   \n",
       "6         0          8.0                1        1        1.50   \n",
       "7         0          7.5                4        1        1.60   \n",
       "8         0          6.0                5        1        1.56   \n",
       "9         0         52.0                1        1       30.00   \n",
       "\n",
       "  tpep_dropoff_datetime tpep_pickup_datetime  trip_distance  tip_prop  \n",
       "0   2015-01-03 01:37:02  2015-01-03 01:17:32           6.90       0.2  \n",
       "1   2015-01-05 23:35:02  2015-01-05 23:25:15           1.81       0.0  \n",
       "2   2015-01-06 15:22:12  2015-01-06 15:11:45           0.96       0.1  \n",
       "3   2015-01-08 08:31:23  2015-01-08 08:22:12           1.90       0.1  \n",
       "4   2015-01-08 12:35:54  2015-01-08 12:26:26           1.00       0.2  \n",
       "5   2015-01-10 22:02:13  2015-01-10 21:51:09           1.71       0.2  \n",
       "6   2015-01-15 09:14:21  2015-01-15 09:04:01           1.27       0.2  \n",
       "7   2015-01-16 00:39:12  2015-01-16 00:31:11           1.55       0.2  \n",
       "8   2015-01-20 19:05:28  2015-01-20 18:58:23           0.54       0.3  \n",
       "9   2015-01-20 20:31:05  2015-01-20 19:59:55          15.38       0.6  "
      ]
     },
     "execution_count": 4,
     "metadata": {},
     "output_type": "execute_result"
    }
   ],
   "source": [
    "# Calculo la proporción (\"tip_prop\") como (\"tip_amount\"/\"fare_amount\"). \n",
    "trips_df = trips_df[trips_df.fare_amount > 0]  # Elimino los 5 registros con fare_amount = 0\n",
    "trips_df[\"tip_prop\"] = trips_df.apply(lambda df: round(df[\"tip_amount\"] / df[\"fare_amount\"],1), axis=1)\n",
    "\n",
    "# Cambio car_type a numerico: A: 0; B: 1.\n",
    "trips_df.car_type = trips_df.apply(lambda df: 0 if df[\"car_type\"] == 'A' else 1, axis=1)\n",
    "\n",
    "trips_df.head(10)"
   ]
  },
  {
   "cell_type": "markdown",
   "metadata": {},
   "source": [
    "#### Proceso datos de fechas:\n",
    "+ Calculo la duracion del viaje y la convierto a minutos.  \n",
    "+ Caclulo factor de interacción entre distancia y tiempo del viaje (trip_distance / length_trip):"
   ]
  },
  {
   "cell_type": "code",
   "execution_count": 5,
   "metadata": {},
   "outputs": [
    {
     "data": {
      "text/html": [
       "<div>\n",
       "<style scoped>\n",
       "    .dataframe tbody tr th:only-of-type {\n",
       "        vertical-align: middle;\n",
       "    }\n",
       "\n",
       "    .dataframe tbody tr th {\n",
       "        vertical-align: top;\n",
       "    }\n",
       "\n",
       "    .dataframe thead th {\n",
       "        text-align: right;\n",
       "    }\n",
       "</style>\n",
       "<table border=\"1\" class=\"dataframe\">\n",
       "  <thead>\n",
       "    <tr style=\"text-align: right;\">\n",
       "      <th></th>\n",
       "      <th>car_type</th>\n",
       "      <th>fare_amount</th>\n",
       "      <th>passenger_count</th>\n",
       "      <th>taxi_id</th>\n",
       "      <th>tip_amount</th>\n",
       "      <th>tpep_dropoff_datetime</th>\n",
       "      <th>tpep_pickup_datetime</th>\n",
       "      <th>trip_distance</th>\n",
       "      <th>tip_prop</th>\n",
       "      <th>trip_time</th>\n",
       "      <th>rel_dist_time</th>\n",
       "    </tr>\n",
       "  </thead>\n",
       "  <tbody>\n",
       "    <tr>\n",
       "      <th>4834</th>\n",
       "      <td>0</td>\n",
       "      <td>13.5</td>\n",
       "      <td>1</td>\n",
       "      <td>263</td>\n",
       "      <td>1.45</td>\n",
       "      <td>2015-01-14 18:36:39</td>\n",
       "      <td>2015-01-13 18:37:53</td>\n",
       "      <td>2.73</td>\n",
       "      <td>0.1</td>\n",
       "      <td>1438</td>\n",
       "      <td>0.0</td>\n",
       "    </tr>\n",
       "    <tr>\n",
       "      <th>667</th>\n",
       "      <td>1</td>\n",
       "      <td>5.0</td>\n",
       "      <td>1</td>\n",
       "      <td>38</td>\n",
       "      <td>0.00</td>\n",
       "      <td>2015-01-05 14:31:46</td>\n",
       "      <td>2015-01-04 14:44:09</td>\n",
       "      <td>0.53</td>\n",
       "      <td>0.0</td>\n",
       "      <td>1427</td>\n",
       "      <td>0.0</td>\n",
       "    </tr>\n",
       "    <tr>\n",
       "      <th>1892</th>\n",
       "      <td>1</td>\n",
       "      <td>6.0</td>\n",
       "      <td>5</td>\n",
       "      <td>102</td>\n",
       "      <td>0.34</td>\n",
       "      <td>2015-01-25 00:00:00</td>\n",
       "      <td>2015-01-24 09:27:33</td>\n",
       "      <td>1.29</td>\n",
       "      <td>0.1</td>\n",
       "      <td>872</td>\n",
       "      <td>0.0</td>\n",
       "    </tr>\n",
       "    <tr>\n",
       "      <th>1335</th>\n",
       "      <td>0</td>\n",
       "      <td>115.5</td>\n",
       "      <td>1</td>\n",
       "      <td>73</td>\n",
       "      <td>10.00</td>\n",
       "      <td>2015-01-26 16:37:03</td>\n",
       "      <td>2015-01-26 14:19:25</td>\n",
       "      <td>25.42</td>\n",
       "      <td>0.1</td>\n",
       "      <td>137</td>\n",
       "      <td>0.2</td>\n",
       "    </tr>\n",
       "    <tr>\n",
       "      <th>4125</th>\n",
       "      <td>0</td>\n",
       "      <td>92.8</td>\n",
       "      <td>1</td>\n",
       "      <td>222</td>\n",
       "      <td>22.00</td>\n",
       "      <td>2015-01-26 15:56:35</td>\n",
       "      <td>2015-01-26 13:55:40</td>\n",
       "      <td>21.40</td>\n",
       "      <td>0.2</td>\n",
       "      <td>120</td>\n",
       "      <td>0.2</td>\n",
       "    </tr>\n",
       "    <tr>\n",
       "      <th>2467</th>\n",
       "      <td>1</td>\n",
       "      <td>52.0</td>\n",
       "      <td>2</td>\n",
       "      <td>133</td>\n",
       "      <td>7.00</td>\n",
       "      <td>2015-01-26 15:22:12</td>\n",
       "      <td>2015-01-26 13:33:51</td>\n",
       "      <td>16.80</td>\n",
       "      <td>0.1</td>\n",
       "      <td>108</td>\n",
       "      <td>0.2</td>\n",
       "    </tr>\n",
       "    <tr>\n",
       "      <th>3541</th>\n",
       "      <td>0</td>\n",
       "      <td>52.0</td>\n",
       "      <td>1</td>\n",
       "      <td>192</td>\n",
       "      <td>11.60</td>\n",
       "      <td>2015-01-15 17:41:40</td>\n",
       "      <td>2015-01-15 16:15:09</td>\n",
       "      <td>17.50</td>\n",
       "      <td>0.2</td>\n",
       "      <td>86</td>\n",
       "      <td>0.2</td>\n",
       "    </tr>\n",
       "    <tr>\n",
       "      <th>3657</th>\n",
       "      <td>0</td>\n",
       "      <td>52.0</td>\n",
       "      <td>1</td>\n",
       "      <td>198</td>\n",
       "      <td>10.00</td>\n",
       "      <td>2015-01-15 17:12:21</td>\n",
       "      <td>2015-01-15 15:47:43</td>\n",
       "      <td>17.20</td>\n",
       "      <td>0.2</td>\n",
       "      <td>84</td>\n",
       "      <td>0.2</td>\n",
       "    </tr>\n",
       "    <tr>\n",
       "      <th>3089</th>\n",
       "      <td>0</td>\n",
       "      <td>52.0</td>\n",
       "      <td>1</td>\n",
       "      <td>167</td>\n",
       "      <td>6.00</td>\n",
       "      <td>2015-01-08 08:57:10</td>\n",
       "      <td>2015-01-08 07:33:37</td>\n",
       "      <td>17.40</td>\n",
       "      <td>0.1</td>\n",
       "      <td>83</td>\n",
       "      <td>0.2</td>\n",
       "    </tr>\n",
       "    <tr>\n",
       "      <th>5745</th>\n",
       "      <td>0</td>\n",
       "      <td>50.0</td>\n",
       "      <td>1</td>\n",
       "      <td>314</td>\n",
       "      <td>11.20</td>\n",
       "      <td>2015-01-15 17:08:39</td>\n",
       "      <td>2015-01-15 15:47:41</td>\n",
       "      <td>8.80</td>\n",
       "      <td>0.2</td>\n",
       "      <td>80</td>\n",
       "      <td>0.1</td>\n",
       "    </tr>\n",
       "  </tbody>\n",
       "</table>\n",
       "</div>"
      ],
      "text/plain": [
       "      car_type  fare_amount  passenger_count  taxi_id  tip_amount  \\\n",
       "4834         0         13.5                1      263        1.45   \n",
       "667          1          5.0                1       38        0.00   \n",
       "1892         1          6.0                5      102        0.34   \n",
       "1335         0        115.5                1       73       10.00   \n",
       "4125         0         92.8                1      222       22.00   \n",
       "2467         1         52.0                2      133        7.00   \n",
       "3541         0         52.0                1      192       11.60   \n",
       "3657         0         52.0                1      198       10.00   \n",
       "3089         0         52.0                1      167        6.00   \n",
       "5745         0         50.0                1      314       11.20   \n",
       "\n",
       "     tpep_dropoff_datetime tpep_pickup_datetime  trip_distance  tip_prop  \\\n",
       "4834   2015-01-14 18:36:39  2015-01-13 18:37:53           2.73       0.1   \n",
       "667    2015-01-05 14:31:46  2015-01-04 14:44:09           0.53       0.0   \n",
       "1892   2015-01-25 00:00:00  2015-01-24 09:27:33           1.29       0.1   \n",
       "1335   2015-01-26 16:37:03  2015-01-26 14:19:25          25.42       0.1   \n",
       "4125   2015-01-26 15:56:35  2015-01-26 13:55:40          21.40       0.2   \n",
       "2467   2015-01-26 15:22:12  2015-01-26 13:33:51          16.80       0.1   \n",
       "3541   2015-01-15 17:41:40  2015-01-15 16:15:09          17.50       0.2   \n",
       "3657   2015-01-15 17:12:21  2015-01-15 15:47:43          17.20       0.2   \n",
       "3089   2015-01-08 08:57:10  2015-01-08 07:33:37          17.40       0.1   \n",
       "5745   2015-01-15 17:08:39  2015-01-15 15:47:41           8.80       0.2   \n",
       "\n",
       "      trip_time  rel_dist_time  \n",
       "4834       1438            0.0  \n",
       "667        1427            0.0  \n",
       "1892        872            0.0  \n",
       "1335        137            0.2  \n",
       "4125        120            0.2  \n",
       "2467        108            0.2  \n",
       "3541         86            0.2  \n",
       "3657         84            0.2  \n",
       "3089         83            0.2  \n",
       "5745         80            0.1  "
      ]
     },
     "execution_count": 5,
     "metadata": {},
     "output_type": "execute_result"
    }
   ],
   "source": [
    "# Convierto campos a formato Datetime:\n",
    "trips_df.tpep_dropoff_datetime = pd.to_datetime(trips_df.tpep_dropoff_datetime)\n",
    "trips_df.tpep_pickup_datetime = pd.to_datetime(trips_df.tpep_pickup_datetime)\n",
    "\n",
    "# Funcion para convertir hora a minutos:\n",
    "def convert_to_minutes(time):\n",
    "    return (time.hour * 60 + time.minute)\n",
    "\n",
    "# Convierto la duración del viaje a minutos:\n",
    "trips_df[\"trip_time\"] =  (pd.to_datetime(trips_df.tpep_dropoff_datetime - trips_df.tpep_pickup_datetime)\n",
    "                            .apply(convert_to_minutes))\n",
    "\n",
    "# Agrego factor de interacción entre distancia y tiempo del viaje (trip_distance / length_trip):\n",
    "trips_df[\"rel_dist_time\"] = trips_df.apply(lambda df: 0 if df[\"trip_time\"] == 0 \n",
    "                                                        else round(df[\"trip_distance\"] / df[\"trip_time\"],1), axis=1)\n",
    "\n",
    "\n",
    "# Visualizo los datos ordenados en forma descendete por length_trip:\n",
    "trips_df.sort_values(by=['trip_time'], ascending=0).head(10)"
   ]
  },
  {
   "cell_type": "code",
   "execution_count": 6,
   "metadata": {},
   "outputs": [],
   "source": [
    "# Deje solo los registros con una diracion menor a 800\n",
    "# Solo hay 3 que superan esta duracion y son:\n",
    "# .-trip_distance: 2.73 - length_trip: 1438 min.\n",
    "# .-trip_distance: 0.53 - length_trip: 1427 min.\n",
    "# .-trip_distance: 1.29 - length_trip:  872 min\n",
    "                            \n",
    "trips_df = trips_df[trips_df.trip_time < 800]"
   ]
  },
  {
   "cell_type": "markdown",
   "metadata": {},
   "source": [
    "---  \n",
    "## SKLEARN\n",
    "#### Separo datos en Entrenamiento y Pruaba:"
   ]
  },
  {
   "cell_type": "code",
   "execution_count": 7,
   "metadata": {},
   "outputs": [],
   "source": [
    "# Features:\n",
    "columns = [\"car_type\", \"fare_amount\", \"passenger_count\", \"trip_distance\", \"trip_time\", \"rel_dist_time\"]\n",
    "\n",
    "X_train, X_test, y_train, y_test = train_test_split(\n",
    "    trips_df[columns],     # Features\n",
    "    trips_df[\"tip_prop\"],  # Target\n",
    "    test_size=0.3)"
   ]
  },
  {
   "cell_type": "markdown",
   "metadata": {},
   "source": [
    "#### Defino parametros a probar:"
   ]
  },
  {
   "cell_type": "code",
   "execution_count": 8,
   "metadata": {},
   "outputs": [],
   "source": [
    "# Construct some pipelines\n",
    "pipe_lr = Pipeline([('scl', StandardScaler()),\n",
    "                    ('lr', Ridge())])\n",
    "\n",
    "# Parametros a probar:\n",
    "grid_params = [{'lr__alpha': [2, 5, 10],\n",
    "                'lr__tol': [1e-4, 1e-3, 1e-2]}]\n",
    "\n",
    "# Armo grid search:\n",
    "jobs = -1\n",
    "grid = GridSearchCV(estimator=pipe_lr,\n",
    "            param_grid=grid_params,\n",
    "            cv=10, \n",
    "            n_jobs=jobs)\n",
    "\n",
    "# Lista de modelos a correr:\n",
    "# En este caso se esta probando solo 1 modelo pero podría extenderse a mas.\n",
    "grids = [grid]\n",
    "models = ['LinearRegression - Ridge']"
   ]
  },
  {
   "cell_type": "markdown",
   "metadata": {},
   "source": [
    "#### Defino función para ejecutar el modelo:"
   ]
  },
  {
   "cell_type": "code",
   "execution_count": 9,
   "metadata": {},
   "outputs": [],
   "source": [
    "def fit_sklearn(grids, models, X_train_p, y_train_p):\n",
    "    best_acc = 1\n",
    "    best_gs = ''        \n",
    "    \n",
    "    for idx, gs in enumerate(grids):\n",
    "        print('Ajustando modelo (SKLEARN): ' + models[idx])\n",
    "\n",
    "        # Fit model:\n",
    "        gs.fit(X_train_p, y_train_p)\n",
    "        gs.predict(X_train_p)    \n",
    "        \n",
    "        # Score:\n",
    "        score = gs.score(X_train_p, y_train_p)\n",
    "        print('Score: %.4f' % score + \"\\n\")\n",
    "        \n",
    "        # Best model:\n",
    "        if score < best_acc:\n",
    "            best_acc = score\n",
    "            best_gs = gs\n",
    "    \n",
    "    return(best_gs)"
   ]
  },
  {
   "cell_type": "markdown",
   "metadata": {},
   "source": [
    "### sklearn - Secuencial\n",
    "#### Ejecuto función y calculo el tiempo"
   ]
  },
  {
   "cell_type": "code",
   "execution_count": 10,
   "metadata": {},
   "outputs": [
    {
     "name": "stdout",
     "output_type": "stream",
     "text": [
      "Ajustando modelo (SKLEARN): LinearRegression - Ridge\n",
      "Score: 0.0004\n",
      "\n",
      "CPU times: user 150 ms, sys: 50 ms, total: 200 ms\n",
      "Wall time: 914 ms\n"
     ]
    }
   ],
   "source": [
    "%%time\n",
    "lr_model_sklearn = fit_sklearn(grids, models, X_train, y_train)"
   ]
  },
  {
   "cell_type": "markdown",
   "metadata": {},
   "source": [
    "---\n",
    "### Importo librerías de DASK"
   ]
  },
  {
   "cell_type": "code",
   "execution_count": 11,
   "metadata": {},
   "outputs": [],
   "source": [
    "from timeit import default_timer as tic\n",
    "from dask_ml.linear_model import LinearRegression\n",
    "from sklearn.model_selection import train_test_split\n",
    "from dask import persist, compute\n",
    "from dask_ml.model_selection import GridSearchCV\n",
    "import pandas as pd\n",
    "\n",
    "from dask_ml.preprocessing import StandardScaler\n",
    "from sklearn.pipeline import Pipeline\n",
    "\n",
    "import dask.dataframe as dd"
   ]
  },
  {
   "cell_type": "markdown",
   "metadata": {},
   "source": [
    "#### Covierto dataframe Pandas a Dask"
   ]
  },
  {
   "cell_type": "code",
   "execution_count": 12,
   "metadata": {},
   "outputs": [],
   "source": [
    "trips_dask = dd.from_pandas(trips_df, npartitions=1)"
   ]
  },
  {
   "cell_type": "markdown",
   "metadata": {},
   "source": [
    "#### Separo datos en Entrenamiento y Pruaba:"
   ]
  },
  {
   "cell_type": "code",
   "execution_count": 13,
   "metadata": {},
   "outputs": [],
   "source": [
    "df_train, df_test = trips_dask.random_split([0.7, 0.3], random_state=2)\n",
    "\n",
    "columns = [\"car_type\", \"fare_amount\", \"passenger_count\", \"trip_distance\", \"trip_time\", \"rel_dist_time\"]\n",
    "\n",
    "# Features y Target\n",
    "X_train, y_train = df_train[columns], df_train['tip_prop'] \n",
    "X_test, y_test = df_test[columns], df_test['tip_prop']\n",
    "\n",
    "X_train = X_train.values.compute()\n",
    "y_train = y_train.values.compute()"
   ]
  },
  {
   "cell_type": "markdown",
   "metadata": {},
   "source": [
    "#### Defino parametros a probar:"
   ]
  },
  {
   "cell_type": "code",
   "execution_count": 14,
   "metadata": {},
   "outputs": [],
   "source": [
    "# Construct some pipelines\n",
    "pipe_lr = Pipeline([('scl', StandardScaler()),\n",
    "                    ('lr', LinearRegression())])\n",
    "\n",
    "# Parametros a probar:\n",
    "grid_params = [{'lr__C': [2, 5, 10],\n",
    "                'lr__tol': [1e-4, 1e-3, 1e-2]}]\n",
    "\n",
    "# Armo grid search:\n",
    "jobs = -1\n",
    "grid = GridSearchCV(estimator=pipe_lr,\n",
    "            param_grid=grid_params,\n",
    "            cv=10, \n",
    "            n_jobs=jobs)\n",
    "\n",
    "# Lista de modelos a correr:\n",
    "# En este caso se esta probando solo 1 modelo pero podría extenderse a mas.\n",
    "grids = [grid]\n",
    "models = ['LinearRegression']"
   ]
  },
  {
   "cell_type": "markdown",
   "metadata": {},
   "source": [
    "#### Defino función para ejecutar el modelo:"
   ]
  },
  {
   "cell_type": "code",
   "execution_count": 15,
   "metadata": {},
   "outputs": [],
   "source": [
    "def fit_dask(grids, models, X_train_p, y_train_p):\n",
    "    best_acc = 1\n",
    "    best_gs = ''        \n",
    "    \n",
    "    for idx, gs in enumerate(grids):\n",
    "        print('Ajustando modelo (DASK): ' + models[idx])\n",
    "\n",
    "        # Fit model:\n",
    "        gs.fit(X_train_p, y_train_p)\n",
    "        gs.predict(X_train_p)    \n",
    "        \n",
    "        # Score:\n",
    "        score = gs.score(X_train_p, y_train_p)\n",
    "        print('Score: %.4f' % score + \"\\n\")\n",
    "        \n",
    "        # Best model:\n",
    "        if score < best_acc:\n",
    "            best_acc = score\n",
    "            best_gs = gs\n",
    "    \n",
    "    return(best_gs)"
   ]
  },
  {
   "cell_type": "markdown",
   "metadata": {},
   "source": [
    "### DASK - Secuencial\n",
    "#### Ejecuto función y calculo el tiempo"
   ]
  },
  {
   "cell_type": "code",
   "execution_count": 16,
   "metadata": {},
   "outputs": [
    {
     "name": "stdout",
     "output_type": "stream",
     "text": [
      "Ajustando modelo (DASK): LinearRegression\n",
      "Score: 0.1561\n",
      "\n",
      "CPU times: user 3.02 s, sys: 4.68 s, total: 7.7 s\n",
      "Wall time: 4.22 s\n"
     ]
    }
   ],
   "source": [
    "%%time\n",
    "lr_model_dask = fit_dask(grids, models, X_train, y_train)"
   ]
  },
  {
   "cell_type": "markdown",
   "metadata": {},
   "source": [
    "#### Best params"
   ]
  },
  {
   "cell_type": "code",
   "execution_count": 17,
   "metadata": {},
   "outputs": [
    {
     "data": {
      "text/plain": [
       "{'lr__C': 2, 'lr__tol': 0.01}"
      ]
     },
     "execution_count": 17,
     "metadata": {},
     "output_type": "execute_result"
    }
   ],
   "source": [
    "lr_model_dask.best_params_"
   ]
  },
  {
   "cell_type": "markdown",
   "metadata": {},
   "source": [
    "### DASK - Distribuido\n",
    "#### Ejecuto función y calculo el tiempo"
   ]
  },
  {
   "cell_type": "code",
   "execution_count": 18,
   "metadata": {},
   "outputs": [],
   "source": [
    "from dask.distributed import Client\n",
    "client = Client(\"scheduler:8786\")"
   ]
  },
  {
   "cell_type": "code",
   "execution_count": 19,
   "metadata": {},
   "outputs": [
    {
     "name": "stdout",
     "output_type": "stream",
     "text": [
      "Ajustando modelo (DASK): LinearRegression\n",
      "Score: 0.2733\n",
      "\n",
      "CPU times: user 280 ms, sys: 50 ms, total: 330 ms\n",
      "Wall time: 31 s\n"
     ]
    }
   ],
   "source": [
    "%%time\n",
    "lr_model_distr = fit_dask(grids, models, X_train, y_train)"
   ]
  },
  {
   "cell_type": "code",
   "execution_count": 20,
   "metadata": {},
   "outputs": [
    {
     "data": {
      "text/plain": [
       "{'lr__C': 10, 'lr__tol': 0.01}"
      ]
     },
     "execution_count": 20,
     "metadata": {},
     "output_type": "execute_result"
    }
   ],
   "source": [
    "lr_model_distr.best_params_"
   ]
  },
  {
   "cell_type": "markdown",
   "metadata": {},
   "source": [
    "### Respuesta:\n",
    "En este caso, para la cantidad de datos a procesar (9198 registros), el costo de ejecución en paralelo es superior al \n",
    "costo de ejecución secuancial.   \n",
    "El tiempo de ejecución de Sklaern fue considerablemente menor a Dask."
   ]
  },
  {
   "cell_type": "markdown",
   "metadata": {},
   "source": [
    "---  \n",
    "**Bonus**\n",
    "\n",
    "Haz lo mismo utilizando Spark ML\n",
    "\n",
    "* ¿Cómo se comparan los tiempos de ejecución de Spark vs Dask?\n",
    "\n",
    "Usa los datos en s3://dask-data/nyc-taxi/2015/yellow_tripdata_2015-01.csv\n",
    "\n",
    "* ¿Cambia alguno de los resultados anteriores?"
   ]
  }
 ],
 "metadata": {
  "kernelspec": {
   "display_name": "Python 3",
   "language": "python",
   "name": "python3"
  },
  "language_info": {
   "codemirror_mode": {
    "name": "ipython",
    "version": 3
   },
   "file_extension": ".py",
   "mimetype": "text/x-python",
   "name": "python",
   "nbconvert_exporter": "python",
   "pygments_lexer": "ipython3",
   "version": "3.5.4"
  }
 },
 "nbformat": 4,
 "nbformat_minor": 2
}
