{
 "cells": [
  {
   "cell_type": "markdown",
   "metadata": {},
   "source": [
    "# Tarea 9: Dask\n",
    "\n",
    "## Elizabeth Solis Díaz \n",
    "\n",
    "\n",
    "Aprovecha la capacidad de Dask para realizar cómputo en paralelo para ajustar un modelo para predecir la proporción de propina de un viaje. Realiza búsqueda de hiperparámetros en grid con cross validation. Puedes usar funciones de scikit learn. Recuerda usar el decorador delayed para ejecutar en paralelo.\n",
    "\n",
    "+ ¿Qué tan rápido es buscar en paralelo comparado con una búsqueda secuencial en python?\n",
    "\n",
    "Haz lo mismo que arriba, pero utilizando la biblioteca Dask-ML http://dask-ml.readthedocs.io/en/latest/\n",
    "\n",
    "+ ¿Cómo se comparan los tiempos de ejecución de tu búsqueda con la de Dask ML?"
   ]
  },
  {
   "cell_type": "code",
   "execution_count": 3,
   "metadata": {},
   "outputs": [
    {
     "data": {
      "text/html": [
       "<div>\n",
       "<style scoped>\n",
       "    .dataframe tbody tr th:only-of-type {\n",
       "        vertical-align: middle;\n",
       "    }\n",
       "\n",
       "    .dataframe tbody tr th {\n",
       "        vertical-align: top;\n",
       "    }\n",
       "\n",
       "    .dataframe thead th {\n",
       "        text-align: right;\n",
       "    }\n",
       "</style>\n",
       "<table border=\"1\" class=\"dataframe\">\n",
       "  <thead>\n",
       "    <tr style=\"text-align: right;\">\n",
       "      <th></th>\n",
       "      <th>car_type</th>\n",
       "      <th>fare_amount</th>\n",
       "      <th>passenger_count</th>\n",
       "      <th>taxi_id</th>\n",
       "      <th>tip_amount</th>\n",
       "      <th>tpep_dropoff_datetime</th>\n",
       "      <th>tpep_pickup_datetime</th>\n",
       "      <th>trip_distance</th>\n",
       "    </tr>\n",
       "  </thead>\n",
       "  <tbody>\n",
       "    <tr>\n",
       "      <th>0</th>\n",
       "      <td>A</td>\n",
       "      <td>22.0</td>\n",
       "      <td>1</td>\n",
       "      <td>1</td>\n",
       "      <td>4.60</td>\n",
       "      <td>2015-01-03 01:37:02</td>\n",
       "      <td>2015-01-03 01:17:32</td>\n",
       "      <td>6.90</td>\n",
       "    </tr>\n",
       "    <tr>\n",
       "      <th>1</th>\n",
       "      <td>A</td>\n",
       "      <td>9.0</td>\n",
       "      <td>1</td>\n",
       "      <td>1</td>\n",
       "      <td>0.00</td>\n",
       "      <td>2015-01-05 23:35:02</td>\n",
       "      <td>2015-01-05 23:25:15</td>\n",
       "      <td>1.81</td>\n",
       "    </tr>\n",
       "    <tr>\n",
       "      <th>2</th>\n",
       "      <td>A</td>\n",
       "      <td>7.5</td>\n",
       "      <td>1</td>\n",
       "      <td>1</td>\n",
       "      <td>1.00</td>\n",
       "      <td>2015-01-06 15:22:12</td>\n",
       "      <td>2015-01-06 15:11:45</td>\n",
       "      <td>0.96</td>\n",
       "    </tr>\n",
       "    <tr>\n",
       "      <th>3</th>\n",
       "      <td>A</td>\n",
       "      <td>8.5</td>\n",
       "      <td>1</td>\n",
       "      <td>1</td>\n",
       "      <td>1.00</td>\n",
       "      <td>2015-01-08 08:31:23</td>\n",
       "      <td>2015-01-08 08:22:12</td>\n",
       "      <td>1.90</td>\n",
       "    </tr>\n",
       "    <tr>\n",
       "      <th>4</th>\n",
       "      <td>A</td>\n",
       "      <td>7.5</td>\n",
       "      <td>1</td>\n",
       "      <td>1</td>\n",
       "      <td>1.66</td>\n",
       "      <td>2015-01-08 12:35:54</td>\n",
       "      <td>2015-01-08 12:26:26</td>\n",
       "      <td>1.00</td>\n",
       "    </tr>\n",
       "  </tbody>\n",
       "</table>\n",
       "</div>"
      ],
      "text/plain": [
       "  car_type  fare_amount  passenger_count  taxi_id  tip_amount  \\\n",
       "0        A         22.0                1        1        4.60   \n",
       "1        A          9.0                1        1        0.00   \n",
       "2        A          7.5                1        1        1.00   \n",
       "3        A          8.5                1        1        1.00   \n",
       "4        A          7.5                1        1        1.66   \n",
       "\n",
       "  tpep_dropoff_datetime tpep_pickup_datetime  trip_distance  \n",
       "0   2015-01-03 01:37:02  2015-01-03 01:17:32           6.90  \n",
       "1   2015-01-05 23:35:02  2015-01-05 23:25:15           1.81  \n",
       "2   2015-01-06 15:22:12  2015-01-06 15:11:45           0.96  \n",
       "3   2015-01-08 08:31:23  2015-01-08 08:22:12           1.90  \n",
       "4   2015-01-08 12:35:54  2015-01-08 12:26:26           1.00  "
      ]
     },
     "execution_count": 3,
     "metadata": {},
     "output_type": "execute_result"
    }
   ],
   "source": [
    "# Lectura datos\n",
    "import pandas as pd\n",
    "from sklearn import linear_model\n",
    "from sklearn.pipeline import Pipeline\n",
    "\n",
    "trips_df = pd.read_csv(\"/data/trips.csv\", encoding='utf-8')\n",
    "trips_df.head()"
   ]
  },
  {
   "cell_type": "markdown",
   "metadata": {},
   "source": [
    "## Obtengamos estadisticos descriptivos relevantes de la variable propina\n"
   ]
  },
  {
   "cell_type": "code",
   "execution_count": 5,
   "metadata": {},
   "outputs": [
    {
     "data": {
      "text/plain": [
       "count    9198.000000\n",
       "mean        1.540099\n",
       "std         2.180261\n",
       "min        -0.700000\n",
       "25%         0.000000\n",
       "50%         1.050000\n",
       "75%         2.100000\n",
       "max        40.000000\n",
       "Name: tip_amount, dtype: float64"
      ]
     },
     "execution_count": 5,
     "metadata": {},
     "output_type": "execute_result"
    }
   ],
   "source": [
    "# Obtengamos estadisticos descriptivos relevantes de la variable propina\n",
    "trips_df.tip_amount.describe()"
   ]
  },
  {
   "cell_type": "markdown",
   "metadata": {},
   "source": [
    "# Supuesto\n",
    "La manera en la cual obtendremos la propina será:\n",
    "\n",
    "\n",
    "    tip_amount/(tip_amount + fare_amount)"
   ]
  },
  {
   "cell_type": "code",
   "execution_count": 6,
   "metadata": {},
   "outputs": [
    {
     "data": {
      "text/html": [
       "<div>\n",
       "<style scoped>\n",
       "    .dataframe tbody tr th:only-of-type {\n",
       "        vertical-align: middle;\n",
       "    }\n",
       "\n",
       "    .dataframe tbody tr th {\n",
       "        vertical-align: top;\n",
       "    }\n",
       "\n",
       "    .dataframe thead th {\n",
       "        text-align: right;\n",
       "    }\n",
       "</style>\n",
       "<table border=\"1\" class=\"dataframe\">\n",
       "  <thead>\n",
       "    <tr style=\"text-align: right;\">\n",
       "      <th></th>\n",
       "      <th>car_type</th>\n",
       "      <th>fare_amount</th>\n",
       "      <th>passenger_count</th>\n",
       "      <th>taxi_id</th>\n",
       "      <th>tip_amount</th>\n",
       "      <th>tpep_dropoff_datetime</th>\n",
       "      <th>tpep_pickup_datetime</th>\n",
       "      <th>trip_distance</th>\n",
       "      <th>trip_duration</th>\n",
       "      <th>total_fee</th>\n",
       "      <th>tip_percentage</th>\n",
       "    </tr>\n",
       "  </thead>\n",
       "  <tbody>\n",
       "    <tr>\n",
       "      <th>0</th>\n",
       "      <td>A</td>\n",
       "      <td>22.0</td>\n",
       "      <td>1</td>\n",
       "      <td>1</td>\n",
       "      <td>4.60</td>\n",
       "      <td>2015-01-03 01:37:02</td>\n",
       "      <td>2015-01-03 01:17:32</td>\n",
       "      <td>6.90</td>\n",
       "      <td>00:19:30</td>\n",
       "      <td>26.60</td>\n",
       "      <td>0.172932</td>\n",
       "    </tr>\n",
       "    <tr>\n",
       "      <th>1</th>\n",
       "      <td>A</td>\n",
       "      <td>9.0</td>\n",
       "      <td>1</td>\n",
       "      <td>1</td>\n",
       "      <td>0.00</td>\n",
       "      <td>2015-01-05 23:35:02</td>\n",
       "      <td>2015-01-05 23:25:15</td>\n",
       "      <td>1.81</td>\n",
       "      <td>00:09:47</td>\n",
       "      <td>9.00</td>\n",
       "      <td>0.000000</td>\n",
       "    </tr>\n",
       "    <tr>\n",
       "      <th>2</th>\n",
       "      <td>A</td>\n",
       "      <td>7.5</td>\n",
       "      <td>1</td>\n",
       "      <td>1</td>\n",
       "      <td>1.00</td>\n",
       "      <td>2015-01-06 15:22:12</td>\n",
       "      <td>2015-01-06 15:11:45</td>\n",
       "      <td>0.96</td>\n",
       "      <td>00:10:27</td>\n",
       "      <td>8.50</td>\n",
       "      <td>0.117647</td>\n",
       "    </tr>\n",
       "    <tr>\n",
       "      <th>3</th>\n",
       "      <td>A</td>\n",
       "      <td>8.5</td>\n",
       "      <td>1</td>\n",
       "      <td>1</td>\n",
       "      <td>1.00</td>\n",
       "      <td>2015-01-08 08:31:23</td>\n",
       "      <td>2015-01-08 08:22:12</td>\n",
       "      <td>1.90</td>\n",
       "      <td>00:09:11</td>\n",
       "      <td>9.50</td>\n",
       "      <td>0.105263</td>\n",
       "    </tr>\n",
       "    <tr>\n",
       "      <th>4</th>\n",
       "      <td>A</td>\n",
       "      <td>7.5</td>\n",
       "      <td>1</td>\n",
       "      <td>1</td>\n",
       "      <td>1.66</td>\n",
       "      <td>2015-01-08 12:35:54</td>\n",
       "      <td>2015-01-08 12:26:26</td>\n",
       "      <td>1.00</td>\n",
       "      <td>00:09:28</td>\n",
       "      <td>9.16</td>\n",
       "      <td>0.181223</td>\n",
       "    </tr>\n",
       "  </tbody>\n",
       "</table>\n",
       "</div>"
      ],
      "text/plain": [
       "  car_type  fare_amount  passenger_count  taxi_id  tip_amount  \\\n",
       "0        A         22.0                1        1        4.60   \n",
       "1        A          9.0                1        1        0.00   \n",
       "2        A          7.5                1        1        1.00   \n",
       "3        A          8.5                1        1        1.00   \n",
       "4        A          7.5                1        1        1.66   \n",
       "\n",
       "  tpep_dropoff_datetime tpep_pickup_datetime  trip_distance trip_duration  \\\n",
       "0   2015-01-03 01:37:02  2015-01-03 01:17:32           6.90      00:19:30   \n",
       "1   2015-01-05 23:35:02  2015-01-05 23:25:15           1.81      00:09:47   \n",
       "2   2015-01-06 15:22:12  2015-01-06 15:11:45           0.96      00:10:27   \n",
       "3   2015-01-08 08:31:23  2015-01-08 08:22:12           1.90      00:09:11   \n",
       "4   2015-01-08 12:35:54  2015-01-08 12:26:26           1.00      00:09:28   \n",
       "\n",
       "   total_fee  tip_percentage  \n",
       "0      26.60        0.172932  \n",
       "1       9.00        0.000000  \n",
       "2       8.50        0.117647  \n",
       "3       9.50        0.105263  \n",
       "4       9.16        0.181223  "
      ]
     },
     "execution_count": 6,
     "metadata": {},
     "output_type": "execute_result"
    }
   ],
   "source": [
    "# Truco para convertir a datetime...\n",
    "trips_df.tpep_pickup_datetime = trips_df.tpep_pickup_datetime.astype('M8[us]')\n",
    "trips_df.tpep_dropoff_datetime = trips_df.tpep_dropoff_datetime.astype('M8[us]')\n",
    "\n",
    "# Agrega una columna para la duración del viaje\n",
    "trips_df[\"trip_duration\"] = trips_df.tpep_dropoff_datetime - trips_df.tpep_pickup_datetime\n",
    "\n",
    "# Agrega una columna para el porcentaje de propina \n",
    "import numpy as np\n",
    "# Matriz X\n",
    "pdX = trips_df[[\"car_type\",\"fare_amount\", \"passenger_count\", \"trip_distance\", \"total_fee\"]]\n",
    "# Variable Respuesta\n",
    "\n",
    "\n",
    "pdxcartypeDummies = pd.get_dummies(pdX[\"car_type\"])\n",
    "pdX = pd.concat([pdX,pdxcartypeDummies], axis=1)\n",
    "pdX.drop('car_type', axis=1, inplace=True)\n",
    "pdX['A'] = pdX.A.astype(int)\n",
    "pdX['B'] = pdX.B.astype(int)\n",
    "pdX.fillna(0, inplace=True)\n",
    "\n",
    "pdy = trips_df[[\"tip_percentage\"]]\n",
    "pdy = pdy.replace([np.inf, -np.inf], 1)\n",
    "pdy.fillna(0, inplace=True)[\"total_fee\"] = trips_df.tip_amount + trips_df.fare_amount \n",
    "trips_df[\"tip_percentage\"] = trips_df.tip_amount.div(trips_df.total_fee)\n",
    "trips_df.head()"
   ]
  },
  {
   "cell_type": "code",
   "execution_count": 8,
   "metadata": {},
   "outputs": [
    {
     "data": {
      "text/html": [
       "<div>\n",
       "<style scoped>\n",
       "    .dataframe tbody tr th:only-of-type {\n",
       "        vertical-align: middle;\n",
       "    }\n",
       "\n",
       "    .dataframe tbody tr th {\n",
       "        vertical-align: top;\n",
       "    }\n",
       "\n",
       "    .dataframe thead th {\n",
       "        text-align: right;\n",
       "    }\n",
       "</style>\n",
       "<table border=\"1\" class=\"dataframe\">\n",
       "  <thead>\n",
       "    <tr style=\"text-align: right;\">\n",
       "      <th></th>\n",
       "      <th>fare_amount</th>\n",
       "      <th>passenger_count</th>\n",
       "      <th>trip_distance</th>\n",
       "      <th>total_fee</th>\n",
       "      <th>A</th>\n",
       "      <th>B</th>\n",
       "    </tr>\n",
       "  </thead>\n",
       "  <tbody>\n",
       "    <tr>\n",
       "      <th>0</th>\n",
       "      <td>22.0</td>\n",
       "      <td>1</td>\n",
       "      <td>6.90</td>\n",
       "      <td>26.60</td>\n",
       "      <td>1</td>\n",
       "      <td>0</td>\n",
       "    </tr>\n",
       "    <tr>\n",
       "      <th>1</th>\n",
       "      <td>9.0</td>\n",
       "      <td>1</td>\n",
       "      <td>1.81</td>\n",
       "      <td>9.00</td>\n",
       "      <td>1</td>\n",
       "      <td>0</td>\n",
       "    </tr>\n",
       "    <tr>\n",
       "      <th>2</th>\n",
       "      <td>7.5</td>\n",
       "      <td>1</td>\n",
       "      <td>0.96</td>\n",
       "      <td>8.50</td>\n",
       "      <td>1</td>\n",
       "      <td>0</td>\n",
       "    </tr>\n",
       "    <tr>\n",
       "      <th>3</th>\n",
       "      <td>8.5</td>\n",
       "      <td>1</td>\n",
       "      <td>1.90</td>\n",
       "      <td>9.50</td>\n",
       "      <td>1</td>\n",
       "      <td>0</td>\n",
       "    </tr>\n",
       "    <tr>\n",
       "      <th>4</th>\n",
       "      <td>7.5</td>\n",
       "      <td>1</td>\n",
       "      <td>1.00</td>\n",
       "      <td>9.16</td>\n",
       "      <td>1</td>\n",
       "      <td>0</td>\n",
       "    </tr>\n",
       "  </tbody>\n",
       "</table>\n",
       "</div>"
      ],
      "text/plain": [
       "   fare_amount  passenger_count  trip_distance  total_fee  A  B\n",
       "0         22.0                1           6.90      26.60  1  0\n",
       "1          9.0                1           1.81       9.00  1  0\n",
       "2          7.5                1           0.96       8.50  1  0\n",
       "3          8.5                1           1.90       9.50  1  0\n",
       "4          7.5                1           1.00       9.16  1  0"
      ]
     },
     "execution_count": 8,
     "metadata": {},
     "output_type": "execute_result"
    }
   ],
   "source": [
    "import numpy as np\n",
    "# Matriz X\n",
    "pdX = trips_df[[\"car_type\",\"fare_amount\", \"passenger_count\", \"trip_distance\", \"total_fee\"]]\n",
    "\n",
    "# Creamos variables dummies para el car type\n",
    "pdxcartypeDummies = pd.get_dummies(pdX[\"car_type\"])\n",
    "pdX = pd.concat([pdX,pdxcartypeDummies], axis=1)\n",
    "pdX.drop('car_type', axis=1, inplace=True)\n",
    "pdX['A'] = pdX.A.astype(int)\n",
    "pdX['B'] = pdX.B.astype(int)\n",
    "pdX.fillna(0, inplace=True)\n",
    "pdX.head()"
   ]
  },
  {
   "cell_type": "code",
   "execution_count": 17,
   "metadata": {},
   "outputs": [
    {
     "data": {
      "text/html": [
       "<div>\n",
       "<style scoped>\n",
       "    .dataframe tbody tr th:only-of-type {\n",
       "        vertical-align: middle;\n",
       "    }\n",
       "\n",
       "    .dataframe tbody tr th {\n",
       "        vertical-align: top;\n",
       "    }\n",
       "\n",
       "    .dataframe thead th {\n",
       "        text-align: right;\n",
       "    }\n",
       "</style>\n",
       "<table border=\"1\" class=\"dataframe\">\n",
       "  <thead>\n",
       "    <tr style=\"text-align: right;\">\n",
       "      <th></th>\n",
       "      <th>tip_percentage</th>\n",
       "    </tr>\n",
       "  </thead>\n",
       "  <tbody>\n",
       "    <tr>\n",
       "      <th>0</th>\n",
       "      <td>0.172932</td>\n",
       "    </tr>\n",
       "    <tr>\n",
       "      <th>1</th>\n",
       "      <td>0.000000</td>\n",
       "    </tr>\n",
       "    <tr>\n",
       "      <th>2</th>\n",
       "      <td>0.117647</td>\n",
       "    </tr>\n",
       "    <tr>\n",
       "      <th>3</th>\n",
       "      <td>0.105263</td>\n",
       "    </tr>\n",
       "    <tr>\n",
       "      <th>4</th>\n",
       "      <td>0.181223</td>\n",
       "    </tr>\n",
       "  </tbody>\n",
       "</table>\n",
       "</div>"
      ],
      "text/plain": [
       "   tip_percentage\n",
       "0        0.172932\n",
       "1        0.000000\n",
       "2        0.117647\n",
       "3        0.105263\n",
       "4        0.181223"
      ]
     },
     "execution_count": 17,
     "metadata": {},
     "output_type": "execute_result"
    }
   ],
   "source": [
    "# Variable Respuesta\n",
    "pdy = trips_df[[\"tip_percentage\"]]\n",
    "pdy = pdy.replace([np.inf, -np.inf], 0)\n",
    "pdy.fillna(0, inplace=True)\n",
    "pdy.head()"
   ]
  },
  {
   "cell_type": "markdown",
   "metadata": {},
   "source": [
    "# Scikit estimator"
   ]
  },
  {
   "cell_type": "code",
   "execution_count": 79,
   "metadata": {},
   "outputs": [],
   "source": [
    "# Declaramos el modelo de regresión lineal que utilizaremos\n",
    "linear = linear_model.LinearRegression()\n",
    "pipelinear = Pipeline(steps=[('linear', linear)])\n",
    "gridlinear = dict(linear__n_jobs=[1,2,3,4,5], linear__fit_intercept=[True, False], linear__normalize=[False,True])"
   ]
  },
  {
   "cell_type": "markdown",
   "metadata": {},
   "source": [
    "## Secuencial"
   ]
  },
  {
   "cell_type": "code",
   "execution_count": 80,
   "metadata": {},
   "outputs": [],
   "source": [
    "# Realizamos la búsqueda de hiperparámetros en grid con cross validation\n",
    "from sklearn.grid_search import GridSearchCV\n",
    "estimator1 = GridSearchCV(pipelinear, gridlinear, n_jobs= 4)"
   ]
  },
  {
   "cell_type": "markdown",
   "metadata": {},
   "source": [
    "### Tiempo de ejecución en secuencial con scickit learn:"
   ]
  },
  {
   "cell_type": "code",
   "execution_count": 81,
   "metadata": {},
   "outputs": [
    {
     "name": "stdout",
     "output_type": "stream",
     "text": [
      "CPU times: user 130 ms, sys: 60 ms, total: 190 ms\n",
      "Wall time: 404 ms\n"
     ]
    }
   ],
   "source": [
    "%%time\n",
    "tiempo_secuencial_ejec = estimator1.fit(pdX, pdy[\"tip_percentage\"])"
   ]
  },
  {
   "cell_type": "markdown",
   "metadata": {},
   "source": [
    "### Mejores parametros del modelo:"
   ]
  },
  {
   "cell_type": "code",
   "execution_count": 82,
   "metadata": {},
   "outputs": [
    {
     "name": "stdout",
     "output_type": "stream",
     "text": [
      "{'linear__normalize': True, 'linear__n_jobs': 1, 'linear__fit_intercept': True}\n"
     ]
    }
   ],
   "source": [
    "print(estimator1.best_params_)\n"
   ]
  },
  {
   "cell_type": "markdown",
   "metadata": {},
   "source": [
    "### Métricas del mejor modelo"
   ]
  },
  {
   "cell_type": "code",
   "execution_count": 83,
   "metadata": {},
   "outputs": [
    {
     "name": "stdout",
     "output_type": "stream",
     "text": [
      "r2Score: 0.5406372468883742\n",
      "ExplaindeVarianze 0.540637246888374\n",
      "MS2: 0.004021544603410263\n"
     ]
    }
   ],
   "source": [
    "from sklearn.metrics import r2_score\n",
    "from sklearn.metrics import explained_variance_score\n",
    "from sklearn.metrics import mean_squared_error\n",
    "\n",
    "y_pred = estimator1.predict(pdX)\n",
    "print(\"r2Score:\",r2_score(pdy[\"tip_percentage\"], y_pred))\n",
    "print(\"ExplaindeVarianze\",explained_variance_score(pdy[\"tip_percentage\"], y_pred))\n",
    "print(\"MS2:\",mean_squared_error(pdy[\"tip_percentage\"], y_pred))\n",
    "\n"
   ]
  },
  {
   "cell_type": "markdown",
   "metadata": {},
   "source": [
    "## Paralelo"
   ]
  },
  {
   "cell_type": "code",
   "execution_count": 84,
   "metadata": {},
   "outputs": [
    {
     "data": {
      "image/png": "[encoded data removed]",
      "text/plain": [
       "<IPython.core.display.Image object>"
      ]
     },
     "execution_count": 84,
     "metadata": {},
     "output_type": "execute_result"
    }
   ],
   "source": [
    "# Usamos el decorador delayed para ejecutar en paralelo.\n",
    "from dask import delayed\n",
    "\n",
    "# Mandamos a ejecutar el pipeline para buscar los hiperparametros y cross validation\n",
    "@delayed\n",
    "def fitLinear():\n",
    "    return estimator1.fit(pdX, pdy[\"tip_percentage\"])\n",
    "\n",
    "# Guardamos el resultado\n",
    "@delayed\n",
    "def result( est1):\n",
    "    return[est1]\n",
    "\n",
    "result = result(fitLinear())\n",
    "result.visualize()"
   ]
  },
  {
   "cell_type": "markdown",
   "metadata": {},
   "source": [
    "### Tiempo de ejecución en paralelo con scickit learn:"
   ]
  },
  {
   "cell_type": "code",
   "execution_count": 85,
   "metadata": {},
   "outputs": [
    {
     "name": "stderr",
     "output_type": "stream",
     "text": [
      "/usr/local/lib/python3.5/site-packages/sklearn/externals/joblib/parallel.py:547: UserWarning: Multiprocessing-backed parallel loops cannot be nested below threads, setting n_jobs=1\n",
      "  **self._backend_args)\n"
     ]
    },
    {
     "name": "stdout",
     "output_type": "stream",
     "text": [
      "CPU times: user 320 ms, sys: 690 ms, total: 1.01 s\n",
      "Wall time: 307 ms\n"
     ]
    }
   ],
   "source": [
    "%%time\n",
    "result_computed = result.compute()"
   ]
  },
  {
   "cell_type": "markdown",
   "metadata": {},
   "source": [
    "### Mejores parametros del modelo:"
   ]
  },
  {
   "cell_type": "code",
   "execution_count": 86,
   "metadata": {},
   "outputs": [
    {
     "name": "stdout",
     "output_type": "stream",
     "text": [
      "{'linear__normalize': True, 'linear__n_jobs': 1, 'linear__fit_intercept': True}\n"
     ]
    }
   ],
   "source": [
    "for pipe in result_computed:\n",
    "    print(pipe.best_params_)"
   ]
  },
  {
   "cell_type": "markdown",
   "metadata": {},
   "source": [
    "### ¿Qué tan rápido es buscar en paralelo comparado con una búsqueda secuencial en python?\n",
    "\n",
    "Resultó ser más rápido en paralelo como esperabamos; sin embargo, esto no ocurre si en el gridsearch asignamos njobs=1. Con el valor de njobs en el gridsearch que pusimos si se cumple que es más lento en secuencial y en general con njobs >1."
   ]
  },
  {
   "cell_type": "markdown",
   "metadata": {},
   "source": [
    "\n",
    "# Dask estimator"
   ]
  },
  {
   "cell_type": "code",
   "execution_count": 87,
   "metadata": {},
   "outputs": [
    {
     "data": {
      "text/html": [
       "<div>\n",
       "<style scoped>\n",
       "    .dataframe tbody tr th:only-of-type {\n",
       "        vertical-align: middle;\n",
       "    }\n",
       "\n",
       "    .dataframe tbody tr th {\n",
       "        vertical-align: top;\n",
       "    }\n",
       "\n",
       "    .dataframe thead th {\n",
       "        text-align: right;\n",
       "    }\n",
       "</style>\n",
       "<table border=\"1\" class=\"dataframe\">\n",
       "  <thead>\n",
       "    <tr style=\"text-align: right;\">\n",
       "      <th></th>\n",
       "      <th>fare_amount</th>\n",
       "      <th>passenger_count</th>\n",
       "      <th>trip_distance</th>\n",
       "      <th>total_fee</th>\n",
       "      <th>A</th>\n",
       "      <th>B</th>\n",
       "    </tr>\n",
       "  </thead>\n",
       "  <tbody>\n",
       "    <tr>\n",
       "      <th>0</th>\n",
       "      <td>22.0</td>\n",
       "      <td>1</td>\n",
       "      <td>6.90</td>\n",
       "      <td>26.60</td>\n",
       "      <td>1</td>\n",
       "      <td>0</td>\n",
       "    </tr>\n",
       "    <tr>\n",
       "      <th>1</th>\n",
       "      <td>9.0</td>\n",
       "      <td>1</td>\n",
       "      <td>1.81</td>\n",
       "      <td>9.00</td>\n",
       "      <td>1</td>\n",
       "      <td>0</td>\n",
       "    </tr>\n",
       "    <tr>\n",
       "      <th>2</th>\n",
       "      <td>7.5</td>\n",
       "      <td>1</td>\n",
       "      <td>0.96</td>\n",
       "      <td>8.50</td>\n",
       "      <td>1</td>\n",
       "      <td>0</td>\n",
       "    </tr>\n",
       "    <tr>\n",
       "      <th>3</th>\n",
       "      <td>8.5</td>\n",
       "      <td>1</td>\n",
       "      <td>1.90</td>\n",
       "      <td>9.50</td>\n",
       "      <td>1</td>\n",
       "      <td>0</td>\n",
       "    </tr>\n",
       "    <tr>\n",
       "      <th>4</th>\n",
       "      <td>7.5</td>\n",
       "      <td>1</td>\n",
       "      <td>1.00</td>\n",
       "      <td>9.16</td>\n",
       "      <td>1</td>\n",
       "      <td>0</td>\n",
       "    </tr>\n",
       "  </tbody>\n",
       "</table>\n",
       "</div>"
      ],
      "text/plain": [
       "   fare_amount  passenger_count  trip_distance  total_fee  A  B\n",
       "0         22.0                1           6.90      26.60  1  0\n",
       "1          9.0                1           1.81       9.00  1  0\n",
       "2          7.5                1           0.96       8.50  1  0\n",
       "3          8.5                1           1.90       9.50  1  0\n",
       "4          7.5                1           1.00       9.16  1  0"
      ]
     },
     "execution_count": 87,
     "metadata": {},
     "output_type": "execute_result"
    }
   ],
   "source": [
    "# Creamos data frames en formato Dask\n",
    "import dask.dataframe as dd\n",
    "ddfX = dd.from_pandas(pdX,npartitions=1)\n",
    "ddfX.head()"
   ]
  },
  {
   "cell_type": "code",
   "execution_count": 88,
   "metadata": {},
   "outputs": [
    {
     "data": {
      "text/html": [
       "<div>\n",
       "<style scoped>\n",
       "    .dataframe tbody tr th:only-of-type {\n",
       "        vertical-align: middle;\n",
       "    }\n",
       "\n",
       "    .dataframe tbody tr th {\n",
       "        vertical-align: top;\n",
       "    }\n",
       "\n",
       "    .dataframe thead th {\n",
       "        text-align: right;\n",
       "    }\n",
       "</style>\n",
       "<table border=\"1\" class=\"dataframe\">\n",
       "  <thead>\n",
       "    <tr style=\"text-align: right;\">\n",
       "      <th></th>\n",
       "      <th>tip_percentage</th>\n",
       "    </tr>\n",
       "  </thead>\n",
       "  <tbody>\n",
       "    <tr>\n",
       "      <th>0</th>\n",
       "      <td>0.172932</td>\n",
       "    </tr>\n",
       "    <tr>\n",
       "      <th>1</th>\n",
       "      <td>0.000000</td>\n",
       "    </tr>\n",
       "    <tr>\n",
       "      <th>2</th>\n",
       "      <td>0.117647</td>\n",
       "    </tr>\n",
       "    <tr>\n",
       "      <th>3</th>\n",
       "      <td>0.105263</td>\n",
       "    </tr>\n",
       "    <tr>\n",
       "      <th>4</th>\n",
       "      <td>0.181223</td>\n",
       "    </tr>\n",
       "  </tbody>\n",
       "</table>\n",
       "</div>"
      ],
      "text/plain": [
       "   tip_percentage\n",
       "0        0.172932\n",
       "1        0.000000\n",
       "2        0.117647\n",
       "3        0.105263\n",
       "4        0.181223"
      ]
     },
     "execution_count": 88,
     "metadata": {},
     "output_type": "execute_result"
    }
   ],
   "source": [
    "ddfY = dd.from_pandas(pdy,npartitions=1)\n",
    "ddfY.head()"
   ]
  },
  {
   "cell_type": "code",
   "execution_count": 89,
   "metadata": {},
   "outputs": [],
   "source": [
    "# Declaramos el modelo de regresión lineal que utilizaremos con Dask\n",
    "from dask_searchcv import GridSearchCV as DGSCV\n",
    "from sklearn.linear_model import LinearRegression as LR\n",
    "#from dask_ml.linear_model import LinearRegression as LR\n",
    "##dask models has problems in the last release and the Linear Model is the only one compatible\n",
    "\n",
    "linear = LR()\n",
    "gridlinear = dict(linear__n_jobs=[1,2,3,4,5], linear__fit_intercept=[True, False], linear__normalize=[False,True])\n",
    "\n",
    "dask_estimator = DGSCV(pipelinear, gridlinear, n_jobs = 4)"
   ]
  },
  {
   "cell_type": "markdown",
   "metadata": {},
   "source": [
    "### Tiempo de ejecución con Dask:"
   ]
  },
  {
   "cell_type": "code",
   "execution_count": 90,
   "metadata": {},
   "outputs": [
    {
     "name": "stdout",
     "output_type": "stream",
     "text": [
      "CPU times: user 260 ms, sys: 890 ms, total: 1.15 s\n",
      "Wall time: 381 ms\n"
     ]
    }
   ],
   "source": [
    "%%time\n",
    "tiempo_dask_ejec = dask_estimator.fit(ddfX, ddfY)"
   ]
  },
  {
   "cell_type": "markdown",
   "metadata": {},
   "source": [
    "### Mejores parametros del modelo:"
   ]
  },
  {
   "cell_type": "code",
   "execution_count": 91,
   "metadata": {},
   "outputs": [
    {
     "name": "stdout",
     "output_type": "stream",
     "text": [
      "{'linear__normalize': True, 'linear__n_jobs': 1, 'linear__fit_intercept': True}\n"
     ]
    }
   ],
   "source": [
    "print(dask_estimator.best_params_)"
   ]
  },
  {
   "cell_type": "markdown",
   "metadata": {},
   "source": [
    "### Métricas del mejor modelo"
   ]
  },
  {
   "cell_type": "code",
   "execution_count": 92,
   "metadata": {},
   "outputs": [
    {
     "name": "stdout",
     "output_type": "stream",
     "text": [
      "r2Score: 0.5406372468883742\n",
      "ExplaindeVarianze 0.540637246888374\n",
      "MS2: 0.004021544603410263\n"
     ]
    }
   ],
   "source": [
    "dask_y_pred = dask_estimator.predict(pdX)\n",
    "print(\"r2Score:\",r2_score(ddfY[\"tip_percentage\"], dask_y_pred))\n",
    "print(\"ExplaindeVarianze\",explained_variance_score(ddfY[\"tip_percentage\"], dask_y_pred))\n",
    "print(\"MS2:\",mean_squared_error(ddfY[\"tip_percentage\"], dask_y_pred))"
   ]
  },
  {
   "cell_type": "markdown",
   "metadata": {},
   "source": [
    "## Conclusión:\n",
    "\n",
    "### ¿Cómo se comparan los tiempos de ejecución de tu búsqueda con la de Dask ML?\n",
    "Con esto hemos notado que el tiempo de ejecución en paralelo es menor que el tiempo de ejecución en secuencial y además al utilizar Dask logramos paralelizar pandas y es más rápido que en secuencial; no obstante, en este caso el tiempo de ejecución en paralelo es ligeramente inferior que con Dask."
   ]
  },
  {
   "cell_type": "code",
   "execution_count": null,
   "metadata": {},
   "outputs": [],
   "source": []
  }
 ],
 "metadata": {
  "kernelspec": {
   "display_name": "Python 3",
   "language": "python",
   "name": "python3"
  },
  "language_info": {
   "codemirror_mode": {
    "name": "ipython",
    "version": 3
   },
   "file_extension": ".py",
   "mimetype": "text/x-python",
   "name": "python",
   "nbconvert_exporter": "python",
   "pygments_lexer": "ipython3",
   "version": "3.5.4"
  }
 },
 "nbformat": 4,
 "nbformat_minor": 2
}
