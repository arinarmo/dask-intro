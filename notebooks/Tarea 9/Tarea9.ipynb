{
 "cells": [
  {
   "cell_type": "markdown",
   "metadata": {},
   "source": [
    "### 1- Comparacion entre secuencial y en paralelo"
   ]
  },
  {
   "cell_type": "code",
   "execution_count": 1,
   "metadata": {},
   "outputs": [],
   "source": [
    "from dask.distributed import Client\n",
    "\n",
    "client = Client(\"scheduler:8786\")"
   ]
  },
  {
   "cell_type": "code",
   "execution_count": 2,
   "metadata": {},
   "outputs": [],
   "source": [
    "from sklearn.linear_model import Ridge\n",
    "from sklearn.model_selection import GridSearchCV\n",
    "import pandas as pd\n",
    "import numpy as np\n",
    "from dask import delayed\n",
    "from dask import dataframe"
   ]
  },
  {
   "cell_type": "markdown",
   "metadata": {},
   "source": [
    "Creacion de base de datos en pandas para secuencial"
   ]
  },
  {
   "cell_type": "code",
   "execution_count": 3,
   "metadata": {},
   "outputs": [
    {
     "data": {
      "text/html": [
       "<div>\n",
       "<style scoped>\n",
       "    .dataframe tbody tr th:only-of-type {\n",
       "        vertical-align: middle;\n",
       "    }\n",
       "\n",
       "    .dataframe tbody tr th {\n",
       "        vertical-align: top;\n",
       "    }\n",
       "\n",
       "    .dataframe thead th {\n",
       "        text-align: right;\n",
       "    }\n",
       "</style>\n",
       "<table border=\"1\" class=\"dataframe\">\n",
       "  <thead>\n",
       "    <tr style=\"text-align: right;\">\n",
       "      <th></th>\n",
       "      <th>fare_amount</th>\n",
       "      <th>passenger_count</th>\n",
       "      <th>trip_distance</th>\n",
       "      <th>y</th>\n",
       "      <th>car_type_A</th>\n",
       "      <th>car_type_B</th>\n",
       "    </tr>\n",
       "  </thead>\n",
       "  <tbody>\n",
       "    <tr>\n",
       "      <th>0</th>\n",
       "      <td>22.0</td>\n",
       "      <td>1</td>\n",
       "      <td>6.90</td>\n",
       "      <td>0.209091</td>\n",
       "      <td>1</td>\n",
       "      <td>0</td>\n",
       "    </tr>\n",
       "    <tr>\n",
       "      <th>1</th>\n",
       "      <td>9.0</td>\n",
       "      <td>1</td>\n",
       "      <td>1.81</td>\n",
       "      <td>0.000000</td>\n",
       "      <td>1</td>\n",
       "      <td>0</td>\n",
       "    </tr>\n",
       "    <tr>\n",
       "      <th>2</th>\n",
       "      <td>7.5</td>\n",
       "      <td>1</td>\n",
       "      <td>0.96</td>\n",
       "      <td>0.133333</td>\n",
       "      <td>1</td>\n",
       "      <td>0</td>\n",
       "    </tr>\n",
       "    <tr>\n",
       "      <th>3</th>\n",
       "      <td>8.5</td>\n",
       "      <td>1</td>\n",
       "      <td>1.90</td>\n",
       "      <td>0.117647</td>\n",
       "      <td>1</td>\n",
       "      <td>0</td>\n",
       "    </tr>\n",
       "    <tr>\n",
       "      <th>4</th>\n",
       "      <td>7.5</td>\n",
       "      <td>1</td>\n",
       "      <td>1.00</td>\n",
       "      <td>0.221333</td>\n",
       "      <td>1</td>\n",
       "      <td>0</td>\n",
       "    </tr>\n",
       "  </tbody>\n",
       "</table>\n",
       "</div>"
      ],
      "text/plain": [
       "   fare_amount  passenger_count  trip_distance         y  car_type_A  \\\n",
       "0         22.0                1           6.90  0.209091           1   \n",
       "1          9.0                1           1.81  0.000000           1   \n",
       "2          7.5                1           0.96  0.133333           1   \n",
       "3          8.5                1           1.90  0.117647           1   \n",
       "4          7.5                1           1.00  0.221333           1   \n",
       "\n",
       "   car_type_B  \n",
       "0           0  \n",
       "1           0  \n",
       "2           0  \n",
       "3           0  \n",
       "4           0  "
      ]
     },
     "execution_count": 3,
     "metadata": {},
     "output_type": "execute_result"
    }
   ],
   "source": [
    "# Base en pandas\n",
    "trips_pd = pd.read_csv(\"/data/trips.csv\")\n",
    "trips_pd['y'] = trips_pd['tip_amount'] / trips_pd['fare_amount']\n",
    "trips_pd = trips_pd[np.isfinite(trips_pd['y'])]\n",
    "trips_pd = pd.get_dummies(trips_pd, columns=[\"car_type\"])\n",
    "trips_pd = trips_pd.drop(columns=['taxi_id', 'tip_amount', 'tpep_dropoff_datetime','tpep_pickup_datetime'])\n",
    "\n",
    "X_seq = trips_pd.drop(columns=['y'])\n",
    "y_seq = trips_pd['y']\n",
    "\n",
    "trips_pd.head()"
   ]
  },
  {
   "cell_type": "markdown",
   "metadata": {},
   "source": [
    "Creacion de base de datos en dask para paralelo"
   ]
  },
  {
   "cell_type": "code",
   "execution_count": 4,
   "metadata": {},
   "outputs": [
    {
     "data": {
      "text/plain": [
       "['/data/0.part']"
      ]
     },
     "execution_count": 4,
     "metadata": {},
     "output_type": "execute_result"
    }
   ],
   "source": [
    "# Base en dask\n",
    "trips_df = dataframe.read_csv(\"/data/trips.csv\")\n",
    "\n",
    "trips_df = trips_df.assign(y = trips_df.tip_amount/trips_df.fare_amount)\n",
    "trips_df = trips_df.assign(car_type_A = trips_df.car_type == 'A')\n",
    "trips_df = trips_df.assign(car_type_B = trips_df.car_type == 'B')\n",
    "trips_df.car_type_A = trips_df.car_type_A.astype('int')\n",
    "trips_df.car_type_B = trips_df.car_type_B.astype('int')\n",
    "trips_df = trips_df.drop(['car_type','taxi_id','tip_amount','tpep_dropoff_datetime','tpep_pickup_datetime'],axis=1)\n",
    "trips_df = trips_df.dropna()\n",
    "\n",
    "X_dask = trips_df.drop('y',axis=1)\n",
    "y_dask = trips_df.y\n",
    "\n",
    "trips_df.head()\n",
    "\n",
    "# Se guarda en CSV para la parte de Spark\n",
    "dataframe.to_csv(trips_df,\"/data/\")"
   ]
  },
  {
   "cell_type": "markdown",
   "metadata": {},
   "source": [
    "Creacion de grids"
   ]
  },
  {
   "cell_type": "code",
   "execution_count": 5,
   "metadata": {},
   "outputs": [
    {
     "name": "stdout",
     "output_type": "stream",
     "text": [
      "CPU times: user 206 µs, sys: 54 µs, total: 260 µs\n",
      "Wall time: 246 µs\n"
     ]
    }
   ],
   "source": [
    "%%time \n",
    "grid_params = {\n",
    "    \"alpha\": [0.01, 0.03, 0.05, 0.07, 0.09, 0.1]}\n",
    "ridge = Ridge(max_iter=100)\n",
    "grid = GridSearchCV(estimator=ridge, \n",
    "                    param_grid=grid_params, \n",
    "                    n_jobs=-1, cv = 10, scoring=\"neg_mean_squared_error\")\n",
    "\n",
    "delayed_grid = delayed(grid)"
   ]
  },
  {
   "cell_type": "markdown",
   "metadata": {},
   "source": [
    "Ejecucion en secuencial"
   ]
  },
  {
   "cell_type": "code",
   "execution_count": 13,
   "metadata": {},
   "outputs": [
    {
     "name": "stdout",
     "output_type": "stream",
     "text": [
      "CPU times: user 114 ms, sys: 34.5 ms, total: 149 ms\n",
      "Wall time: 590 ms\n"
     ]
    }
   ],
   "source": [
    "%%time\n",
    "grid_seq = grid.fit(X_seq, y_seq)"
   ]
  },
  {
   "cell_type": "markdown",
   "metadata": {},
   "source": [
    "Ejecucion en paralelo"
   ]
  },
  {
   "cell_type": "code",
   "execution_count": 10,
   "metadata": {},
   "outputs": [
    {
     "name": "stdout",
     "output_type": "stream",
     "text": [
      "CPU times: user 9.51 ms, sys: 4.67 ms, total: 14.2 ms\n",
      "Wall time: 488 ms\n"
     ]
    }
   ],
   "source": [
    "%%time\n",
    "grid_paralelo = delayed_grid.fit(X_dask,y_dask).compute()"
   ]
  },
  {
   "cell_type": "markdown",
   "metadata": {},
   "source": [
    "Se compara la perdida y mejor modelo para ver que el resultado fue el mismo"
   ]
  },
  {
   "cell_type": "code",
   "execution_count": 14,
   "metadata": {},
   "outputs": [
    {
     "name": "stdout",
     "output_type": "stream",
     "text": [
      "Loss: -0.016417 Mejor modelo: {'alpha': 0.1}\n",
      "Loss: -0.016417 Mejor modelo: {'alpha': 0.1}\n"
     ]
    }
   ],
   "source": [
    "print(\"Loss: %f Mejor modelo: %s\"%(grid_seq.best_score_, grid_seq.best_params_))\n",
    "print(\"Loss: %f Mejor modelo: %s\"%(grid_paralelo.best_score_, grid_paralelo.best_params_))"
   ]
  },
  {
   "cell_type": "markdown",
   "metadata": {},
   "source": [
    "### 2- Dask ML"
   ]
  },
  {
   "cell_type": "code",
   "execution_count": 15,
   "metadata": {},
   "outputs": [],
   "source": [
    "from dask_ml.linear_model import LinearRegression as LinearRegression_dask\n",
    "from sklearn.externals.joblib import parallel_backend\n",
    "from dask_searchcv import GridSearchCV as GridSearchCV_dask \n",
    "import dask.array as da\n",
    "\n",
    "X_ml = X_dask.values\n",
    "y_ml = y_dask.values    "
   ]
  },
  {
   "cell_type": "markdown",
   "metadata": {},
   "source": [
    "Primero se implementa utilizando la funcion LinearRegression de dask"
   ]
  },
  {
   "cell_type": "code",
   "execution_count": 16,
   "metadata": {},
   "outputs": [
    {
     "name": "stdout",
     "output_type": "stream",
     "text": [
      "CPU times: user 254 ms, sys: 73.7 ms, total: 328 ms\n",
      "Wall time: 3min 12s\n"
     ]
    }
   ],
   "source": [
    "%%time\n",
    "param_grid = {\n",
    "    \"C\": [0.01, 0.03, 0.05, 0.07, 0.09, 0.1]\n",
    "}\n",
    "ridge = LinearRegression_dask(max_iter= 100, penalty='l2')\n",
    "grid_ml = GridSearchCV_dask(ridge, param_grid=param_grid, n_jobs=-1, cv = 10, scoring=\"neg_mean_squared_error\")\n",
    "grid_ml.fit(X_ml, y_ml)"
   ]
  },
  {
   "cell_type": "code",
   "execution_count": 17,
   "metadata": {},
   "outputs": [
    {
     "name": "stdout",
     "output_type": "stream",
     "text": [
      "Loss: -0.039179 Mejor modelo: {'C': 0.01}\n"
     ]
    }
   ],
   "source": [
    "print(\"Loss: %f Mejor modelo: %s\"%(grid_ml.best_score_, grid_ml.best_params_))"
   ]
  },
  {
   "cell_type": "markdown",
   "metadata": {},
   "source": [
    "Tambien se implementa utilizando la funcion Ridge usada anteriormente y el CV de dask"
   ]
  },
  {
   "cell_type": "code",
   "execution_count": 20,
   "metadata": {},
   "outputs": [
    {
     "name": "stdout",
     "output_type": "stream",
     "text": [
      "CPU times: user 31.2 ms, sys: 0 ns, total: 31.2 ms\n",
      "Wall time: 456 ms\n"
     ]
    }
   ],
   "source": [
    "%%time\n",
    "param_grid = {\n",
    "    \"alpha\": [0.01, 0.03, 0.05, 0.07, 0.09, 0.1]\n",
    "}\n",
    "ridge_2 = Ridge(max_iter=100)\n",
    "grid_ml_2 = GridSearchCV_dask(ridge_2, param_grid=param_grid, n_jobs=-1, cv = 10, scoring=\"neg_mean_squared_error\")\n",
    "grid_ml_2.fit(X_ml, y_ml)"
   ]
  },
  {
   "cell_type": "code",
   "execution_count": 22,
   "metadata": {},
   "outputs": [
    {
     "name": "stdout",
     "output_type": "stream",
     "text": [
      "Loss: -0.016413 Mejor modelo: {'alpha': 0.03}\n"
     ]
    }
   ],
   "source": [
    "print(\"Loss: %f Mejor modelo: %s\"%(grid_ml_2.best_score_, grid_ml_2.best_params_))"
   ]
  },
  {
   "cell_type": "markdown",
   "metadata": {},
   "source": [
    "### Conclusiones"
   ]
  },
  {
   "cell_type": "markdown",
   "metadata": {},
   "source": [
    "De los resultados anteriores puedo concluir que combinar el estimador de sklearn con el GridSearchCV de dask-ml  fue la opcion mas rapida (no esta muy claro qué hace esta combinacion o si es conveniente hacerla pero se intento por el mal desempeño de dask-ml). El segundo mas rapido fue hacer el grid en paralelo utilizando \"delayed\". La tercera opcion fue utilizando sklearn secuencial y en un ultimo lugar utilizando dask-ml. Se comprobo ademas que en todos los casos (menos con dask-ml) se alcanzo la misma loss. Es notable ademas la gran diferencia entre dask-ml y los demas ya que fue casi 60 veces mas lento.\n",
    "\n",
    "Es importante recalcar que existe una gran varianza en los tiempos de ejecucion. En algunas ocaciones (pocas) el orden establecido anteriormente fue diferente."
   ]
  },
  {
   "cell_type": "markdown",
   "metadata": {},
   "source": [
    "### Bonus"
   ]
  },
  {
   "cell_type": "markdown",
   "metadata": {},
   "source": [
    "Se implemento ademas el mismo problema en Spark (ver otro notebook). Spark fue considerablemente mas lento que el secuencial, en paralelo con \"delayed\" y la combinacion de sklearn y dask-ml."
   ]
  }
 ],
 "metadata": {
  "kernelspec": {
   "display_name": "Python 3",
   "language": "python",
   "name": "python3"
  },
  "language_info": {
   "codemirror_mode": {
    "name": "ipython",
    "version": 3
   },
   "file_extension": ".py",
   "mimetype": "text/x-python",
   "name": "python",
   "nbconvert_exporter": "python",
   "pygments_lexer": "ipython3",
   "version": "3.5.4"
  }
 },
 "nbformat": 4,
 "nbformat_minor": 2
}
