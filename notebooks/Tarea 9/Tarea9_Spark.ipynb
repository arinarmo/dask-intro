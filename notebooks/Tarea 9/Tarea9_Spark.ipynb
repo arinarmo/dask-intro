{
 "cells": [
  {
   "cell_type": "code",
   "execution_count": 1,
   "metadata": {},
   "outputs": [],
   "source": [
    "from pyspark.ml.tuning import CrossValidator, ParamGridBuilder\n",
    "from pyspark.ml.regression import LinearRegression\n",
    "from pyspark.sql import SparkSession\n",
    "from pyspark.sql.functions import *\n",
    "from pyspark.ml.evaluation import RegressionEvaluator\n",
    "from pyspark.ml.feature import RFormula\n",
    "import numpy as np\n",
    "import time"
   ]
  },
  {
   "cell_type": "code",
   "execution_count": 2,
   "metadata": {},
   "outputs": [],
   "source": [
    "spark = SparkSession.builder.master(\"local[*]\").getOrCreate()"
   ]
  },
  {
   "cell_type": "markdown",
   "metadata": {},
   "source": [
    "Primero se lee la base guardada previamente en el notebook de dask"
   ]
  },
  {
   "cell_type": "code",
   "execution_count": 3,
   "metadata": {},
   "outputs": [
    {
     "name": "stdout",
     "output_type": "stream",
     "text": [
      "+-----------+---------------+-------------+-------------------+----------+----------+\n",
      "|fare_amount|passenger_count|trip_distance|                  y|car_type_A|car_type_B|\n",
      "+-----------+---------------+-------------+-------------------+----------+----------+\n",
      "|       22.0|              1|          6.9|0.20909090909090908|         1|         0|\n",
      "|        9.0|              1|         1.81|                0.0|         1|         0|\n",
      "|        7.5|              1|         0.96|0.13333333333333333|         1|         0|\n",
      "|        8.5|              1|          1.9|0.11764705882352941|         1|         0|\n",
      "|        7.5|              1|          1.0|0.22133333333333333|         1|         0|\n",
      "|        9.5|              5|         1.71|0.15789473684210525|         1|         0|\n",
      "|        8.0|              1|         1.27|             0.1875|         1|         0|\n",
      "|        7.5|              4|         1.55|0.21333333333333335|         1|         0|\n",
      "|        6.0|              5|         0.54|               0.26|         1|         0|\n",
      "|       52.0|              1|        15.38| 0.5769230769230769|         1|         0|\n",
      "|       28.5|              5|         7.36|0.10526315789473684|         1|         0|\n",
      "|       32.0|              1|          7.8|            0.15625|         1|         0|\n",
      "|       14.0|              1|          3.6|                0.0|         1|         0|\n",
      "|       12.5|              1|         3.37|                0.0|         1|         0|\n",
      "|       14.0|              1|         3.28|0.10714285714285714|         1|         0|\n",
      "|        5.5|              1|          0.6|                0.0|         1|         0|\n",
      "|       10.5|              3|          2.1|0.22380952380952382|         1|         0|\n",
      "|       17.5|              1|          5.7|                0.0|         0|         1|\n",
      "|       11.0|              1|          1.7|0.29090909090909095|         0|         1|\n",
      "|        6.5|              5|          1.5|                0.2|         0|         1|\n",
      "+-----------+---------------+-------------+-------------------+----------+----------+\n",
      "only showing top 20 rows\n",
      "\n"
     ]
    }
   ],
   "source": [
    "data = spark.read.csv(\"0.part\", header =True, inferSchema = True)\n",
    "\n",
    "data = data.drop(\"_c0\")\n",
    "data.show()"
   ]
  },
  {
   "cell_type": "markdown",
   "metadata": {},
   "source": [
    "Se crea la formula de la regresion (para no tener que generar las variables label y features manualmente)"
   ]
  },
  {
   "cell_type": "code",
   "execution_count": 4,
   "metadata": {},
   "outputs": [],
   "source": [
    "f = RFormula(formula = \"y ~ .\")\n",
    "data = f.fit(data).transform(data)"
   ]
  },
  {
   "cell_type": "markdown",
   "metadata": {},
   "source": [
    "Se crea el grid"
   ]
  },
  {
   "cell_type": "code",
   "execution_count": 5,
   "metadata": {},
   "outputs": [],
   "source": [
    "ridge = LinearRegression(elasticNetParam=0.0)\n",
    "\n",
    "paramGrid = ParamGridBuilder().addGrid(ridge.regParam,[0.01, 0.03, 0.05, 0.07, 0.09, 0.1]).build()\n",
    "\n",
    "evaluator = RegressionEvaluator(metricName='mse')\n",
    "cv = CrossValidator(estimatorParamMaps=paramGrid,\n",
    "                   estimator = ridge,\n",
    "                   evaluator = evaluator,\n",
    "                   numFolds = 10,\n",
    "                   parallelism = 4)"
   ]
  },
  {
   "cell_type": "markdown",
   "metadata": {},
   "source": [
    "Se ejecuta el grid"
   ]
  },
  {
   "cell_type": "code",
   "execution_count": 6,
   "metadata": {},
   "outputs": [
    {
     "name": "stdout",
     "output_type": "stream",
     "text": [
      "CPU times: user 2.99 s, sys: 955 ms, total: 3.95 s\n",
      "Wall time: 20.9 s\n"
     ]
    }
   ],
   "source": [
    "%%time\n",
    "ridge_cv = cv.fit(data)"
   ]
  },
  {
   "cell_type": "code",
   "execution_count": 7,
   "metadata": {},
   "outputs": [
    {
     "name": "stdout",
     "output_type": "stream",
     "text": [
      "Loss: 0.016302\n"
     ]
    }
   ],
   "source": [
    "print(\"Loss: %f\"%(np.min(ridge_cv.avgMetrics)))"
   ]
  }
 ],
 "metadata": {
  "kernelspec": {
   "display_name": "Python 3",
   "language": "python",
   "name": "python3"
  },
  "language_info": {
   "codemirror_mode": {
    "name": "ipython",
    "version": 3
   },
   "file_extension": ".py",
   "mimetype": "text/x-python",
   "name": "python",
   "nbconvert_exporter": "python",
   "pygments_lexer": "ipython3",
   "version": "3.6.3"
  }
 },
 "nbformat": 4,
 "nbformat_minor": 2
}
